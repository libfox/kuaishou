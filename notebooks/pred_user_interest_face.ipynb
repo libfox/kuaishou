{
 "cells": [
  {
   "cell_type": "code",
   "execution_count": 1,
   "metadata": {},
   "outputs": [],
   "source": [
    "from IPython.core.interactiveshell import InteractiveShell\n",
    "InteractiveShell.ast_node_interactivity = \"all\"\n",
    "\n",
    "%matplotlib inline"
   ]
  },
  {
   "cell_type": "markdown",
   "metadata": {},
   "source": [
    "## 面部特征数据"
   ]
  },
  {
   "cell_type": "code",
   "execution_count": 2,
   "metadata": {},
   "outputs": [],
   "source": [
    "import pandas as pd\n",
    "\n",
    "train_face_path = '../data/train_face.txt'\n",
    "train_face_columns = ['photo_id', 'data']\n",
    "train_face_df = pd.read_table(train_face_path, names=train_face_columns)"
   ]
  },
  {
   "cell_type": "code",
   "execution_count": 3,
   "metadata": {},
   "outputs": [
    {
     "data": {
      "text/html": [
       "<div>\n",
       "<style scoped>\n",
       "    .dataframe tbody tr th:only-of-type {\n",
       "        vertical-align: middle;\n",
       "    }\n",
       "\n",
       "    .dataframe tbody tr th {\n",
       "        vertical-align: top;\n",
       "    }\n",
       "\n",
       "    .dataframe thead th {\n",
       "        text-align: right;\n",
       "    }\n",
       "</style>\n",
       "<table border=\"1\" class=\"dataframe\">\n",
       "  <thead>\n",
       "    <tr style=\"text-align: right;\">\n",
       "      <th></th>\n",
       "      <th>photo_id</th>\n",
       "      <th>data</th>\n",
       "    </tr>\n",
       "  </thead>\n",
       "  <tbody>\n",
       "    <tr>\n",
       "      <th>0</th>\n",
       "      <td>9</td>\n",
       "      <td>[[0.0377, 1, 3, 50]]</td>\n",
       "    </tr>\n",
       "    <tr>\n",
       "      <th>1</th>\n",
       "      <td>3</td>\n",
       "      <td>[[0.219, 0, 22, 66]]</td>\n",
       "    </tr>\n",
       "    <tr>\n",
       "      <th>2</th>\n",
       "      <td>8</td>\n",
       "      <td>[[0.0849, 0, 13, 54], [0.1221, 0, 22, 88]]</td>\n",
       "    </tr>\n",
       "    <tr>\n",
       "      <th>3</th>\n",
       "      <td>2</td>\n",
       "      <td>[[0.2018, 1, 18, 60]]</td>\n",
       "    </tr>\n",
       "    <tr>\n",
       "      <th>4</th>\n",
       "      <td>19</td>\n",
       "      <td>[[0.0123, 0, 24, 52]]</td>\n",
       "    </tr>\n",
       "  </tbody>\n",
       "</table>\n",
       "</div>"
      ],
      "text/plain": [
       "   photo_id                                        data\n",
       "0         9                        [[0.0377, 1, 3, 50]]\n",
       "1         3                        [[0.219, 0, 22, 66]]\n",
       "2         8  [[0.0849, 0, 13, 54], [0.1221, 0, 22, 88]]\n",
       "3         2                       [[0.2018, 1, 18, 60]]\n",
       "4        19                       [[0.0123, 0, 24, 52]]"
      ]
     },
     "execution_count": 3,
     "metadata": {},
     "output_type": "execute_result"
    }
   ],
   "source": [
    "train_face_df.head()"
   ]
  },
  {
   "cell_type": "code",
   "execution_count": 4,
   "metadata": {},
   "outputs": [
    {
     "data": {
      "text/plain": [
       "[0.1221, 0, 22, 88]"
      ]
     },
     "execution_count": 4,
     "metadata": {},
     "output_type": "execute_result"
    }
   ],
   "source": [
    "# 取面部特征中面积最大的\n",
    "\n",
    "import json\n",
    "\n",
    "def get_max_area_face(row):\n",
    "    ls = json.loads(row)\n",
    "    r = [0, 0, 0, 0]\n",
    "    for l in ls:\n",
    "        if r[0] < l[0]:\n",
    "            r = l\n",
    "    return r\n",
    "\n",
    "\n",
    "get_max_area_face('[[0.0849, 0, 13, 54], [0.1221, 0, 22, 88]]')\n",
    "    "
   ]
  },
  {
   "cell_type": "code",
   "execution_count": 5,
   "metadata": {},
   "outputs": [],
   "source": [
    "train_face_df['data'] = train_face_df['data'].apply(get_max_area_face)"
   ]
  },
  {
   "cell_type": "code",
   "execution_count": 6,
   "metadata": {},
   "outputs": [
    {
     "data": {
      "text/html": [
       "<div>\n",
       "<style scoped>\n",
       "    .dataframe tbody tr th:only-of-type {\n",
       "        vertical-align: middle;\n",
       "    }\n",
       "\n",
       "    .dataframe tbody tr th {\n",
       "        vertical-align: top;\n",
       "    }\n",
       "\n",
       "    .dataframe thead th {\n",
       "        text-align: right;\n",
       "    }\n",
       "</style>\n",
       "<table border=\"1\" class=\"dataframe\">\n",
       "  <thead>\n",
       "    <tr style=\"text-align: right;\">\n",
       "      <th></th>\n",
       "      <th>photo_id</th>\n",
       "      <th>data</th>\n",
       "    </tr>\n",
       "  </thead>\n",
       "  <tbody>\n",
       "    <tr>\n",
       "      <th>0</th>\n",
       "      <td>9</td>\n",
       "      <td>[0.0377, 1, 3, 50]</td>\n",
       "    </tr>\n",
       "    <tr>\n",
       "      <th>1</th>\n",
       "      <td>3</td>\n",
       "      <td>[0.219, 0, 22, 66]</td>\n",
       "    </tr>\n",
       "    <tr>\n",
       "      <th>2</th>\n",
       "      <td>8</td>\n",
       "      <td>[0.1221, 0, 22, 88]</td>\n",
       "    </tr>\n",
       "    <tr>\n",
       "      <th>3</th>\n",
       "      <td>2</td>\n",
       "      <td>[0.2018, 1, 18, 60]</td>\n",
       "    </tr>\n",
       "    <tr>\n",
       "      <th>4</th>\n",
       "      <td>19</td>\n",
       "      <td>[0.0123, 0, 24, 52]</td>\n",
       "    </tr>\n",
       "  </tbody>\n",
       "</table>\n",
       "</div>"
      ],
      "text/plain": [
       "   photo_id                 data\n",
       "0         9   [0.0377, 1, 3, 50]\n",
       "1         3   [0.219, 0, 22, 66]\n",
       "2         8  [0.1221, 0, 22, 88]\n",
       "3         2  [0.2018, 1, 18, 60]\n",
       "4        19  [0.0123, 0, 24, 52]"
      ]
     },
     "execution_count": 6,
     "metadata": {},
     "output_type": "execute_result"
    }
   ],
   "source": [
    "train_face_df.head()"
   ]
  },
  {
   "cell_type": "code",
   "execution_count": 7,
   "metadata": {},
   "outputs": [],
   "source": [
    "# data列拆分：\n",
    "train_face_details_df = pd.DataFrame(\n",
    "    data=list(train_face_df['data'].values), \n",
    "    columns=['area', 'gender', 'age', 'score']\n",
    ")"
   ]
  },
  {
   "cell_type": "code",
   "execution_count": 8,
   "metadata": {},
   "outputs": [],
   "source": [
    "train_face_df = pd.concat([train_face_df, train_face_details_df], axis=1).drop(['data'], axis=1)"
   ]
  },
  {
   "cell_type": "code",
   "execution_count": 9,
   "metadata": {},
   "outputs": [
    {
     "data": {
      "text/html": [
       "<div>\n",
       "<style scoped>\n",
       "    .dataframe tbody tr th:only-of-type {\n",
       "        vertical-align: middle;\n",
       "    }\n",
       "\n",
       "    .dataframe tbody tr th {\n",
       "        vertical-align: top;\n",
       "    }\n",
       "\n",
       "    .dataframe thead th {\n",
       "        text-align: right;\n",
       "    }\n",
       "</style>\n",
       "<table border=\"1\" class=\"dataframe\">\n",
       "  <thead>\n",
       "    <tr style=\"text-align: right;\">\n",
       "      <th></th>\n",
       "      <th>photo_id</th>\n",
       "      <th>area</th>\n",
       "      <th>gender</th>\n",
       "      <th>age</th>\n",
       "      <th>score</th>\n",
       "    </tr>\n",
       "  </thead>\n",
       "  <tbody>\n",
       "    <tr>\n",
       "      <th>0</th>\n",
       "      <td>9</td>\n",
       "      <td>0.0377</td>\n",
       "      <td>1</td>\n",
       "      <td>3</td>\n",
       "      <td>50</td>\n",
       "    </tr>\n",
       "    <tr>\n",
       "      <th>1</th>\n",
       "      <td>3</td>\n",
       "      <td>0.2190</td>\n",
       "      <td>0</td>\n",
       "      <td>22</td>\n",
       "      <td>66</td>\n",
       "    </tr>\n",
       "    <tr>\n",
       "      <th>2</th>\n",
       "      <td>8</td>\n",
       "      <td>0.1221</td>\n",
       "      <td>0</td>\n",
       "      <td>22</td>\n",
       "      <td>88</td>\n",
       "    </tr>\n",
       "    <tr>\n",
       "      <th>3</th>\n",
       "      <td>2</td>\n",
       "      <td>0.2018</td>\n",
       "      <td>1</td>\n",
       "      <td>18</td>\n",
       "      <td>60</td>\n",
       "    </tr>\n",
       "    <tr>\n",
       "      <th>4</th>\n",
       "      <td>19</td>\n",
       "      <td>0.0123</td>\n",
       "      <td>0</td>\n",
       "      <td>24</td>\n",
       "      <td>52</td>\n",
       "    </tr>\n",
       "  </tbody>\n",
       "</table>\n",
       "</div>"
      ],
      "text/plain": [
       "   photo_id    area  gender  age  score\n",
       "0         9  0.0377       1    3     50\n",
       "1         3  0.2190       0   22     66\n",
       "2         8  0.1221       0   22     88\n",
       "3         2  0.2018       1   18     60\n",
       "4        19  0.0123       0   24     52"
      ]
     },
     "execution_count": 9,
     "metadata": {},
     "output_type": "execute_result"
    }
   ],
   "source": [
    "train_face_df.head()"
   ]
  },
  {
   "cell_type": "markdown",
   "metadata": {},
   "source": [
    "## 交互数据"
   ]
  },
  {
   "cell_type": "code",
   "execution_count": 10,
   "metadata": {},
   "outputs": [],
   "source": [
    "import pandas as pd\n",
    "\n",
    "train_interaction_path = '../data/train_interaction.txt'\n",
    "train_interaction_columns = ['user_id', 'photo_id', 'click', 'like', 'follow', 'time', 'playing_time', 'duration_time']\n",
    "train_interaction_df = pd.read_table(train_interaction_path, names=train_interaction_columns)"
   ]
  },
  {
   "cell_type": "code",
   "execution_count": 11,
   "metadata": {},
   "outputs": [
    {
     "data": {
      "text/html": [
       "<div>\n",
       "<style scoped>\n",
       "    .dataframe tbody tr th:only-of-type {\n",
       "        vertical-align: middle;\n",
       "    }\n",
       "\n",
       "    .dataframe tbody tr th {\n",
       "        vertical-align: top;\n",
       "    }\n",
       "\n",
       "    .dataframe thead th {\n",
       "        text-align: right;\n",
       "    }\n",
       "</style>\n",
       "<table border=\"1\" class=\"dataframe\">\n",
       "  <thead>\n",
       "    <tr style=\"text-align: right;\">\n",
       "      <th></th>\n",
       "      <th>user_id</th>\n",
       "      <th>photo_id</th>\n",
       "      <th>click</th>\n",
       "      <th>like</th>\n",
       "      <th>follow</th>\n",
       "      <th>time</th>\n",
       "      <th>playing_time</th>\n",
       "      <th>duration_time</th>\n",
       "    </tr>\n",
       "  </thead>\n",
       "  <tbody>\n",
       "    <tr>\n",
       "      <th>0</th>\n",
       "      <td>1637</td>\n",
       "      <td>6484142</td>\n",
       "      <td>0</td>\n",
       "      <td>0</td>\n",
       "      <td>0</td>\n",
       "      <td>761036604603</td>\n",
       "      <td>0</td>\n",
       "      <td>11</td>\n",
       "    </tr>\n",
       "    <tr>\n",
       "      <th>1</th>\n",
       "      <td>1637</td>\n",
       "      <td>4647664</td>\n",
       "      <td>0</td>\n",
       "      <td>0</td>\n",
       "      <td>0</td>\n",
       "      <td>761035501863</td>\n",
       "      <td>0</td>\n",
       "      <td>11</td>\n",
       "    </tr>\n",
       "    <tr>\n",
       "      <th>2</th>\n",
       "      <td>1637</td>\n",
       "      <td>4994626</td>\n",
       "      <td>1</td>\n",
       "      <td>0</td>\n",
       "      <td>0</td>\n",
       "      <td>761036933553</td>\n",
       "      <td>11</td>\n",
       "      <td>10</td>\n",
       "    </tr>\n",
       "    <tr>\n",
       "      <th>3</th>\n",
       "      <td>1637</td>\n",
       "      <td>4416881</td>\n",
       "      <td>0</td>\n",
       "      <td>0</td>\n",
       "      <td>0</td>\n",
       "      <td>761119247892</td>\n",
       "      <td>0</td>\n",
       "      <td>9</td>\n",
       "    </tr>\n",
       "    <tr>\n",
       "      <th>4</th>\n",
       "      <td>1637</td>\n",
       "      <td>2597756</td>\n",
       "      <td>0</td>\n",
       "      <td>0</td>\n",
       "      <td>0</td>\n",
       "      <td>761119421332</td>\n",
       "      <td>0</td>\n",
       "      <td>11</td>\n",
       "    </tr>\n",
       "  </tbody>\n",
       "</table>\n",
       "</div>"
      ],
      "text/plain": [
       "   user_id  photo_id  click  like  follow          time  playing_time  \\\n",
       "0     1637   6484142      0     0       0  761036604603             0   \n",
       "1     1637   4647664      0     0       0  761035501863             0   \n",
       "2     1637   4994626      1     0       0  761036933553            11   \n",
       "3     1637   4416881      0     0       0  761119247892             0   \n",
       "4     1637   2597756      0     0       0  761119421332             0   \n",
       "\n",
       "   duration_time  \n",
       "0             11  \n",
       "1             11  \n",
       "2             10  \n",
       "3              9  \n",
       "4             11  "
      ]
     },
     "execution_count": 11,
     "metadata": {},
     "output_type": "execute_result"
    }
   ],
   "source": [
    "train_interaction_df.head()"
   ]
  },
  {
   "cell_type": "markdown",
   "metadata": {},
   "source": [
    "## 拼接数据"
   ]
  },
  {
   "cell_type": "code",
   "execution_count": 12,
   "metadata": {},
   "outputs": [],
   "source": [
    "# 拼接交互数据与面部特征数据\n",
    "train_df = pd.merge(train_interaction_df, train_face_df, on='photo_id', how='left')"
   ]
  },
  {
   "cell_type": "code",
   "execution_count": 13,
   "metadata": {
    "scrolled": false
   },
   "outputs": [
    {
     "data": {
      "text/html": [
       "<div>\n",
       "<style scoped>\n",
       "    .dataframe tbody tr th:only-of-type {\n",
       "        vertical-align: middle;\n",
       "    }\n",
       "\n",
       "    .dataframe tbody tr th {\n",
       "        vertical-align: top;\n",
       "    }\n",
       "\n",
       "    .dataframe thead th {\n",
       "        text-align: right;\n",
       "    }\n",
       "</style>\n",
       "<table border=\"1\" class=\"dataframe\">\n",
       "  <thead>\n",
       "    <tr style=\"text-align: right;\">\n",
       "      <th></th>\n",
       "      <th>user_id</th>\n",
       "      <th>photo_id</th>\n",
       "      <th>click</th>\n",
       "      <th>like</th>\n",
       "      <th>follow</th>\n",
       "      <th>time</th>\n",
       "      <th>playing_time</th>\n",
       "      <th>duration_time</th>\n",
       "      <th>area</th>\n",
       "      <th>gender</th>\n",
       "      <th>age</th>\n",
       "      <th>score</th>\n",
       "    </tr>\n",
       "  </thead>\n",
       "  <tbody>\n",
       "    <tr>\n",
       "      <th>0</th>\n",
       "      <td>1637</td>\n",
       "      <td>6484142</td>\n",
       "      <td>0</td>\n",
       "      <td>0</td>\n",
       "      <td>0</td>\n",
       "      <td>761036604603</td>\n",
       "      <td>0</td>\n",
       "      <td>11</td>\n",
       "      <td>NaN</td>\n",
       "      <td>NaN</td>\n",
       "      <td>NaN</td>\n",
       "      <td>NaN</td>\n",
       "    </tr>\n",
       "    <tr>\n",
       "      <th>1</th>\n",
       "      <td>1637</td>\n",
       "      <td>4647664</td>\n",
       "      <td>0</td>\n",
       "      <td>0</td>\n",
       "      <td>0</td>\n",
       "      <td>761035501863</td>\n",
       "      <td>0</td>\n",
       "      <td>11</td>\n",
       "      <td>NaN</td>\n",
       "      <td>NaN</td>\n",
       "      <td>NaN</td>\n",
       "      <td>NaN</td>\n",
       "    </tr>\n",
       "    <tr>\n",
       "      <th>2</th>\n",
       "      <td>1637</td>\n",
       "      <td>4994626</td>\n",
       "      <td>1</td>\n",
       "      <td>0</td>\n",
       "      <td>0</td>\n",
       "      <td>761036933553</td>\n",
       "      <td>11</td>\n",
       "      <td>10</td>\n",
       "      <td>0.3783</td>\n",
       "      <td>1.0</td>\n",
       "      <td>27.0</td>\n",
       "      <td>48.0</td>\n",
       "    </tr>\n",
       "    <tr>\n",
       "      <th>3</th>\n",
       "      <td>1637</td>\n",
       "      <td>4416881</td>\n",
       "      <td>0</td>\n",
       "      <td>0</td>\n",
       "      <td>0</td>\n",
       "      <td>761119247892</td>\n",
       "      <td>0</td>\n",
       "      <td>9</td>\n",
       "      <td>NaN</td>\n",
       "      <td>NaN</td>\n",
       "      <td>NaN</td>\n",
       "      <td>NaN</td>\n",
       "    </tr>\n",
       "    <tr>\n",
       "      <th>4</th>\n",
       "      <td>1637</td>\n",
       "      <td>2597756</td>\n",
       "      <td>0</td>\n",
       "      <td>0</td>\n",
       "      <td>0</td>\n",
       "      <td>761119421332</td>\n",
       "      <td>0</td>\n",
       "      <td>11</td>\n",
       "      <td>NaN</td>\n",
       "      <td>NaN</td>\n",
       "      <td>NaN</td>\n",
       "      <td>NaN</td>\n",
       "    </tr>\n",
       "  </tbody>\n",
       "</table>\n",
       "</div>"
      ],
      "text/plain": [
       "   user_id  photo_id  click  like  follow          time  playing_time  \\\n",
       "0     1637   6484142      0     0       0  761036604603             0   \n",
       "1     1637   4647664      0     0       0  761035501863             0   \n",
       "2     1637   4994626      1     0       0  761036933553            11   \n",
       "3     1637   4416881      0     0       0  761119247892             0   \n",
       "4     1637   2597756      0     0       0  761119421332             0   \n",
       "\n",
       "   duration_time    area  gender   age  score  \n",
       "0             11     NaN     NaN   NaN    NaN  \n",
       "1             11     NaN     NaN   NaN    NaN  \n",
       "2             10  0.3783     1.0  27.0   48.0  \n",
       "3              9     NaN     NaN   NaN    NaN  \n",
       "4             11     NaN     NaN   NaN    NaN  "
      ]
     },
     "execution_count": 13,
     "metadata": {},
     "output_type": "execute_result"
    }
   ],
   "source": [
    "train_df.head()"
   ]
  },
  {
   "cell_type": "code",
   "execution_count": 14,
   "metadata": {},
   "outputs": [
    {
     "data": {
      "text/plain": [
       "(12377111, 12)"
      ]
     },
     "execution_count": 14,
     "metadata": {},
     "output_type": "execute_result"
    }
   ],
   "source": [
    "import numpy as np\n",
    "\n",
    "train_df[np.isnan(train_df['area'])].shape"
   ]
  },
  {
   "cell_type": "code",
   "execution_count": 15,
   "metadata": {},
   "outputs": [
    {
     "data": {
      "text/plain": [
       "(20854344, 12)"
      ]
     },
     "execution_count": 15,
     "metadata": {},
     "output_type": "execute_result"
    }
   ],
   "source": [
    "train_df.shape"
   ]
  },
  {
   "cell_type": "code",
   "execution_count": 16,
   "metadata": {},
   "outputs": [],
   "source": [
    "train_df = train_df[['user_id', 'photo_id', 'time', 'duration_time', 'click', 'gender', 'age', 'score']]"
   ]
  },
  {
   "cell_type": "code",
   "execution_count": 17,
   "metadata": {},
   "outputs": [],
   "source": [
    "# 空值用平均值填充\n",
    "# train_df = train_df.fillna(0)\n",
    "train_df = train_df.fillna(train_df.mean())"
   ]
  },
  {
   "cell_type": "code",
   "execution_count": 18,
   "metadata": {
    "scrolled": false
   },
   "outputs": [
    {
     "data": {
      "text/html": [
       "<div>\n",
       "<style scoped>\n",
       "    .dataframe tbody tr th:only-of-type {\n",
       "        vertical-align: middle;\n",
       "    }\n",
       "\n",
       "    .dataframe tbody tr th {\n",
       "        vertical-align: top;\n",
       "    }\n",
       "\n",
       "    .dataframe thead th {\n",
       "        text-align: right;\n",
       "    }\n",
       "</style>\n",
       "<table border=\"1\" class=\"dataframe\">\n",
       "  <thead>\n",
       "    <tr style=\"text-align: right;\">\n",
       "      <th></th>\n",
       "      <th>user_id</th>\n",
       "      <th>photo_id</th>\n",
       "      <th>time</th>\n",
       "      <th>duration_time</th>\n",
       "      <th>click</th>\n",
       "      <th>gender</th>\n",
       "      <th>age</th>\n",
       "      <th>score</th>\n",
       "    </tr>\n",
       "  </thead>\n",
       "  <tbody>\n",
       "    <tr>\n",
       "      <th>0</th>\n",
       "      <td>1637</td>\n",
       "      <td>6484142</td>\n",
       "      <td>761036604603</td>\n",
       "      <td>11</td>\n",
       "      <td>0</td>\n",
       "      <td>0.486066</td>\n",
       "      <td>24.287269</td>\n",
       "      <td>55.895569</td>\n",
       "    </tr>\n",
       "    <tr>\n",
       "      <th>1</th>\n",
       "      <td>1637</td>\n",
       "      <td>4647664</td>\n",
       "      <td>761035501863</td>\n",
       "      <td>11</td>\n",
       "      <td>0</td>\n",
       "      <td>0.486066</td>\n",
       "      <td>24.287269</td>\n",
       "      <td>55.895569</td>\n",
       "    </tr>\n",
       "    <tr>\n",
       "      <th>2</th>\n",
       "      <td>1637</td>\n",
       "      <td>4994626</td>\n",
       "      <td>761036933553</td>\n",
       "      <td>10</td>\n",
       "      <td>1</td>\n",
       "      <td>1.000000</td>\n",
       "      <td>27.000000</td>\n",
       "      <td>48.000000</td>\n",
       "    </tr>\n",
       "    <tr>\n",
       "      <th>3</th>\n",
       "      <td>1637</td>\n",
       "      <td>4416881</td>\n",
       "      <td>761119247892</td>\n",
       "      <td>9</td>\n",
       "      <td>0</td>\n",
       "      <td>0.486066</td>\n",
       "      <td>24.287269</td>\n",
       "      <td>55.895569</td>\n",
       "    </tr>\n",
       "    <tr>\n",
       "      <th>4</th>\n",
       "      <td>1637</td>\n",
       "      <td>2597756</td>\n",
       "      <td>761119421332</td>\n",
       "      <td>11</td>\n",
       "      <td>0</td>\n",
       "      <td>0.486066</td>\n",
       "      <td>24.287269</td>\n",
       "      <td>55.895569</td>\n",
       "    </tr>\n",
       "  </tbody>\n",
       "</table>\n",
       "</div>"
      ],
      "text/plain": [
       "   user_id  photo_id          time  duration_time  click    gender        age  \\\n",
       "0     1637   6484142  761036604603             11      0  0.486066  24.287269   \n",
       "1     1637   4647664  761035501863             11      0  0.486066  24.287269   \n",
       "2     1637   4994626  761036933553             10      1  1.000000  27.000000   \n",
       "3     1637   4416881  761119247892              9      0  0.486066  24.287269   \n",
       "4     1637   2597756  761119421332             11      0  0.486066  24.287269   \n",
       "\n",
       "       score  \n",
       "0  55.895569  \n",
       "1  55.895569  \n",
       "2  48.000000  \n",
       "3  55.895569  \n",
       "4  55.895569  "
      ]
     },
     "execution_count": 18,
     "metadata": {},
     "output_type": "execute_result"
    }
   ],
   "source": [
    "train_df.head()"
   ]
  },
  {
   "cell_type": "markdown",
   "metadata": {},
   "source": [
    "## 数据转化"
   ]
  },
  {
   "cell_type": "code",
   "execution_count": 19,
   "metadata": {},
   "outputs": [
    {
     "data": {
      "image/png": "[encoded data removed]",
      "text/plain": [
       "<Figure size 432x288 with 1 Axes>"
      ]
     },
     "metadata": {},
     "output_type": "display_data"
    }
   ],
   "source": [
    "# 看下age、score散点分布：\n",
    "\n",
    "import matplotlib.pyplot as plt\n",
    "from mlxtend.plotting import category_scatter\n",
    "\n",
    "fig = category_scatter(\n",
    "    x='age', \n",
    "    y='score', \n",
    "    label_col='click', \n",
    "    data=train_df[train_df['user_id'] == 1000], \n",
    "    legend_loc='upper left'\n",
    ")"
   ]
  },
  {
   "cell_type": "code",
   "execution_count": 20,
   "metadata": {},
   "outputs": [
    {
     "data": {
      "image/png": "[encoded data removed]",
      "text/plain": [
       "<Figure size 432x288 with 1 Axes>"
      ]
     },
     "metadata": {},
     "output_type": "display_data"
    }
   ],
   "source": [
    "# 看下time、duration_time散点分布：\n",
    "fig = category_scatter(\n",
    "    x='time', \n",
    "    y='duration_time', \n",
    "    label_col='click', \n",
    "    data=train_df[train_df['user_id'] == 1000], \n",
    "    legend_loc='upper left'\n",
    ")"
   ]
  },
  {
   "cell_type": "code",
   "execution_count": 21,
   "metadata": {},
   "outputs": [],
   "source": [
    "# 时间具有周期性，转为0~24小时数\n",
    "# time、age、score分布比较平均，用MinMaxScaler缩放到0~1\n",
    "# duration_time有些离群点，用QuantileTransformer做数据变换"
   ]
  },
  {
   "cell_type": "code",
   "execution_count": 22,
   "metadata": {},
   "outputs": [],
   "source": [
    "# 时间戳标准化为0~24小时\n",
    "def to_hour(time):\n",
    "    return int(time / 3600000) % 24"
   ]
  },
  {
   "cell_type": "code",
   "execution_count": 23,
   "metadata": {},
   "outputs": [
    {
     "data": {
      "text/html": [
       "<div>\n",
       "<style scoped>\n",
       "    .dataframe tbody tr th:only-of-type {\n",
       "        vertical-align: middle;\n",
       "    }\n",
       "\n",
       "    .dataframe tbody tr th {\n",
       "        vertical-align: top;\n",
       "    }\n",
       "\n",
       "    .dataframe thead th {\n",
       "        text-align: right;\n",
       "    }\n",
       "</style>\n",
       "<table border=\"1\" class=\"dataframe\">\n",
       "  <thead>\n",
       "    <tr style=\"text-align: right;\">\n",
       "      <th></th>\n",
       "      <th>user_id</th>\n",
       "      <th>photo_id</th>\n",
       "      <th>time</th>\n",
       "      <th>duration_time</th>\n",
       "      <th>click</th>\n",
       "      <th>gender</th>\n",
       "      <th>age</th>\n",
       "      <th>score</th>\n",
       "    </tr>\n",
       "  </thead>\n",
       "  <tbody>\n",
       "    <tr>\n",
       "      <th>0</th>\n",
       "      <td>1637</td>\n",
       "      <td>6484142</td>\n",
       "      <td>7</td>\n",
       "      <td>11</td>\n",
       "      <td>0</td>\n",
       "      <td>0.486066</td>\n",
       "      <td>24.287269</td>\n",
       "      <td>55.895569</td>\n",
       "    </tr>\n",
       "    <tr>\n",
       "      <th>1</th>\n",
       "      <td>1637</td>\n",
       "      <td>4647664</td>\n",
       "      <td>6</td>\n",
       "      <td>11</td>\n",
       "      <td>0</td>\n",
       "      <td>0.486066</td>\n",
       "      <td>24.287269</td>\n",
       "      <td>55.895569</td>\n",
       "    </tr>\n",
       "    <tr>\n",
       "      <th>2</th>\n",
       "      <td>1637</td>\n",
       "      <td>4994626</td>\n",
       "      <td>7</td>\n",
       "      <td>10</td>\n",
       "      <td>1</td>\n",
       "      <td>1.000000</td>\n",
       "      <td>27.000000</td>\n",
       "      <td>48.000000</td>\n",
       "    </tr>\n",
       "    <tr>\n",
       "      <th>3</th>\n",
       "      <td>1637</td>\n",
       "      <td>4416881</td>\n",
       "      <td>6</td>\n",
       "      <td>9</td>\n",
       "      <td>0</td>\n",
       "      <td>0.486066</td>\n",
       "      <td>24.287269</td>\n",
       "      <td>55.895569</td>\n",
       "    </tr>\n",
       "    <tr>\n",
       "      <th>4</th>\n",
       "      <td>1637</td>\n",
       "      <td>2597756</td>\n",
       "      <td>6</td>\n",
       "      <td>11</td>\n",
       "      <td>0</td>\n",
       "      <td>0.486066</td>\n",
       "      <td>24.287269</td>\n",
       "      <td>55.895569</td>\n",
       "    </tr>\n",
       "  </tbody>\n",
       "</table>\n",
       "</div>"
      ],
      "text/plain": [
       "   user_id  photo_id  time  duration_time  click    gender        age  \\\n",
       "0     1637   6484142     7             11      0  0.486066  24.287269   \n",
       "1     1637   4647664     6             11      0  0.486066  24.287269   \n",
       "2     1637   4994626     7             10      1  1.000000  27.000000   \n",
       "3     1637   4416881     6              9      0  0.486066  24.287269   \n",
       "4     1637   2597756     6             11      0  0.486066  24.287269   \n",
       "\n",
       "       score  \n",
       "0  55.895569  \n",
       "1  55.895569  \n",
       "2  48.000000  \n",
       "3  55.895569  \n",
       "4  55.895569  "
      ]
     },
     "execution_count": 23,
     "metadata": {},
     "output_type": "execute_result"
    }
   ],
   "source": [
    "train_df['time'] = train_df['time'].apply(to_hour)\n",
    "train_df.head()"
   ]
  },
  {
   "cell_type": "code",
   "execution_count": 24,
   "metadata": {},
   "outputs": [
    {
     "name": "stderr",
     "output_type": "stream",
     "text": [
      "/Users/sun/PycharmProjects/kuaishou/venv/lib/python3.6/site-packages/sklearn/utils/validation.py:475: DataConversionWarning: Data with input dtype int64 was converted to float64 by MinMaxScaler.\n",
      "  warnings.warn(msg, DataConversionWarning)\n"
     ]
    }
   ],
   "source": [
    "from sklearn import preprocessing\n",
    "\n",
    "train_df['age'] = preprocessing.MinMaxScaler().fit_transform(train_df['age'].values.reshape(-1, 1)).flatten()\n",
    "train_df['score'] = preprocessing.MinMaxScaler().fit_transform(train_df['score'].values.reshape(-1, 1)).flatten()\n",
    "train_df['time'] = preprocessing.MinMaxScaler().fit_transform(train_df['time'].values.reshape(-1, 1)).flatten()\n",
    "train_df['duration_time'] = preprocessing.QuantileTransformer().fit_transform(train_df['duration_time'].values.reshape(-1, 1)).flatten()\n"
   ]
  },
  {
   "cell_type": "code",
   "execution_count": 25,
   "metadata": {},
   "outputs": [
    {
     "data": {
      "text/html": [
       "<div>\n",
       "<style scoped>\n",
       "    .dataframe tbody tr th:only-of-type {\n",
       "        vertical-align: middle;\n",
       "    }\n",
       "\n",
       "    .dataframe tbody tr th {\n",
       "        vertical-align: top;\n",
       "    }\n",
       "\n",
       "    .dataframe thead th {\n",
       "        text-align: right;\n",
       "    }\n",
       "</style>\n",
       "<table border=\"1\" class=\"dataframe\">\n",
       "  <thead>\n",
       "    <tr style=\"text-align: right;\">\n",
       "      <th></th>\n",
       "      <th>user_id</th>\n",
       "      <th>photo_id</th>\n",
       "      <th>time</th>\n",
       "      <th>duration_time</th>\n",
       "      <th>click</th>\n",
       "      <th>gender</th>\n",
       "      <th>age</th>\n",
       "      <th>score</th>\n",
       "    </tr>\n",
       "  </thead>\n",
       "  <tbody>\n",
       "    <tr>\n",
       "      <th>0</th>\n",
       "      <td>1637</td>\n",
       "      <td>6484142</td>\n",
       "      <td>0.304348</td>\n",
       "      <td>0.400400</td>\n",
       "      <td>0</td>\n",
       "      <td>0.486066</td>\n",
       "      <td>0.612823</td>\n",
       "      <td>0.454374</td>\n",
       "    </tr>\n",
       "    <tr>\n",
       "      <th>1</th>\n",
       "      <td>1637</td>\n",
       "      <td>4647664</td>\n",
       "      <td>0.260870</td>\n",
       "      <td>0.400400</td>\n",
       "      <td>0</td>\n",
       "      <td>0.486066</td>\n",
       "      <td>0.612823</td>\n",
       "      <td>0.454374</td>\n",
       "    </tr>\n",
       "    <tr>\n",
       "      <th>2</th>\n",
       "      <td>1637</td>\n",
       "      <td>4994626</td>\n",
       "      <td>0.304348</td>\n",
       "      <td>0.193694</td>\n",
       "      <td>1</td>\n",
       "      <td>1.000000</td>\n",
       "      <td>0.684211</td>\n",
       "      <td>0.354430</td>\n",
       "    </tr>\n",
       "    <tr>\n",
       "      <th>3</th>\n",
       "      <td>1637</td>\n",
       "      <td>4416881</td>\n",
       "      <td>0.260870</td>\n",
       "      <td>0.133634</td>\n",
       "      <td>0</td>\n",
       "      <td>0.486066</td>\n",
       "      <td>0.612823</td>\n",
       "      <td>0.454374</td>\n",
       "    </tr>\n",
       "    <tr>\n",
       "      <th>4</th>\n",
       "      <td>1637</td>\n",
       "      <td>2597756</td>\n",
       "      <td>0.260870</td>\n",
       "      <td>0.400400</td>\n",
       "      <td>0</td>\n",
       "      <td>0.486066</td>\n",
       "      <td>0.612823</td>\n",
       "      <td>0.454374</td>\n",
       "    </tr>\n",
       "  </tbody>\n",
       "</table>\n",
       "</div>"
      ],
      "text/plain": [
       "   user_id  photo_id      time  duration_time  click    gender       age  \\\n",
       "0     1637   6484142  0.304348       0.400400      0  0.486066  0.612823   \n",
       "1     1637   4647664  0.260870       0.400400      0  0.486066  0.612823   \n",
       "2     1637   4994626  0.304348       0.193694      1  1.000000  0.684211   \n",
       "3     1637   4416881  0.260870       0.133634      0  0.486066  0.612823   \n",
       "4     1637   2597756  0.260870       0.400400      0  0.486066  0.612823   \n",
       "\n",
       "      score  \n",
       "0  0.454374  \n",
       "1  0.454374  \n",
       "2  0.354430  \n",
       "3  0.454374  \n",
       "4  0.454374  "
      ]
     },
     "execution_count": 25,
     "metadata": {},
     "output_type": "execute_result"
    }
   ],
   "source": [
    "train_df.head()"
   ]
  },
  {
   "cell_type": "markdown",
   "metadata": {},
   "source": [
    "## 清除数据"
   ]
  },
  {
   "cell_type": "code",
   "execution_count": 26,
   "metadata": {},
   "outputs": [
    {
     "data": {
      "text/plain": [
       "2835"
      ]
     },
     "execution_count": 26,
     "metadata": {},
     "output_type": "execute_result"
    }
   ],
   "source": [
    "import gc\n",
    "\n",
    "del train_face_df\n",
    "del train_face_details_df\n",
    "del train_face_columns\n",
    "del train_face_path\n",
    "\n",
    "del train_interaction_df\n",
    "del train_interaction_columns\n",
    "del train_interaction_path\n",
    "\n",
    "gc.collect()"
   ]
  },
  {
   "cell_type": "markdown",
   "metadata": {},
   "source": [
    "## 验证集\n",
    "\n",
    "取photo_id > 6750000的，作为验证集（新作品），约10%，这样更符合测试集中都是新作品的事实"
   ]
  },
  {
   "cell_type": "code",
   "execution_count": 27,
   "metadata": {},
   "outputs": [],
   "source": [
    "valid_df = train_df[train_df['photo_id'] > 6750000]"
   ]
  },
  {
   "cell_type": "code",
   "execution_count": 28,
   "metadata": {},
   "outputs": [
    {
     "data": {
      "text/html": [
       "<div>\n",
       "<style scoped>\n",
       "    .dataframe tbody tr th:only-of-type {\n",
       "        vertical-align: middle;\n",
       "    }\n",
       "\n",
       "    .dataframe tbody tr th {\n",
       "        vertical-align: top;\n",
       "    }\n",
       "\n",
       "    .dataframe thead th {\n",
       "        text-align: right;\n",
       "    }\n",
       "</style>\n",
       "<table border=\"1\" class=\"dataframe\">\n",
       "  <thead>\n",
       "    <tr style=\"text-align: right;\">\n",
       "      <th></th>\n",
       "      <th>user_id</th>\n",
       "      <th>photo_id</th>\n",
       "      <th>time</th>\n",
       "      <th>duration_time</th>\n",
       "      <th>click</th>\n",
       "      <th>gender</th>\n",
       "      <th>age</th>\n",
       "      <th>score</th>\n",
       "    </tr>\n",
       "  </thead>\n",
       "  <tbody>\n",
       "    <tr>\n",
       "      <th>21</th>\n",
       "      <td>1637</td>\n",
       "      <td>7300221</td>\n",
       "      <td>0.260870</td>\n",
       "      <td>0.079079</td>\n",
       "      <td>0</td>\n",
       "      <td>0.486066</td>\n",
       "      <td>0.612823</td>\n",
       "      <td>0.454374</td>\n",
       "    </tr>\n",
       "    <tr>\n",
       "      <th>30</th>\n",
       "      <td>1637</td>\n",
       "      <td>7090577</td>\n",
       "      <td>0.304348</td>\n",
       "      <td>0.613614</td>\n",
       "      <td>1</td>\n",
       "      <td>0.000000</td>\n",
       "      <td>0.684211</td>\n",
       "      <td>0.405063</td>\n",
       "    </tr>\n",
       "    <tr>\n",
       "      <th>47</th>\n",
       "      <td>1637</td>\n",
       "      <td>7427964</td>\n",
       "      <td>0.217391</td>\n",
       "      <td>0.709209</td>\n",
       "      <td>0</td>\n",
       "      <td>0.486066</td>\n",
       "      <td>0.612823</td>\n",
       "      <td>0.454374</td>\n",
       "    </tr>\n",
       "    <tr>\n",
       "      <th>52</th>\n",
       "      <td>1637</td>\n",
       "      <td>7115682</td>\n",
       "      <td>0.304348</td>\n",
       "      <td>0.990490</td>\n",
       "      <td>0</td>\n",
       "      <td>0.486066</td>\n",
       "      <td>0.612823</td>\n",
       "      <td>0.454374</td>\n",
       "    </tr>\n",
       "    <tr>\n",
       "      <th>56</th>\n",
       "      <td>1637</td>\n",
       "      <td>7089041</td>\n",
       "      <td>0.260870</td>\n",
       "      <td>0.613614</td>\n",
       "      <td>0</td>\n",
       "      <td>0.486066</td>\n",
       "      <td>0.612823</td>\n",
       "      <td>0.454374</td>\n",
       "    </tr>\n",
       "  </tbody>\n",
       "</table>\n",
       "</div>"
      ],
      "text/plain": [
       "    user_id  photo_id      time  duration_time  click    gender       age  \\\n",
       "21     1637   7300221  0.260870       0.079079      0  0.486066  0.612823   \n",
       "30     1637   7090577  0.304348       0.613614      1  0.000000  0.684211   \n",
       "47     1637   7427964  0.217391       0.709209      0  0.486066  0.612823   \n",
       "52     1637   7115682  0.304348       0.990490      0  0.486066  0.612823   \n",
       "56     1637   7089041  0.260870       0.613614      0  0.486066  0.612823   \n",
       "\n",
       "       score  \n",
       "21  0.454374  \n",
       "30  0.405063  \n",
       "47  0.454374  \n",
       "52  0.454374  \n",
       "56  0.454374  "
      ]
     },
     "execution_count": 28,
     "metadata": {},
     "output_type": "execute_result"
    }
   ],
   "source": [
    "valid_df.head()"
   ]
  },
  {
   "cell_type": "markdown",
   "metadata": {},
   "source": [
    "## 训练集\n",
    "剩余photo_id<=6750000的，作为训练集，约90%"
   ]
  },
  {
   "cell_type": "code",
   "execution_count": 29,
   "metadata": {},
   "outputs": [],
   "source": [
    "train_df = train_df[train_df['photo_id'] <= 6750000]"
   ]
  },
  {
   "cell_type": "code",
   "execution_count": 30,
   "metadata": {
    "scrolled": true
   },
   "outputs": [
    {
     "data": {
      "text/html": [
       "<div>\n",
       "<style scoped>\n",
       "    .dataframe tbody tr th:only-of-type {\n",
       "        vertical-align: middle;\n",
       "    }\n",
       "\n",
       "    .dataframe tbody tr th {\n",
       "        vertical-align: top;\n",
       "    }\n",
       "\n",
       "    .dataframe thead th {\n",
       "        text-align: right;\n",
       "    }\n",
       "</style>\n",
       "<table border=\"1\" class=\"dataframe\">\n",
       "  <thead>\n",
       "    <tr style=\"text-align: right;\">\n",
       "      <th></th>\n",
       "      <th>user_id</th>\n",
       "      <th>photo_id</th>\n",
       "      <th>time</th>\n",
       "      <th>duration_time</th>\n",
       "      <th>click</th>\n",
       "      <th>gender</th>\n",
       "      <th>age</th>\n",
       "      <th>score</th>\n",
       "    </tr>\n",
       "  </thead>\n",
       "  <tbody>\n",
       "    <tr>\n",
       "      <th>0</th>\n",
       "      <td>1637</td>\n",
       "      <td>6484142</td>\n",
       "      <td>0.304348</td>\n",
       "      <td>0.400400</td>\n",
       "      <td>0</td>\n",
       "      <td>0.486066</td>\n",
       "      <td>0.612823</td>\n",
       "      <td>0.454374</td>\n",
       "    </tr>\n",
       "    <tr>\n",
       "      <th>1</th>\n",
       "      <td>1637</td>\n",
       "      <td>4647664</td>\n",
       "      <td>0.260870</td>\n",
       "      <td>0.400400</td>\n",
       "      <td>0</td>\n",
       "      <td>0.486066</td>\n",
       "      <td>0.612823</td>\n",
       "      <td>0.454374</td>\n",
       "    </tr>\n",
       "    <tr>\n",
       "      <th>2</th>\n",
       "      <td>1637</td>\n",
       "      <td>4994626</td>\n",
       "      <td>0.304348</td>\n",
       "      <td>0.193694</td>\n",
       "      <td>1</td>\n",
       "      <td>1.000000</td>\n",
       "      <td>0.684211</td>\n",
       "      <td>0.354430</td>\n",
       "    </tr>\n",
       "    <tr>\n",
       "      <th>3</th>\n",
       "      <td>1637</td>\n",
       "      <td>4416881</td>\n",
       "      <td>0.260870</td>\n",
       "      <td>0.133634</td>\n",
       "      <td>0</td>\n",
       "      <td>0.486066</td>\n",
       "      <td>0.612823</td>\n",
       "      <td>0.454374</td>\n",
       "    </tr>\n",
       "    <tr>\n",
       "      <th>4</th>\n",
       "      <td>1637</td>\n",
       "      <td>2597756</td>\n",
       "      <td>0.260870</td>\n",
       "      <td>0.400400</td>\n",
       "      <td>0</td>\n",
       "      <td>0.486066</td>\n",
       "      <td>0.612823</td>\n",
       "      <td>0.454374</td>\n",
       "    </tr>\n",
       "  </tbody>\n",
       "</table>\n",
       "</div>"
      ],
      "text/plain": [
       "   user_id  photo_id      time  duration_time  click    gender       age  \\\n",
       "0     1637   6484142  0.304348       0.400400      0  0.486066  0.612823   \n",
       "1     1637   4647664  0.260870       0.400400      0  0.486066  0.612823   \n",
       "2     1637   4994626  0.304348       0.193694      1  1.000000  0.684211   \n",
       "3     1637   4416881  0.260870       0.133634      0  0.486066  0.612823   \n",
       "4     1637   2597756  0.260870       0.400400      0  0.486066  0.612823   \n",
       "\n",
       "      score  \n",
       "0  0.454374  \n",
       "1  0.454374  \n",
       "2  0.354430  \n",
       "3  0.454374  \n",
       "4  0.454374  "
      ]
     },
     "execution_count": 30,
     "metadata": {},
     "output_type": "execute_result"
    }
   ],
   "source": [
    "train_df.head()"
   ]
  },
  {
   "cell_type": "markdown",
   "metadata": {},
   "source": [
    "## 一个用户\n",
    "\n",
    "研究一个用户的数据中gender、age、score与click的关系\n"
   ]
  },
  {
   "cell_type": "code",
   "execution_count": 31,
   "metadata": {},
   "outputs": [],
   "source": [
    "user_id = 1000\n",
    "\n",
    "train_X = train_df[train_df['user_id'] == user_id][['time', 'duration_time', 'gender', 'age', 'score']].values\n",
    "train_y = train_df[train_df['user_id'] == user_id]['click'].values"
   ]
  },
  {
   "cell_type": "code",
   "execution_count": 32,
   "metadata": {},
   "outputs": [
    {
     "data": {
      "text/plain": [
       "array([0, 0, 0, ..., 0, 0, 0])"
      ]
     },
     "execution_count": 32,
     "metadata": {},
     "output_type": "execute_result"
    }
   ],
   "source": [
    "train_X\n",
    "train_y"
   ]
  },
  {
   "cell_type": "markdown",
   "metadata": {},
   "source": [
    "## 逻辑回归"
   ]
  },
  {
   "cell_type": "code",
   "execution_count": 33,
   "metadata": {},
   "outputs": [
    {
     "data": {
      "text/plain": [
       "LogisticRegression(C=1.0, class_weight=None, dual=False, fit_intercept=True,\n",
       "          intercept_scaling=1, max_iter=100, multi_class='ovr', n_jobs=1,\n",
       "          penalty='l2', random_state=None, solver='liblinear', tol=0.0001,\n",
       "          verbose=0, warm_start=False)"
      ]
     },
     "execution_count": 33,
     "metadata": {},
     "output_type": "execute_result"
    }
   ],
   "source": [
    "from sklearn import linear_model\n",
    "\n",
    "clf = linear_model.LogisticRegression()\n",
    "clf.fit(train_X, train_y)"
   ]
  },
  {
   "cell_type": "code",
   "execution_count": 34,
   "metadata": {},
   "outputs": [
    {
     "data": {
      "text/plain": [
       "array([-1.35989869])"
      ]
     },
     "execution_count": 34,
     "metadata": {},
     "output_type": "execute_result"
    }
   ],
   "source": [
    "clf.coef_\n",
    "clf.intercept_"
   ]
  },
  {
   "cell_type": "code",
   "execution_count": 35,
   "metadata": {},
   "outputs": [],
   "source": [
    "# 验证集\n",
    "valid_X = valid_df[valid_df['user_id'] == user_id][['time', 'duration_time', 'gender', 'age', 'score']].values\n",
    "valid_y = valid_df[valid_df['user_id'] == user_id]['click'].values"
   ]
  },
  {
   "cell_type": "code",
   "execution_count": 36,
   "metadata": {},
   "outputs": [],
   "source": [
    "# 预测click为1的概率\n",
    "pred_y = clf.predict_proba(valid_X)[:,1]"
   ]
  },
  {
   "cell_type": "code",
   "execution_count": 38,
   "metadata": {},
   "outputs": [
    {
     "data": {
      "text/plain": [
       "0.11865804107065023"
      ]
     },
     "execution_count": 38,
     "metadata": {},
     "output_type": "execute_result"
    }
   ],
   "source": [
    "# 预测值与真实值均方差\n",
    "import numpy as np\n",
    "\n",
    "np.mean((pred_y - valid_y)**2)"
   ]
  },
  {
   "cell_type": "code",
   "execution_count": 39,
   "metadata": {},
   "outputs": [
    {
     "data": {
      "text/plain": [
       "0.8654708520179372"
      ]
     },
     "execution_count": 39,
     "metadata": {},
     "output_type": "execute_result"
    }
   ],
   "source": [
    "# 方差分值：1 是完美的预测，0 意味着 X 和 y 线性不可分\n",
    "clf.score(valid_X, valid_y)"
   ]
  },
  {
   "cell_type": "markdown",
   "metadata": {},
   "source": [
    "## 所有用户\n",
    "\n",
    "使用上述方法为每个用户训练一个模型"
   ]
  },
  {
   "cell_type": "code",
   "execution_count": 40,
   "metadata": {},
   "outputs": [],
   "source": [
    "# 每个用户训练一个逻辑回归模型，并导出\n",
    "\n",
    "from sklearn.externals import joblib\n",
    "\n",
    "for user_id in train_df['user_id'].unique():\n",
    "    train_X = train_df[train_df['user_id'] == user_id][['time', 'duration_time', 'gender', 'age', 'score']].values\n",
    "    train_y = train_df[train_df['user_id'] == user_id]['click'].values\n",
    "    clf = linear_model.LogisticRegression()\n",
    "    clf.fit(train_X, train_y)\n",
    "    # 持久化为磁盘文件\n",
    "    joblib.dump(clf, '../out/pred_user_interest_face_model/' + str(user_id))\n",
    "    "
   ]
  },
  {
   "cell_type": "markdown",
   "metadata": {},
   "source": [
    "## 预测"
   ]
  },
  {
   "cell_type": "code",
   "execution_count": 41,
   "metadata": {},
   "outputs": [],
   "source": [
    "pred_df = valid_df[['user_id', 'photo_id', 'time', 'duration_time', 'gender', 'age', 'score']]\n",
    "pred_df = pred_df.reindex(columns=['user_id', 'photo_id', 'time', 'duration_time', 'gender', 'age', 'score', 'click_probability'])"
   ]
  },
  {
   "cell_type": "code",
   "execution_count": 42,
   "metadata": {
    "scrolled": false
   },
   "outputs": [
    {
     "data": {
      "text/html": [
       "<div>\n",
       "<style scoped>\n",
       "    .dataframe tbody tr th:only-of-type {\n",
       "        vertical-align: middle;\n",
       "    }\n",
       "\n",
       "    .dataframe tbody tr th {\n",
       "        vertical-align: top;\n",
       "    }\n",
       "\n",
       "    .dataframe thead th {\n",
       "        text-align: right;\n",
       "    }\n",
       "</style>\n",
       "<table border=\"1\" class=\"dataframe\">\n",
       "  <thead>\n",
       "    <tr style=\"text-align: right;\">\n",
       "      <th></th>\n",
       "      <th>user_id</th>\n",
       "      <th>photo_id</th>\n",
       "      <th>time</th>\n",
       "      <th>duration_time</th>\n",
       "      <th>gender</th>\n",
       "      <th>age</th>\n",
       "      <th>score</th>\n",
       "      <th>click_probability</th>\n",
       "    </tr>\n",
       "  </thead>\n",
       "  <tbody>\n",
       "    <tr>\n",
       "      <th>21</th>\n",
       "      <td>1637</td>\n",
       "      <td>7300221</td>\n",
       "      <td>0.260870</td>\n",
       "      <td>0.079079</td>\n",
       "      <td>0.486066</td>\n",
       "      <td>0.612823</td>\n",
       "      <td>0.454374</td>\n",
       "      <td>NaN</td>\n",
       "    </tr>\n",
       "    <tr>\n",
       "      <th>30</th>\n",
       "      <td>1637</td>\n",
       "      <td>7090577</td>\n",
       "      <td>0.304348</td>\n",
       "      <td>0.613614</td>\n",
       "      <td>0.000000</td>\n",
       "      <td>0.684211</td>\n",
       "      <td>0.405063</td>\n",
       "      <td>NaN</td>\n",
       "    </tr>\n",
       "    <tr>\n",
       "      <th>47</th>\n",
       "      <td>1637</td>\n",
       "      <td>7427964</td>\n",
       "      <td>0.217391</td>\n",
       "      <td>0.709209</td>\n",
       "      <td>0.486066</td>\n",
       "      <td>0.612823</td>\n",
       "      <td>0.454374</td>\n",
       "      <td>NaN</td>\n",
       "    </tr>\n",
       "    <tr>\n",
       "      <th>52</th>\n",
       "      <td>1637</td>\n",
       "      <td>7115682</td>\n",
       "      <td>0.304348</td>\n",
       "      <td>0.990490</td>\n",
       "      <td>0.486066</td>\n",
       "      <td>0.612823</td>\n",
       "      <td>0.454374</td>\n",
       "      <td>NaN</td>\n",
       "    </tr>\n",
       "    <tr>\n",
       "      <th>56</th>\n",
       "      <td>1637</td>\n",
       "      <td>7089041</td>\n",
       "      <td>0.260870</td>\n",
       "      <td>0.613614</td>\n",
       "      <td>0.486066</td>\n",
       "      <td>0.612823</td>\n",
       "      <td>0.454374</td>\n",
       "      <td>NaN</td>\n",
       "    </tr>\n",
       "  </tbody>\n",
       "</table>\n",
       "</div>"
      ],
      "text/plain": [
       "    user_id  photo_id      time  duration_time    gender       age     score  \\\n",
       "21     1637   7300221  0.260870       0.079079  0.486066  0.612823  0.454374   \n",
       "30     1637   7090577  0.304348       0.613614  0.000000  0.684211  0.405063   \n",
       "47     1637   7427964  0.217391       0.709209  0.486066  0.612823  0.454374   \n",
       "52     1637   7115682  0.304348       0.990490  0.486066  0.612823  0.454374   \n",
       "56     1637   7089041  0.260870       0.613614  0.486066  0.612823  0.454374   \n",
       "\n",
       "    click_probability  \n",
       "21                NaN  \n",
       "30                NaN  \n",
       "47                NaN  \n",
       "52                NaN  \n",
       "56                NaN  "
      ]
     },
     "execution_count": 42,
     "metadata": {},
     "output_type": "execute_result"
    }
   ],
   "source": [
    "pred_df.head()"
   ]
  },
  {
   "cell_type": "code",
   "execution_count": 43,
   "metadata": {},
   "outputs": [],
   "source": [
    "# 装载预测模型\n",
    "\n",
    "pred_models = {}\n",
    "\n",
    "for user_id in pred_df['user_id'].unique():\n",
    "    pred_models[user_id] = joblib.load('../out/pred_user_interest_face_model/' + str(user_id))\n",
    "    "
   ]
  },
  {
   "cell_type": "code",
   "execution_count": 44,
   "metadata": {},
   "outputs": [],
   "source": [
    "# 预测函数\n",
    "def predict(row):\n",
    "#     print(np.array([row['time'], row['duration_time'], row['area'], row['gender'], row['age'], row['score']]))\n",
    "    user_id = int(row['user_id'])\n",
    "    clf = pred_models[user_id]\n",
    "    proba = clf.predict_proba(np.array([row['time'], row['duration_time'], row['gender'], row['age'], row['score']]).reshape(1, -1))[0, 1]\n",
    "    return round(proba, 6)\n"
   ]
  },
  {
   "cell_type": "code",
   "execution_count": 45,
   "metadata": {},
   "outputs": [],
   "source": [
    "# 预测填充click_probability列\n",
    "\n",
    "import numpy as np\n",
    "\n",
    "pred_df['click_probability'] = pred_df.apply(predict, axis = 1)"
   ]
  },
  {
   "cell_type": "code",
   "execution_count": 46,
   "metadata": {},
   "outputs": [
    {
     "data": {
      "text/html": [
       "<div>\n",
       "<style scoped>\n",
       "    .dataframe tbody tr th:only-of-type {\n",
       "        vertical-align: middle;\n",
       "    }\n",
       "\n",
       "    .dataframe tbody tr th {\n",
       "        vertical-align: top;\n",
       "    }\n",
       "\n",
       "    .dataframe thead th {\n",
       "        text-align: right;\n",
       "    }\n",
       "</style>\n",
       "<table border=\"1\" class=\"dataframe\">\n",
       "  <thead>\n",
       "    <tr style=\"text-align: right;\">\n",
       "      <th></th>\n",
       "      <th>user_id</th>\n",
       "      <th>photo_id</th>\n",
       "      <th>click_probability</th>\n",
       "    </tr>\n",
       "  </thead>\n",
       "  <tbody>\n",
       "    <tr>\n",
       "      <th>21</th>\n",
       "      <td>1637</td>\n",
       "      <td>7300221</td>\n",
       "      <td>0.239609</td>\n",
       "    </tr>\n",
       "    <tr>\n",
       "      <th>30</th>\n",
       "      <td>1637</td>\n",
       "      <td>7090577</td>\n",
       "      <td>0.272176</td>\n",
       "    </tr>\n",
       "    <tr>\n",
       "      <th>47</th>\n",
       "      <td>1637</td>\n",
       "      <td>7427964</td>\n",
       "      <td>0.195964</td>\n",
       "    </tr>\n",
       "    <tr>\n",
       "      <th>52</th>\n",
       "      <td>1637</td>\n",
       "      <td>7115682</td>\n",
       "      <td>0.177062</td>\n",
       "    </tr>\n",
       "    <tr>\n",
       "      <th>56</th>\n",
       "      <td>1637</td>\n",
       "      <td>7089041</td>\n",
       "      <td>0.201619</td>\n",
       "    </tr>\n",
       "  </tbody>\n",
       "</table>\n",
       "</div>"
      ],
      "text/plain": [
       "    user_id  photo_id  click_probability\n",
       "21     1637   7300221           0.239609\n",
       "30     1637   7090577           0.272176\n",
       "47     1637   7427964           0.195964\n",
       "52     1637   7115682           0.177062\n",
       "56     1637   7089041           0.201619"
      ]
     },
     "execution_count": 46,
     "metadata": {},
     "output_type": "execute_result"
    }
   ],
   "source": [
    "pred_df = pred_df[['user_id', 'photo_id', 'click_probability']]\n",
    "pred_df.head()"
   ]
  },
  {
   "cell_type": "markdown",
   "metadata": {},
   "source": [
    "## 导出"
   ]
  },
  {
   "cell_type": "code",
   "execution_count": 47,
   "metadata": {},
   "outputs": [],
   "source": [
    "# 导出预测结果\n",
    "pred_df.to_csv('../out/pred_user_interest_face.txt', index=False, header=False, sep='\\t')"
   ]
  },
  {
   "cell_type": "markdown",
   "metadata": {},
   "source": [
    "## 评分\n",
    "\n",
    "0.7069625893799051 - 平均值法\n",
    "\n",
    "0.7097285003232818 - duration_time\n",
    "\n",
    "0.6189868898378826 - time(周期变换为ms)、duration_time(非线性变换)\n",
    "\n",
    "0.7149841956620693 - time(周期变换为hour)、duration_time(非线性变换)\n",
    "\n",
    "0.7205338901676025 - time(周期变换为hour)、duration_time(非线性变换)，gender、age、score补全方式为0\n",
    "\n",
    "0.7179047958068454 - time(周期变换为hour)、duration_time(非线性变换)，gender、age、score补全方式为mean"
   ]
  },
  {
   "cell_type": "code",
   "execution_count": 48,
   "metadata": {},
   "outputs": [
    {
     "name": "stdout",
     "output_type": "stream",
     "text": [
      "{'code': 0, 'message': 'validation success'}\n",
      "{'code': 0, 'score': 0.7179047958068454, 'message': 'success'}\n"
     ]
    }
   ],
   "source": [
    "%run evaluation_script.py ../out/pred_user_interest_face.txt ../out/valid.txt"
   ]
  }
 ],
 "metadata": {
  "kernelspec": {
   "display_name": "Python 3",
   "language": "python",
   "name": "python3"
  },
  "language_info": {
   "codemirror_mode": {
    "name": "ipython",
    "version": 3
   },
   "file_extension": ".py",
   "mimetype": "text/x-python",
   "name": "python",
   "nbconvert_exporter": "python",
   "pygments_lexer": "ipython3",
   "version": "3.6.4"
  },
  "widgets": {
   "application/vnd.jupyter.widget-state+json": {
    "state": {},
    "version_major": 2,
    "version_minor": 0
   }
  }
 },
 "nbformat": 4,
 "nbformat_minor": 1
}
