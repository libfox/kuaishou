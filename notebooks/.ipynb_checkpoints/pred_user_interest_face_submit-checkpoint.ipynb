{
 "cells": [
  {
   "cell_type": "code",
   "execution_count": 1,
   "metadata": {},
   "outputs": [],
   "source": [
    "# from IPython.core.interactiveshell import InteractiveShell\n",
    "# InteractiveShell.ast_node_interactivity = \"all\"\n",
    "\n",
    "%matplotlib inline"
   ]
  },
  {
   "cell_type": "markdown",
   "metadata": {},
   "source": [
    "## 面部特征数据"
   ]
  },
  {
   "cell_type": "code",
   "execution_count": 2,
   "metadata": {},
   "outputs": [],
   "source": [
    "import pandas as pd\n",
    "\n",
    "train_face_path = '../data/train_face.txt'\n",
    "train_face_columns = ['photo_id', 'data']\n",
    "train_face_df = pd.read_table(train_face_path, names=train_face_columns)"
   ]
  },
  {
   "cell_type": "code",
   "execution_count": 3,
   "metadata": {},
   "outputs": [
    {
     "data": {
      "text/html": [
       "<div>\n",
       "<style scoped>\n",
       "    .dataframe tbody tr th:only-of-type {\n",
       "        vertical-align: middle;\n",
       "    }\n",
       "\n",
       "    .dataframe tbody tr th {\n",
       "        vertical-align: top;\n",
       "    }\n",
       "\n",
       "    .dataframe thead th {\n",
       "        text-align: right;\n",
       "    }\n",
       "</style>\n",
       "<table border=\"1\" class=\"dataframe\">\n",
       "  <thead>\n",
       "    <tr style=\"text-align: right;\">\n",
       "      <th></th>\n",
       "      <th>photo_id</th>\n",
       "      <th>data</th>\n",
       "    </tr>\n",
       "  </thead>\n",
       "  <tbody>\n",
       "    <tr>\n",
       "      <th>0</th>\n",
       "      <td>9</td>\n",
       "      <td>[[0.0377, 1, 3, 50]]</td>\n",
       "    </tr>\n",
       "    <tr>\n",
       "      <th>1</th>\n",
       "      <td>3</td>\n",
       "      <td>[[0.219, 0, 22, 66]]</td>\n",
       "    </tr>\n",
       "    <tr>\n",
       "      <th>2</th>\n",
       "      <td>8</td>\n",
       "      <td>[[0.0849, 0, 13, 54], [0.1221, 0, 22, 88]]</td>\n",
       "    </tr>\n",
       "    <tr>\n",
       "      <th>3</th>\n",
       "      <td>2</td>\n",
       "      <td>[[0.2018, 1, 18, 60]]</td>\n",
       "    </tr>\n",
       "    <tr>\n",
       "      <th>4</th>\n",
       "      <td>19</td>\n",
       "      <td>[[0.0123, 0, 24, 52]]</td>\n",
       "    </tr>\n",
       "  </tbody>\n",
       "</table>\n",
       "</div>"
      ],
      "text/plain": [
       "   photo_id                                        data\n",
       "0         9                        [[0.0377, 1, 3, 50]]\n",
       "1         3                        [[0.219, 0, 22, 66]]\n",
       "2         8  [[0.0849, 0, 13, 54], [0.1221, 0, 22, 88]]\n",
       "3         2                       [[0.2018, 1, 18, 60]]\n",
       "4        19                       [[0.0123, 0, 24, 52]]"
      ]
     },
     "execution_count": 3,
     "metadata": {},
     "output_type": "execute_result"
    }
   ],
   "source": [
    "train_face_df.head()"
   ]
  },
  {
   "cell_type": "code",
   "execution_count": 4,
   "metadata": {},
   "outputs": [
    {
     "data": {
      "text/plain": [
       "[0.1221, 0, 22, 88]"
      ]
     },
     "execution_count": 4,
     "metadata": {},
     "output_type": "execute_result"
    }
   ],
   "source": [
    "# 取面部特征中面积最大的\n",
    "\n",
    "import json\n",
    "\n",
    "def get_max_area_face(row):\n",
    "    ls = json.loads(row)\n",
    "    r = [0, 0, 0, 0]\n",
    "    for l in ls:\n",
    "        if r[0] < l[0]:\n",
    "            r = l\n",
    "    return r\n",
    "\n",
    "\n",
    "get_max_area_face('[[0.0849, 0, 13, 54], [0.1221, 0, 22, 88]]')\n",
    "    "
   ]
  },
  {
   "cell_type": "code",
   "execution_count": 5,
   "metadata": {},
   "outputs": [],
   "source": [
    "train_face_df['data'] = train_face_df['data'].apply(get_max_area_face)"
   ]
  },
  {
   "cell_type": "code",
   "execution_count": 6,
   "metadata": {},
   "outputs": [
    {
     "data": {
      "text/html": [
       "<div>\n",
       "<style scoped>\n",
       "    .dataframe tbody tr th:only-of-type {\n",
       "        vertical-align: middle;\n",
       "    }\n",
       "\n",
       "    .dataframe tbody tr th {\n",
       "        vertical-align: top;\n",
       "    }\n",
       "\n",
       "    .dataframe thead th {\n",
       "        text-align: right;\n",
       "    }\n",
       "</style>\n",
       "<table border=\"1\" class=\"dataframe\">\n",
       "  <thead>\n",
       "    <tr style=\"text-align: right;\">\n",
       "      <th></th>\n",
       "      <th>photo_id</th>\n",
       "      <th>data</th>\n",
       "    </tr>\n",
       "  </thead>\n",
       "  <tbody>\n",
       "    <tr>\n",
       "      <th>0</th>\n",
       "      <td>9</td>\n",
       "      <td>[0.0377, 1, 3, 50]</td>\n",
       "    </tr>\n",
       "    <tr>\n",
       "      <th>1</th>\n",
       "      <td>3</td>\n",
       "      <td>[0.219, 0, 22, 66]</td>\n",
       "    </tr>\n",
       "    <tr>\n",
       "      <th>2</th>\n",
       "      <td>8</td>\n",
       "      <td>[0.1221, 0, 22, 88]</td>\n",
       "    </tr>\n",
       "    <tr>\n",
       "      <th>3</th>\n",
       "      <td>2</td>\n",
       "      <td>[0.2018, 1, 18, 60]</td>\n",
       "    </tr>\n",
       "    <tr>\n",
       "      <th>4</th>\n",
       "      <td>19</td>\n",
       "      <td>[0.0123, 0, 24, 52]</td>\n",
       "    </tr>\n",
       "  </tbody>\n",
       "</table>\n",
       "</div>"
      ],
      "text/plain": [
       "   photo_id                 data\n",
       "0         9   [0.0377, 1, 3, 50]\n",
       "1         3   [0.219, 0, 22, 66]\n",
       "2         8  [0.1221, 0, 22, 88]\n",
       "3         2  [0.2018, 1, 18, 60]\n",
       "4        19  [0.0123, 0, 24, 52]"
      ]
     },
     "execution_count": 6,
     "metadata": {},
     "output_type": "execute_result"
    }
   ],
   "source": [
    "train_face_df.head()"
   ]
  },
  {
   "cell_type": "code",
   "execution_count": 7,
   "metadata": {},
   "outputs": [],
   "source": [
    "# data列拆分：\n",
    "train_face_details_df = pd.DataFrame(\n",
    "    data=list(train_face_df['data'].values), \n",
    "    columns=['area', 'gender', 'age', 'score']\n",
    ")"
   ]
  },
  {
   "cell_type": "code",
   "execution_count": 8,
   "metadata": {},
   "outputs": [],
   "source": [
    "train_face_df = pd.concat([train_face_df, train_face_details_df], axis=1).drop(['data'], axis=1)"
   ]
  },
  {
   "cell_type": "code",
   "execution_count": 9,
   "metadata": {},
   "outputs": [
    {
     "data": {
      "text/html": [
       "<div>\n",
       "<style scoped>\n",
       "    .dataframe tbody tr th:only-of-type {\n",
       "        vertical-align: middle;\n",
       "    }\n",
       "\n",
       "    .dataframe tbody tr th {\n",
       "        vertical-align: top;\n",
       "    }\n",
       "\n",
       "    .dataframe thead th {\n",
       "        text-align: right;\n",
       "    }\n",
       "</style>\n",
       "<table border=\"1\" class=\"dataframe\">\n",
       "  <thead>\n",
       "    <tr style=\"text-align: right;\">\n",
       "      <th></th>\n",
       "      <th>photo_id</th>\n",
       "      <th>area</th>\n",
       "      <th>gender</th>\n",
       "      <th>age</th>\n",
       "      <th>score</th>\n",
       "    </tr>\n",
       "  </thead>\n",
       "  <tbody>\n",
       "    <tr>\n",
       "      <th>0</th>\n",
       "      <td>9</td>\n",
       "      <td>0.0377</td>\n",
       "      <td>1</td>\n",
       "      <td>3</td>\n",
       "      <td>50</td>\n",
       "    </tr>\n",
       "    <tr>\n",
       "      <th>1</th>\n",
       "      <td>3</td>\n",
       "      <td>0.2190</td>\n",
       "      <td>0</td>\n",
       "      <td>22</td>\n",
       "      <td>66</td>\n",
       "    </tr>\n",
       "    <tr>\n",
       "      <th>2</th>\n",
       "      <td>8</td>\n",
       "      <td>0.1221</td>\n",
       "      <td>0</td>\n",
       "      <td>22</td>\n",
       "      <td>88</td>\n",
       "    </tr>\n",
       "    <tr>\n",
       "      <th>3</th>\n",
       "      <td>2</td>\n",
       "      <td>0.2018</td>\n",
       "      <td>1</td>\n",
       "      <td>18</td>\n",
       "      <td>60</td>\n",
       "    </tr>\n",
       "    <tr>\n",
       "      <th>4</th>\n",
       "      <td>19</td>\n",
       "      <td>0.0123</td>\n",
       "      <td>0</td>\n",
       "      <td>24</td>\n",
       "      <td>52</td>\n",
       "    </tr>\n",
       "  </tbody>\n",
       "</table>\n",
       "</div>"
      ],
      "text/plain": [
       "   photo_id    area  gender  age  score\n",
       "0         9  0.0377       1    3     50\n",
       "1         3  0.2190       0   22     66\n",
       "2         8  0.1221       0   22     88\n",
       "3         2  0.2018       1   18     60\n",
       "4        19  0.0123       0   24     52"
      ]
     },
     "execution_count": 9,
     "metadata": {},
     "output_type": "execute_result"
    }
   ],
   "source": [
    "train_face_df.head()"
   ]
  },
  {
   "cell_type": "markdown",
   "metadata": {},
   "source": [
    "## 交互数据"
   ]
  },
  {
   "cell_type": "code",
   "execution_count": 10,
   "metadata": {},
   "outputs": [],
   "source": [
    "import pandas as pd\n",
    "\n",
    "train_interaction_path = '../data/train_interaction.txt'\n",
    "train_interaction_columns = ['user_id', 'photo_id', 'click', 'like', 'follow', 'time', 'playing_time', 'duration_time']\n",
    "train_interaction_df = pd.read_table(train_interaction_path, names=train_interaction_columns)"
   ]
  },
  {
   "cell_type": "code",
   "execution_count": 11,
   "metadata": {},
   "outputs": [
    {
     "data": {
      "text/html": [
       "<div>\n",
       "<style scoped>\n",
       "    .dataframe tbody tr th:only-of-type {\n",
       "        vertical-align: middle;\n",
       "    }\n",
       "\n",
       "    .dataframe tbody tr th {\n",
       "        vertical-align: top;\n",
       "    }\n",
       "\n",
       "    .dataframe thead th {\n",
       "        text-align: right;\n",
       "    }\n",
       "</style>\n",
       "<table border=\"1\" class=\"dataframe\">\n",
       "  <thead>\n",
       "    <tr style=\"text-align: right;\">\n",
       "      <th></th>\n",
       "      <th>user_id</th>\n",
       "      <th>photo_id</th>\n",
       "      <th>click</th>\n",
       "      <th>like</th>\n",
       "      <th>follow</th>\n",
       "      <th>time</th>\n",
       "      <th>playing_time</th>\n",
       "      <th>duration_time</th>\n",
       "    </tr>\n",
       "  </thead>\n",
       "  <tbody>\n",
       "    <tr>\n",
       "      <th>0</th>\n",
       "      <td>1637</td>\n",
       "      <td>6484142</td>\n",
       "      <td>0</td>\n",
       "      <td>0</td>\n",
       "      <td>0</td>\n",
       "      <td>761036604603</td>\n",
       "      <td>0</td>\n",
       "      <td>11</td>\n",
       "    </tr>\n",
       "    <tr>\n",
       "      <th>1</th>\n",
       "      <td>1637</td>\n",
       "      <td>4647664</td>\n",
       "      <td>0</td>\n",
       "      <td>0</td>\n",
       "      <td>0</td>\n",
       "      <td>761035501863</td>\n",
       "      <td>0</td>\n",
       "      <td>11</td>\n",
       "    </tr>\n",
       "    <tr>\n",
       "      <th>2</th>\n",
       "      <td>1637</td>\n",
       "      <td>4994626</td>\n",
       "      <td>1</td>\n",
       "      <td>0</td>\n",
       "      <td>0</td>\n",
       "      <td>761036933553</td>\n",
       "      <td>11</td>\n",
       "      <td>10</td>\n",
       "    </tr>\n",
       "    <tr>\n",
       "      <th>3</th>\n",
       "      <td>1637</td>\n",
       "      <td>4416881</td>\n",
       "      <td>0</td>\n",
       "      <td>0</td>\n",
       "      <td>0</td>\n",
       "      <td>761119247892</td>\n",
       "      <td>0</td>\n",
       "      <td>9</td>\n",
       "    </tr>\n",
       "    <tr>\n",
       "      <th>4</th>\n",
       "      <td>1637</td>\n",
       "      <td>2597756</td>\n",
       "      <td>0</td>\n",
       "      <td>0</td>\n",
       "      <td>0</td>\n",
       "      <td>761119421332</td>\n",
       "      <td>0</td>\n",
       "      <td>11</td>\n",
       "    </tr>\n",
       "  </tbody>\n",
       "</table>\n",
       "</div>"
      ],
      "text/plain": [
       "   user_id  photo_id  click  like  follow          time  playing_time  \\\n",
       "0     1637   6484142      0     0       0  761036604603             0   \n",
       "1     1637   4647664      0     0       0  761035501863             0   \n",
       "2     1637   4994626      1     0       0  761036933553            11   \n",
       "3     1637   4416881      0     0       0  761119247892             0   \n",
       "4     1637   2597756      0     0       0  761119421332             0   \n",
       "\n",
       "   duration_time  \n",
       "0             11  \n",
       "1             11  \n",
       "2             10  \n",
       "3              9  \n",
       "4             11  "
      ]
     },
     "execution_count": 11,
     "metadata": {},
     "output_type": "execute_result"
    }
   ],
   "source": [
    "train_interaction_df.head()"
   ]
  },
  {
   "cell_type": "markdown",
   "metadata": {},
   "source": [
    "## 拼接数据"
   ]
  },
  {
   "cell_type": "code",
   "execution_count": 12,
   "metadata": {},
   "outputs": [],
   "source": [
    "# 拼接交互数据与面部特征数据\n",
    "train_df = train_interaction_df.join(train_face_df, on='photo_id', how='left', rsuffix='_r')"
   ]
  },
  {
   "cell_type": "code",
   "execution_count": 13,
   "metadata": {
    "scrolled": false
   },
   "outputs": [
    {
     "data": {
      "text/html": [
       "<div>\n",
       "<style scoped>\n",
       "    .dataframe tbody tr th:only-of-type {\n",
       "        vertical-align: middle;\n",
       "    }\n",
       "\n",
       "    .dataframe tbody tr th {\n",
       "        vertical-align: top;\n",
       "    }\n",
       "\n",
       "    .dataframe thead th {\n",
       "        text-align: right;\n",
       "    }\n",
       "</style>\n",
       "<table border=\"1\" class=\"dataframe\">\n",
       "  <thead>\n",
       "    <tr style=\"text-align: right;\">\n",
       "      <th></th>\n",
       "      <th>user_id</th>\n",
       "      <th>photo_id</th>\n",
       "      <th>click</th>\n",
       "      <th>like</th>\n",
       "      <th>follow</th>\n",
       "      <th>time</th>\n",
       "      <th>playing_time</th>\n",
       "      <th>duration_time</th>\n",
       "      <th>photo_id_r</th>\n",
       "      <th>area</th>\n",
       "      <th>gender</th>\n",
       "      <th>age</th>\n",
       "      <th>score</th>\n",
       "    </tr>\n",
       "  </thead>\n",
       "  <tbody>\n",
       "    <tr>\n",
       "      <th>0</th>\n",
       "      <td>1637</td>\n",
       "      <td>6484142</td>\n",
       "      <td>0</td>\n",
       "      <td>0</td>\n",
       "      <td>0</td>\n",
       "      <td>761036604603</td>\n",
       "      <td>0</td>\n",
       "      <td>11</td>\n",
       "      <td>NaN</td>\n",
       "      <td>NaN</td>\n",
       "      <td>NaN</td>\n",
       "      <td>NaN</td>\n",
       "      <td>NaN</td>\n",
       "    </tr>\n",
       "    <tr>\n",
       "      <th>1</th>\n",
       "      <td>1637</td>\n",
       "      <td>4647664</td>\n",
       "      <td>0</td>\n",
       "      <td>0</td>\n",
       "      <td>0</td>\n",
       "      <td>761035501863</td>\n",
       "      <td>0</td>\n",
       "      <td>11</td>\n",
       "      <td>NaN</td>\n",
       "      <td>NaN</td>\n",
       "      <td>NaN</td>\n",
       "      <td>NaN</td>\n",
       "      <td>NaN</td>\n",
       "    </tr>\n",
       "    <tr>\n",
       "      <th>2</th>\n",
       "      <td>1637</td>\n",
       "      <td>4994626</td>\n",
       "      <td>1</td>\n",
       "      <td>0</td>\n",
       "      <td>0</td>\n",
       "      <td>761036933553</td>\n",
       "      <td>11</td>\n",
       "      <td>10</td>\n",
       "      <td>NaN</td>\n",
       "      <td>NaN</td>\n",
       "      <td>NaN</td>\n",
       "      <td>NaN</td>\n",
       "      <td>NaN</td>\n",
       "    </tr>\n",
       "    <tr>\n",
       "      <th>3</th>\n",
       "      <td>1637</td>\n",
       "      <td>4416881</td>\n",
       "      <td>0</td>\n",
       "      <td>0</td>\n",
       "      <td>0</td>\n",
       "      <td>761119247892</td>\n",
       "      <td>0</td>\n",
       "      <td>9</td>\n",
       "      <td>NaN</td>\n",
       "      <td>NaN</td>\n",
       "      <td>NaN</td>\n",
       "      <td>NaN</td>\n",
       "      <td>NaN</td>\n",
       "    </tr>\n",
       "    <tr>\n",
       "      <th>4</th>\n",
       "      <td>1637</td>\n",
       "      <td>2597756</td>\n",
       "      <td>0</td>\n",
       "      <td>0</td>\n",
       "      <td>0</td>\n",
       "      <td>761119421332</td>\n",
       "      <td>0</td>\n",
       "      <td>11</td>\n",
       "      <td>NaN</td>\n",
       "      <td>NaN</td>\n",
       "      <td>NaN</td>\n",
       "      <td>NaN</td>\n",
       "      <td>NaN</td>\n",
       "    </tr>\n",
       "  </tbody>\n",
       "</table>\n",
       "</div>"
      ],
      "text/plain": [
       "   user_id  photo_id  click  like  follow          time  playing_time  \\\n",
       "0     1637   6484142      0     0       0  761036604603             0   \n",
       "1     1637   4647664      0     0       0  761035501863             0   \n",
       "2     1637   4994626      1     0       0  761036933553            11   \n",
       "3     1637   4416881      0     0       0  761119247892             0   \n",
       "4     1637   2597756      0     0       0  761119421332             0   \n",
       "\n",
       "   duration_time  photo_id_r  area  gender  age  score  \n",
       "0             11         NaN   NaN     NaN  NaN    NaN  \n",
       "1             11         NaN   NaN     NaN  NaN    NaN  \n",
       "2             10         NaN   NaN     NaN  NaN    NaN  \n",
       "3              9         NaN   NaN     NaN  NaN    NaN  \n",
       "4             11         NaN   NaN     NaN  NaN    NaN  "
      ]
     },
     "execution_count": 13,
     "metadata": {},
     "output_type": "execute_result"
    }
   ],
   "source": [
    "train_df.head()"
   ]
  },
  {
   "cell_type": "code",
   "execution_count": 14,
   "metadata": {},
   "outputs": [],
   "source": [
    "train_df = train_df[['user_id', 'photo_id', 'time', 'duration_time', 'click', 'gender', 'age', 'score']]"
   ]
  },
  {
   "cell_type": "code",
   "execution_count": 15,
   "metadata": {},
   "outputs": [],
   "source": [
    "# 空值用平均值填充\n",
    "train_df = train_df.fillna(train_df.mean())"
   ]
  },
  {
   "cell_type": "code",
   "execution_count": 16,
   "metadata": {
    "scrolled": false
   },
   "outputs": [
    {
     "data": {
      "text/html": [
       "<div>\n",
       "<style scoped>\n",
       "    .dataframe tbody tr th:only-of-type {\n",
       "        vertical-align: middle;\n",
       "    }\n",
       "\n",
       "    .dataframe tbody tr th {\n",
       "        vertical-align: top;\n",
       "    }\n",
       "\n",
       "    .dataframe thead th {\n",
       "        text-align: right;\n",
       "    }\n",
       "</style>\n",
       "<table border=\"1\" class=\"dataframe\">\n",
       "  <thead>\n",
       "    <tr style=\"text-align: right;\">\n",
       "      <th></th>\n",
       "      <th>user_id</th>\n",
       "      <th>photo_id</th>\n",
       "      <th>time</th>\n",
       "      <th>duration_time</th>\n",
       "      <th>click</th>\n",
       "      <th>gender</th>\n",
       "      <th>age</th>\n",
       "      <th>score</th>\n",
       "    </tr>\n",
       "  </thead>\n",
       "  <tbody>\n",
       "    <tr>\n",
       "      <th>0</th>\n",
       "      <td>1637</td>\n",
       "      <td>6484142</td>\n",
       "      <td>761036604603</td>\n",
       "      <td>11</td>\n",
       "      <td>0</td>\n",
       "      <td>0.423928</td>\n",
       "      <td>21.828906</td>\n",
       "      <td>57.681118</td>\n",
       "    </tr>\n",
       "    <tr>\n",
       "      <th>1</th>\n",
       "      <td>1637</td>\n",
       "      <td>4647664</td>\n",
       "      <td>761035501863</td>\n",
       "      <td>11</td>\n",
       "      <td>0</td>\n",
       "      <td>0.423928</td>\n",
       "      <td>21.828906</td>\n",
       "      <td>57.681118</td>\n",
       "    </tr>\n",
       "    <tr>\n",
       "      <th>2</th>\n",
       "      <td>1637</td>\n",
       "      <td>4994626</td>\n",
       "      <td>761036933553</td>\n",
       "      <td>10</td>\n",
       "      <td>1</td>\n",
       "      <td>0.423928</td>\n",
       "      <td>21.828906</td>\n",
       "      <td>57.681118</td>\n",
       "    </tr>\n",
       "    <tr>\n",
       "      <th>3</th>\n",
       "      <td>1637</td>\n",
       "      <td>4416881</td>\n",
       "      <td>761119247892</td>\n",
       "      <td>9</td>\n",
       "      <td>0</td>\n",
       "      <td>0.423928</td>\n",
       "      <td>21.828906</td>\n",
       "      <td>57.681118</td>\n",
       "    </tr>\n",
       "    <tr>\n",
       "      <th>4</th>\n",
       "      <td>1637</td>\n",
       "      <td>2597756</td>\n",
       "      <td>761119421332</td>\n",
       "      <td>11</td>\n",
       "      <td>0</td>\n",
       "      <td>0.423928</td>\n",
       "      <td>21.828906</td>\n",
       "      <td>57.681118</td>\n",
       "    </tr>\n",
       "  </tbody>\n",
       "</table>\n",
       "</div>"
      ],
      "text/plain": [
       "   user_id  photo_id          time  duration_time  click    gender        age  \\\n",
       "0     1637   6484142  761036604603             11      0  0.423928  21.828906   \n",
       "1     1637   4647664  761035501863             11      0  0.423928  21.828906   \n",
       "2     1637   4994626  761036933553             10      1  0.423928  21.828906   \n",
       "3     1637   4416881  761119247892              9      0  0.423928  21.828906   \n",
       "4     1637   2597756  761119421332             11      0  0.423928  21.828906   \n",
       "\n",
       "       score  \n",
       "0  57.681118  \n",
       "1  57.681118  \n",
       "2  57.681118  \n",
       "3  57.681118  \n",
       "4  57.681118  "
      ]
     },
     "execution_count": 16,
     "metadata": {},
     "output_type": "execute_result"
    }
   ],
   "source": [
    "train_df.head()"
   ]
  },
  {
   "cell_type": "markdown",
   "metadata": {},
   "source": [
    "## 数据标准化"
   ]
  },
  {
   "cell_type": "code",
   "execution_count": 17,
   "metadata": {},
   "outputs": [
    {
     "data": {
      "image/png": "[encoded data removed]",
      "text/plain": [
       "<Figure size 432x288 with 1 Axes>"
      ]
     },
     "metadata": {},
     "output_type": "display_data"
    }
   ],
   "source": [
    "# 看下age、score散点分布：\n",
    "\n",
    "import matplotlib.pyplot as plt\n",
    "from mlxtend.plotting import category_scatter\n",
    "\n",
    "fig = category_scatter(\n",
    "    x='age', \n",
    "    y='score', \n",
    "    label_col='click', \n",
    "    data=train_df[train_df['user_id'] == 1000], \n",
    "    legend_loc='upper left'\n",
    ")"
   ]
  },
  {
   "cell_type": "code",
   "execution_count": 18,
   "metadata": {},
   "outputs": [],
   "source": [
    "# 时间戳标准化为0~24小时\n",
    "def to_hour(time):\n",
    "    return int(time / 3600000) % 24"
   ]
  },
  {
   "cell_type": "code",
   "execution_count": 19,
   "metadata": {},
   "outputs": [
    {
     "data": {
      "text/html": [
       "<div>\n",
       "<style scoped>\n",
       "    .dataframe tbody tr th:only-of-type {\n",
       "        vertical-align: middle;\n",
       "    }\n",
       "\n",
       "    .dataframe tbody tr th {\n",
       "        vertical-align: top;\n",
       "    }\n",
       "\n",
       "    .dataframe thead th {\n",
       "        text-align: right;\n",
       "    }\n",
       "</style>\n",
       "<table border=\"1\" class=\"dataframe\">\n",
       "  <thead>\n",
       "    <tr style=\"text-align: right;\">\n",
       "      <th></th>\n",
       "      <th>user_id</th>\n",
       "      <th>photo_id</th>\n",
       "      <th>time</th>\n",
       "      <th>duration_time</th>\n",
       "      <th>click</th>\n",
       "      <th>gender</th>\n",
       "      <th>age</th>\n",
       "      <th>score</th>\n",
       "    </tr>\n",
       "  </thead>\n",
       "  <tbody>\n",
       "    <tr>\n",
       "      <th>0</th>\n",
       "      <td>1637</td>\n",
       "      <td>6484142</td>\n",
       "      <td>7</td>\n",
       "      <td>11</td>\n",
       "      <td>0</td>\n",
       "      <td>0.423928</td>\n",
       "      <td>21.828906</td>\n",
       "      <td>57.681118</td>\n",
       "    </tr>\n",
       "    <tr>\n",
       "      <th>1</th>\n",
       "      <td>1637</td>\n",
       "      <td>4647664</td>\n",
       "      <td>6</td>\n",
       "      <td>11</td>\n",
       "      <td>0</td>\n",
       "      <td>0.423928</td>\n",
       "      <td>21.828906</td>\n",
       "      <td>57.681118</td>\n",
       "    </tr>\n",
       "    <tr>\n",
       "      <th>2</th>\n",
       "      <td>1637</td>\n",
       "      <td>4994626</td>\n",
       "      <td>7</td>\n",
       "      <td>10</td>\n",
       "      <td>1</td>\n",
       "      <td>0.423928</td>\n",
       "      <td>21.828906</td>\n",
       "      <td>57.681118</td>\n",
       "    </tr>\n",
       "    <tr>\n",
       "      <th>3</th>\n",
       "      <td>1637</td>\n",
       "      <td>4416881</td>\n",
       "      <td>6</td>\n",
       "      <td>9</td>\n",
       "      <td>0</td>\n",
       "      <td>0.423928</td>\n",
       "      <td>21.828906</td>\n",
       "      <td>57.681118</td>\n",
       "    </tr>\n",
       "    <tr>\n",
       "      <th>4</th>\n",
       "      <td>1637</td>\n",
       "      <td>2597756</td>\n",
       "      <td>6</td>\n",
       "      <td>11</td>\n",
       "      <td>0</td>\n",
       "      <td>0.423928</td>\n",
       "      <td>21.828906</td>\n",
       "      <td>57.681118</td>\n",
       "    </tr>\n",
       "  </tbody>\n",
       "</table>\n",
       "</div>"
      ],
      "text/plain": [
       "   user_id  photo_id  time  duration_time  click    gender        age  \\\n",
       "0     1637   6484142     7             11      0  0.423928  21.828906   \n",
       "1     1637   4647664     6             11      0  0.423928  21.828906   \n",
       "2     1637   4994626     7             10      1  0.423928  21.828906   \n",
       "3     1637   4416881     6              9      0  0.423928  21.828906   \n",
       "4     1637   2597756     6             11      0  0.423928  21.828906   \n",
       "\n",
       "       score  \n",
       "0  57.681118  \n",
       "1  57.681118  \n",
       "2  57.681118  \n",
       "3  57.681118  \n",
       "4  57.681118  "
      ]
     },
     "execution_count": 19,
     "metadata": {},
     "output_type": "execute_result"
    }
   ],
   "source": [
    "train_df['time'] = train_df['time'].apply(to_hour)\n",
    "train_df.head()"
   ]
  },
  {
   "cell_type": "code",
   "execution_count": 20,
   "metadata": {},
   "outputs": [
    {
     "name": "stderr",
     "output_type": "stream",
     "text": [
      "/Users/sun/PycharmProjects/kuaishou/venv/lib/python3.6/site-packages/sklearn/utils/validation.py:475: DataConversionWarning: Data with input dtype int64 was converted to float64 by MinMaxScaler.\n",
      "  warnings.warn(msg, DataConversionWarning)\n"
     ]
    }
   ],
   "source": [
    "from sklearn import preprocessing\n",
    "\n",
    "train_df['age'] = preprocessing.MinMaxScaler().fit_transform(train_df['age'].values.reshape(-1, 1)).flatten()\n",
    "train_df['score'] = preprocessing.MinMaxScaler().fit_transform(train_df['score'].values.reshape(-1, 1)).flatten()\n",
    "train_df['time'] = preprocessing.MinMaxScaler().fit_transform(train_df['time'].values.reshape(-1, 1)).flatten()\n",
    "train_df['duration_time'] = preprocessing.QuantileTransformer().fit_transform(train_df['duration_time'].values.reshape(-1, 1)).flatten()\n"
   ]
  },
  {
   "cell_type": "code",
   "execution_count": 21,
   "metadata": {},
   "outputs": [
    {
     "data": {
      "text/html": [
       "<div>\n",
       "<style scoped>\n",
       "    .dataframe tbody tr th:only-of-type {\n",
       "        vertical-align: middle;\n",
       "    }\n",
       "\n",
       "    .dataframe tbody tr th {\n",
       "        vertical-align: top;\n",
       "    }\n",
       "\n",
       "    .dataframe thead th {\n",
       "        text-align: right;\n",
       "    }\n",
       "</style>\n",
       "<table border=\"1\" class=\"dataframe\">\n",
       "  <thead>\n",
       "    <tr style=\"text-align: right;\">\n",
       "      <th></th>\n",
       "      <th>user_id</th>\n",
       "      <th>photo_id</th>\n",
       "      <th>time</th>\n",
       "      <th>duration_time</th>\n",
       "      <th>click</th>\n",
       "      <th>gender</th>\n",
       "      <th>age</th>\n",
       "      <th>score</th>\n",
       "    </tr>\n",
       "  </thead>\n",
       "  <tbody>\n",
       "    <tr>\n",
       "      <th>0</th>\n",
       "      <td>1637</td>\n",
       "      <td>6484142</td>\n",
       "      <td>0.304348</td>\n",
       "      <td>0.002871</td>\n",
       "      <td>0</td>\n",
       "      <td>0.423928</td>\n",
       "      <td>0.548129</td>\n",
       "      <td>0.476976</td>\n",
       "    </tr>\n",
       "    <tr>\n",
       "      <th>1</th>\n",
       "      <td>1637</td>\n",
       "      <td>4647664</td>\n",
       "      <td>0.260870</td>\n",
       "      <td>0.002871</td>\n",
       "      <td>0</td>\n",
       "      <td>0.423928</td>\n",
       "      <td>0.548129</td>\n",
       "      <td>0.476976</td>\n",
       "    </tr>\n",
       "    <tr>\n",
       "      <th>2</th>\n",
       "      <td>1637</td>\n",
       "      <td>4994626</td>\n",
       "      <td>0.304348</td>\n",
       "      <td>0.002610</td>\n",
       "      <td>1</td>\n",
       "      <td>0.423928</td>\n",
       "      <td>0.548129</td>\n",
       "      <td>0.476976</td>\n",
       "    </tr>\n",
       "    <tr>\n",
       "      <th>3</th>\n",
       "      <td>1637</td>\n",
       "      <td>4416881</td>\n",
       "      <td>0.260870</td>\n",
       "      <td>0.002349</td>\n",
       "      <td>0</td>\n",
       "      <td>0.423928</td>\n",
       "      <td>0.548129</td>\n",
       "      <td>0.476976</td>\n",
       "    </tr>\n",
       "    <tr>\n",
       "      <th>4</th>\n",
       "      <td>1637</td>\n",
       "      <td>2597756</td>\n",
       "      <td>0.260870</td>\n",
       "      <td>0.002871</td>\n",
       "      <td>0</td>\n",
       "      <td>0.423928</td>\n",
       "      <td>0.548129</td>\n",
       "      <td>0.476976</td>\n",
       "    </tr>\n",
       "  </tbody>\n",
       "</table>\n",
       "</div>"
      ],
      "text/plain": [
       "   user_id  photo_id      time  duration_time  click    gender       age  \\\n",
       "0     1637   6484142  0.304348       0.002871      0  0.423928  0.548129   \n",
       "1     1637   4647664  0.260870       0.002871      0  0.423928  0.548129   \n",
       "2     1637   4994626  0.304348       0.002610      1  0.423928  0.548129   \n",
       "3     1637   4416881  0.260870       0.002349      0  0.423928  0.548129   \n",
       "4     1637   2597756  0.260870       0.002871      0  0.423928  0.548129   \n",
       "\n",
       "      score  \n",
       "0  0.476976  \n",
       "1  0.476976  \n",
       "2  0.476976  \n",
       "3  0.476976  \n",
       "4  0.476976  "
      ]
     },
     "execution_count": 21,
     "metadata": {},
     "output_type": "execute_result"
    }
   ],
   "source": [
    "train_df.head()"
   ]
  },
  {
   "cell_type": "markdown",
   "metadata": {},
   "source": [
    "## 清除数据"
   ]
  },
  {
   "cell_type": "code",
   "execution_count": 52,
   "metadata": {},
   "outputs": [
    {
     "data": {
      "text/plain": [
       "2778"
      ]
     },
     "execution_count": 52,
     "metadata": {},
     "output_type": "execute_result"
    }
   ],
   "source": [
    "import gc\n",
    "\n",
    "del train_face_df\n",
    "del train_face_details_df\n",
    "del train_face_columns\n",
    "del train_face_path\n",
    "\n",
    "del train_interaction_df\n",
    "del train_interaction_columns\n",
    "del train_interaction_path\n",
    "\n",
    "gc.collect()"
   ]
  },
  {
   "cell_type": "markdown",
   "metadata": {},
   "source": [
    "## 逻辑回归"
   ]
  },
  {
   "cell_type": "code",
   "execution_count": null,
   "metadata": {},
   "outputs": [],
   "source": [
    "# 每个用户训练一个逻辑回归模型，并导出\n",
    "\n",
    "from sklearn.externals import joblib\n",
    "\n",
    "for user_id in train_df['user_id'].unique():\n",
    "    train_X = train_df[train_df['user_id'] == user_id][['time', 'duration_time', 'gender', 'age', 'score']].values\n",
    "    train_y = train_df[train_df['user_id'] == user_id]['click'].values\n",
    "    clf = linear_model.LogisticRegression()\n",
    "    clf.fit(train_X, train_y)\n",
    "    # 持久化为磁盘文件\n",
    "    joblib.dump(clf, '../submit/pred_user_interest_face_model/' + str(user_id))\n",
    "    "
   ]
  },
  {
   "cell_type": "markdown",
   "metadata": {},
   "source": [
    "## 预测"
   ]
  },
  {
   "cell_type": "code",
   "execution_count": 74,
   "metadata": {},
   "outputs": [],
   "source": [
    "pred_df = valid_df[['user_id', 'photo_id', 'time', 'duration_time', 'gender', 'age', 'score']]\n",
    "pred_df = pred_df.reindex(columns=['user_id', 'photo_id', 'time', 'duration_time', 'gender', 'age', 'score', 'click_probability'])"
   ]
  },
  {
   "cell_type": "code",
   "execution_count": 75,
   "metadata": {
    "scrolled": false
   },
   "outputs": [
    {
     "data": {
      "text/html": [
       "<div>\n",
       "<style scoped>\n",
       "    .dataframe tbody tr th:only-of-type {\n",
       "        vertical-align: middle;\n",
       "    }\n",
       "\n",
       "    .dataframe tbody tr th {\n",
       "        vertical-align: top;\n",
       "    }\n",
       "\n",
       "    .dataframe thead th {\n",
       "        text-align: right;\n",
       "    }\n",
       "</style>\n",
       "<table border=\"1\" class=\"dataframe\">\n",
       "  <thead>\n",
       "    <tr style=\"text-align: right;\">\n",
       "      <th></th>\n",
       "      <th>user_id</th>\n",
       "      <th>photo_id</th>\n",
       "      <th>time</th>\n",
       "      <th>duration_time</th>\n",
       "      <th>gender</th>\n",
       "      <th>age</th>\n",
       "      <th>score</th>\n",
       "      <th>click_probability</th>\n",
       "    </tr>\n",
       "  </thead>\n",
       "  <tbody>\n",
       "    <tr>\n",
       "      <th>21</th>\n",
       "      <td>1637</td>\n",
       "      <td>7300221</td>\n",
       "      <td>0.260870</td>\n",
       "      <td>0.001827</td>\n",
       "      <td>0.423928</td>\n",
       "      <td>0.548129</td>\n",
       "      <td>0.476976</td>\n",
       "      <td>NaN</td>\n",
       "    </tr>\n",
       "    <tr>\n",
       "      <th>30</th>\n",
       "      <td>1637</td>\n",
       "      <td>7090577</td>\n",
       "      <td>0.304348</td>\n",
       "      <td>0.003915</td>\n",
       "      <td>0.423928</td>\n",
       "      <td>0.548129</td>\n",
       "      <td>0.476976</td>\n",
       "      <td>NaN</td>\n",
       "    </tr>\n",
       "    <tr>\n",
       "      <th>47</th>\n",
       "      <td>1637</td>\n",
       "      <td>7427964</td>\n",
       "      <td>0.217391</td>\n",
       "      <td>0.004437</td>\n",
       "      <td>0.423928</td>\n",
       "      <td>0.548129</td>\n",
       "      <td>0.476976</td>\n",
       "      <td>NaN</td>\n",
       "    </tr>\n",
       "    <tr>\n",
       "      <th>52</th>\n",
       "      <td>1637</td>\n",
       "      <td>7115682</td>\n",
       "      <td>0.304348</td>\n",
       "      <td>0.036544</td>\n",
       "      <td>0.423928</td>\n",
       "      <td>0.548129</td>\n",
       "      <td>0.476976</td>\n",
       "      <td>NaN</td>\n",
       "    </tr>\n",
       "    <tr>\n",
       "      <th>56</th>\n",
       "      <td>1637</td>\n",
       "      <td>7089041</td>\n",
       "      <td>0.260870</td>\n",
       "      <td>0.003915</td>\n",
       "      <td>0.423928</td>\n",
       "      <td>0.548129</td>\n",
       "      <td>0.476976</td>\n",
       "      <td>NaN</td>\n",
       "    </tr>\n",
       "  </tbody>\n",
       "</table>\n",
       "</div>"
      ],
      "text/plain": [
       "    user_id  photo_id      time  duration_time    gender       age     score  \\\n",
       "21     1637   7300221  0.260870       0.001827  0.423928  0.548129  0.476976   \n",
       "30     1637   7090577  0.304348       0.003915  0.423928  0.548129  0.476976   \n",
       "47     1637   7427964  0.217391       0.004437  0.423928  0.548129  0.476976   \n",
       "52     1637   7115682  0.304348       0.036544  0.423928  0.548129  0.476976   \n",
       "56     1637   7089041  0.260870       0.003915  0.423928  0.548129  0.476976   \n",
       "\n",
       "    click_probability  \n",
       "21                NaN  \n",
       "30                NaN  \n",
       "47                NaN  \n",
       "52                NaN  \n",
       "56                NaN  "
      ]
     },
     "execution_count": 75,
     "metadata": {},
     "output_type": "execute_result"
    }
   ],
   "source": [
    "pred_df.head()"
   ]
  },
  {
   "cell_type": "code",
   "execution_count": 77,
   "metadata": {},
   "outputs": [],
   "source": [
    "# 装载预测模型\n",
    "\n",
    "pred_models = {}\n",
    "\n",
    "for user_id in pred_df['user_id'].unique():\n",
    "    pred_models[user_id] = joblib.load('../out/pred_user_interest_face_model/' + str(user_id))\n",
    "    "
   ]
  },
  {
   "cell_type": "code",
   "execution_count": 78,
   "metadata": {},
   "outputs": [],
   "source": [
    "# 预测函数\n",
    "def predict(row):\n",
    "#     print(np.array([row['time'], row['duration_time'], row['area'], row['gender'], row['age'], row['score']]))\n",
    "    user_id = int(row['user_id'])\n",
    "    clf = pred_models[user_id]\n",
    "    proba = clf.predict_proba(np.array([row['time'], row['duration_time'], row['gender'], row['age'], row['score']]).reshape(1, -1))[0, 1]\n",
    "    return round(proba, 6)\n"
   ]
  },
  {
   "cell_type": "code",
   "execution_count": 79,
   "metadata": {},
   "outputs": [],
   "source": [
    "# 预测填充click_probability列\n",
    "\n",
    "import numpy as np\n",
    "\n",
    "pred_df['click_probability'] = pred_df.apply(predict, axis = 1)"
   ]
  },
  {
   "cell_type": "code",
   "execution_count": 80,
   "metadata": {},
   "outputs": [
    {
     "data": {
      "text/html": [
       "<div>\n",
       "<style scoped>\n",
       "    .dataframe tbody tr th:only-of-type {\n",
       "        vertical-align: middle;\n",
       "    }\n",
       "\n",
       "    .dataframe tbody tr th {\n",
       "        vertical-align: top;\n",
       "    }\n",
       "\n",
       "    .dataframe thead th {\n",
       "        text-align: right;\n",
       "    }\n",
       "</style>\n",
       "<table border=\"1\" class=\"dataframe\">\n",
       "  <thead>\n",
       "    <tr style=\"text-align: right;\">\n",
       "      <th></th>\n",
       "      <th>user_id</th>\n",
       "      <th>photo_id</th>\n",
       "      <th>click_probability</th>\n",
       "    </tr>\n",
       "  </thead>\n",
       "  <tbody>\n",
       "    <tr>\n",
       "      <th>21</th>\n",
       "      <td>1637</td>\n",
       "      <td>7300221</td>\n",
       "      <td>0.215367</td>\n",
       "    </tr>\n",
       "    <tr>\n",
       "      <th>30</th>\n",
       "      <td>1637</td>\n",
       "      <td>7090577</td>\n",
       "      <td>0.215316</td>\n",
       "    </tr>\n",
       "    <tr>\n",
       "      <th>47</th>\n",
       "      <td>1637</td>\n",
       "      <td>7427964</td>\n",
       "      <td>0.215291</td>\n",
       "    </tr>\n",
       "    <tr>\n",
       "      <th>52</th>\n",
       "      <td>1637</td>\n",
       "      <td>7115682</td>\n",
       "      <td>0.214442</td>\n",
       "    </tr>\n",
       "    <tr>\n",
       "      <th>56</th>\n",
       "      <td>1637</td>\n",
       "      <td>7089041</td>\n",
       "      <td>0.215311</td>\n",
       "    </tr>\n",
       "  </tbody>\n",
       "</table>\n",
       "</div>"
      ],
      "text/plain": [
       "    user_id  photo_id  click_probability\n",
       "21     1637   7300221           0.215367\n",
       "30     1637   7090577           0.215316\n",
       "47     1637   7427964           0.215291\n",
       "52     1637   7115682           0.214442\n",
       "56     1637   7089041           0.215311"
      ]
     },
     "execution_count": 80,
     "metadata": {},
     "output_type": "execute_result"
    }
   ],
   "source": [
    "pred_df = pred_df[['user_id', 'photo_id', 'click_probability']]\n",
    "pred_df.head()"
   ]
  },
  {
   "cell_type": "markdown",
   "metadata": {},
   "source": [
    "## 导出"
   ]
  },
  {
   "cell_type": "code",
   "execution_count": 81,
   "metadata": {},
   "outputs": [],
   "source": [
    "# 导出预测结果\n",
    "pred_df.to_csv('../out/pred_user_interest_face.txt', index=False, header=False, sep='\\t')"
   ]
  },
  {
   "cell_type": "code",
   "execution_count": null,
   "metadata": {},
   "outputs": [],
   "source": [
    "# 导出验证集\n",
    "valid_interaction_df[['user_id', 'photo_id', 'click']].to_csv('../out/valid.txt', index=False, header=False, sep='\\t')"
   ]
  },
  {
   "cell_type": "markdown",
   "metadata": {},
   "source": [
    "## 评分\n",
    "\n",
    "0.7069625893799051 - 平均值法\n",
    "\n",
    "0.7097285003232818 - duration_time\n",
    "\n",
    "0.6189868898378826 - time(ms)、duration_time\n",
    "\n",
    "0.7149841956620693 - time(hour)、duration_time\n",
    "\n",
    "0.7067281050362889 - gender、age、score\n",
    "\n",
    "0.7123259806977 - time(hour)、duration_time、gender、age、score\n"
   ]
  },
  {
   "cell_type": "code",
   "execution_count": 82,
   "metadata": {},
   "outputs": [
    {
     "name": "stdout",
     "output_type": "stream",
     "text": [
      "{'code': 0, 'message': 'validation success'}\n",
      "{'code': 0, 'score': 0.7123259806977, 'message': 'success'}\n"
     ]
    }
   ],
   "source": [
    "%run evaluation_script.py ../out/pred_user_interest_face.txt ../out/valid.txt"
   ]
  }
 ],
 "metadata": {
  "kernelspec": {
   "display_name": "Python 3",
   "language": "python",
   "name": "python3"
  },
  "language_info": {
   "codemirror_mode": {
    "name": "ipython",
    "version": 3
   },
   "file_extension": ".py",
   "mimetype": "text/x-python",
   "name": "python",
   "nbconvert_exporter": "python",
   "pygments_lexer": "ipython3",
   "version": "3.6.4"
  },
  "widgets": {
   "application/vnd.jupyter.widget-state+json": {
    "state": {},
    "version_major": 2,
    "version_minor": 0
   }
  }
 },
 "nbformat": 4,
 "nbformat_minor": 1
}
