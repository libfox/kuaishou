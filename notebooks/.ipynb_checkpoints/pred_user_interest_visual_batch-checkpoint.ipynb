{
 "cells": [
  {
   "cell_type": "code",
   "execution_count": 2,
   "metadata": {},
   "outputs": [],
   "source": [
    "from IPython.core.interactiveshell import InteractiveShell\n",
    "InteractiveShell.ast_node_interactivity = \"all\"\n",
    "\n",
    "%matplotlib inline"
   ]
  },
  {
   "cell_type": "code",
   "execution_count": 3,
   "metadata": {},
   "outputs": [],
   "source": [
    "from sklearn import linear_model\n",
    "from sklearn import svm\n",
    "from sklearn import metrics\n",
    "from sklearn import cluster\n",
    "from sklearn import naive_bayes\n",
    "from sklearn import neural_network\n",
    "from sklearn import ensemble\n",
    "from sklearn.externals import joblib\n",
    "\n",
    "import pandas as pd\n",
    "import numpy as np\n",
    "\n",
    "import zipfile\n",
    "import os\n",
    "import gc\n",
    "\n",
    "import lightgbm as lgb\n",
    "from lightgbm import Dataset"
   ]
  },
  {
   "cell_type": "markdown",
   "metadata": {},
   "source": [
    "# 训练"
   ]
  },
  {
   "cell_type": "code",
   "execution_count": 3,
   "metadata": {
    "scrolled": true
   },
   "outputs": [
    {
     "data": {
      "text/html": [
       "<div>\n",
       "<style scoped>\n",
       "    .dataframe tbody tr th:only-of-type {\n",
       "        vertical-align: middle;\n",
       "    }\n",
       "\n",
       "    .dataframe tbody tr th {\n",
       "        vertical-align: top;\n",
       "    }\n",
       "\n",
       "    .dataframe thead th {\n",
       "        text-align: right;\n",
       "    }\n",
       "</style>\n",
       "<table border=\"1\" class=\"dataframe\">\n",
       "  <thead>\n",
       "    <tr style=\"text-align: right;\">\n",
       "      <th></th>\n",
       "      <th>user_id</th>\n",
       "      <th>photo_id</th>\n",
       "      <th>click</th>\n",
       "      <th>like</th>\n",
       "      <th>follow</th>\n",
       "      <th>time</th>\n",
       "      <th>playing_time</th>\n",
       "      <th>duration_time</th>\n",
       "      <th>activity</th>\n",
       "      <th>mean</th>\n",
       "    </tr>\n",
       "  </thead>\n",
       "  <tbody>\n",
       "    <tr>\n",
       "      <th>0</th>\n",
       "      <td>37431</td>\n",
       "      <td>4634209</td>\n",
       "      <td>1</td>\n",
       "      <td>0</td>\n",
       "      <td>0</td>\n",
       "      <td>761068790673</td>\n",
       "      <td>1</td>\n",
       "      <td>17</td>\n",
       "      <td>0.018257</td>\n",
       "      <td>0.360563</td>\n",
       "    </tr>\n",
       "    <tr>\n",
       "      <th>1</th>\n",
       "      <td>37431</td>\n",
       "      <td>1792827</td>\n",
       "      <td>1</td>\n",
       "      <td>0</td>\n",
       "      <td>0</td>\n",
       "      <td>761067070475</td>\n",
       "      <td>2</td>\n",
       "      <td>23</td>\n",
       "      <td>0.018257</td>\n",
       "      <td>0.360563</td>\n",
       "    </tr>\n",
       "    <tr>\n",
       "      <th>2</th>\n",
       "      <td>37431</td>\n",
       "      <td>2434713</td>\n",
       "      <td>0</td>\n",
       "      <td>0</td>\n",
       "      <td>0</td>\n",
       "      <td>761043451450</td>\n",
       "      <td>0</td>\n",
       "      <td>16</td>\n",
       "      <td>0.018257</td>\n",
       "      <td>0.360563</td>\n",
       "    </tr>\n",
       "    <tr>\n",
       "      <th>3</th>\n",
       "      <td>37431</td>\n",
       "      <td>3998155</td>\n",
       "      <td>1</td>\n",
       "      <td>0</td>\n",
       "      <td>0</td>\n",
       "      <td>761068790673</td>\n",
       "      <td>12</td>\n",
       "      <td>11</td>\n",
       "      <td>0.018257</td>\n",
       "      <td>0.360563</td>\n",
       "    </tr>\n",
       "    <tr>\n",
       "      <th>4</th>\n",
       "      <td>37431</td>\n",
       "      <td>1793349</td>\n",
       "      <td>1</td>\n",
       "      <td>0</td>\n",
       "      <td>0</td>\n",
       "      <td>761043997858</td>\n",
       "      <td>9</td>\n",
       "      <td>11</td>\n",
       "      <td>0.018257</td>\n",
       "      <td>0.360563</td>\n",
       "    </tr>\n",
       "  </tbody>\n",
       "</table>\n",
       "</div>"
      ],
      "text/plain": [
       "   user_id  photo_id  click  like  follow          time  playing_time  \\\n",
       "0    37431   4634209      1     0       0  761068790673             1   \n",
       "1    37431   1792827      1     0       0  761067070475             2   \n",
       "2    37431   2434713      0     0       0  761043451450             0   \n",
       "3    37431   3998155      1     0       0  761068790673            12   \n",
       "4    37431   1793349      1     0       0  761043997858             9   \n",
       "\n",
       "   duration_time  activity      mean  \n",
       "0             17  0.018257  0.360563  \n",
       "1             23  0.018257  0.360563  \n",
       "2             16  0.018257  0.360563  \n",
       "3             11  0.018257  0.360563  \n",
       "4             11  0.018257  0.360563  "
      ]
     },
     "execution_count": 3,
     "metadata": {},
     "output_type": "execute_result"
    }
   ],
   "source": [
    "df_train_interaction = pd.read_table(\n",
    "    '../data1/train_interaction_000_002.txt', \n",
    "    names=['user_id', 'photo_id', 'click', 'like', 'follow', 'time', 'playing_time', 'duration_time', 'activity', 'mean']\n",
    ")\n",
    "df_train_interaction.head()"
   ]
  },
  {
   "cell_type": "code",
   "execution_count": 4,
   "metadata": {
    "scrolled": false
   },
   "outputs": [
    {
     "data": {
      "text/html": [
       "<div>\n",
       "<style scoped>\n",
       "    .dataframe tbody tr th:only-of-type {\n",
       "        vertical-align: middle;\n",
       "    }\n",
       "\n",
       "    .dataframe tbody tr th {\n",
       "        vertical-align: top;\n",
       "    }\n",
       "\n",
       "    .dataframe thead th {\n",
       "        text-align: right;\n",
       "    }\n",
       "</style>\n",
       "<table border=\"1\" class=\"dataframe\">\n",
       "  <thead>\n",
       "    <tr style=\"text-align: right;\">\n",
       "      <th></th>\n",
       "      <th>0</th>\n",
       "      <th>1</th>\n",
       "      <th>2</th>\n",
       "      <th>3</th>\n",
       "      <th>4</th>\n",
       "      <th>5</th>\n",
       "      <th>6</th>\n",
       "      <th>7</th>\n",
       "      <th>8</th>\n",
       "      <th>9</th>\n",
       "      <th>...</th>\n",
       "      <th>2038</th>\n",
       "      <th>2039</th>\n",
       "      <th>2040</th>\n",
       "      <th>2041</th>\n",
       "      <th>2042</th>\n",
       "      <th>2043</th>\n",
       "      <th>2044</th>\n",
       "      <th>2045</th>\n",
       "      <th>2046</th>\n",
       "      <th>2047</th>\n",
       "    </tr>\n",
       "  </thead>\n",
       "  <tbody>\n",
       "    <tr>\n",
       "      <th>0</th>\n",
       "      <td>0.379524</td>\n",
       "      <td>0.070647</td>\n",
       "      <td>0.076638</td>\n",
       "      <td>0.275681</td>\n",
       "      <td>1.226613</td>\n",
       "      <td>0.193970</td>\n",
       "      <td>0.242775</td>\n",
       "      <td>0.405643</td>\n",
       "      <td>0.053296</td>\n",
       "      <td>0.230462</td>\n",
       "      <td>...</td>\n",
       "      <td>0.409435</td>\n",
       "      <td>0.018522</td>\n",
       "      <td>0.055796</td>\n",
       "      <td>0.040563</td>\n",
       "      <td>0.234662</td>\n",
       "      <td>0.482360</td>\n",
       "      <td>1.178618</td>\n",
       "      <td>0.049136</td>\n",
       "      <td>0.065847</td>\n",
       "      <td>0.248399</td>\n",
       "    </tr>\n",
       "    <tr>\n",
       "      <th>1</th>\n",
       "      <td>0.111587</td>\n",
       "      <td>0.388851</td>\n",
       "      <td>0.031677</td>\n",
       "      <td>0.075973</td>\n",
       "      <td>0.207334</td>\n",
       "      <td>0.229689</td>\n",
       "      <td>0.283281</td>\n",
       "      <td>0.188244</td>\n",
       "      <td>0.223518</td>\n",
       "      <td>0.043784</td>\n",
       "      <td>...</td>\n",
       "      <td>0.096185</td>\n",
       "      <td>0.032350</td>\n",
       "      <td>0.226936</td>\n",
       "      <td>0.090192</td>\n",
       "      <td>0.485411</td>\n",
       "      <td>0.202011</td>\n",
       "      <td>0.789261</td>\n",
       "      <td>0.100794</td>\n",
       "      <td>0.000000</td>\n",
       "      <td>0.281388</td>\n",
       "    </tr>\n",
       "    <tr>\n",
       "      <th>2</th>\n",
       "      <td>0.068803</td>\n",
       "      <td>0.548732</td>\n",
       "      <td>0.030362</td>\n",
       "      <td>0.189058</td>\n",
       "      <td>0.365160</td>\n",
       "      <td>0.085679</td>\n",
       "      <td>0.107933</td>\n",
       "      <td>0.909248</td>\n",
       "      <td>0.043536</td>\n",
       "      <td>0.201542</td>\n",
       "      <td>...</td>\n",
       "      <td>0.174621</td>\n",
       "      <td>0.435897</td>\n",
       "      <td>0.000000</td>\n",
       "      <td>0.116856</td>\n",
       "      <td>0.236042</td>\n",
       "      <td>0.722318</td>\n",
       "      <td>0.196697</td>\n",
       "      <td>0.205278</td>\n",
       "      <td>0.316059</td>\n",
       "      <td>0.382032</td>\n",
       "    </tr>\n",
       "    <tr>\n",
       "      <th>3</th>\n",
       "      <td>0.349143</td>\n",
       "      <td>0.224708</td>\n",
       "      <td>0.168317</td>\n",
       "      <td>0.588925</td>\n",
       "      <td>0.458902</td>\n",
       "      <td>0.235370</td>\n",
       "      <td>0.038113</td>\n",
       "      <td>0.693623</td>\n",
       "      <td>0.008700</td>\n",
       "      <td>0.167651</td>\n",
       "      <td>...</td>\n",
       "      <td>0.291763</td>\n",
       "      <td>1.085078</td>\n",
       "      <td>0.026809</td>\n",
       "      <td>0.381866</td>\n",
       "      <td>0.343808</td>\n",
       "      <td>0.886710</td>\n",
       "      <td>0.594916</td>\n",
       "      <td>0.586105</td>\n",
       "      <td>0.090885</td>\n",
       "      <td>0.778998</td>\n",
       "    </tr>\n",
       "    <tr>\n",
       "      <th>4</th>\n",
       "      <td>0.542761</td>\n",
       "      <td>0.140384</td>\n",
       "      <td>0.082603</td>\n",
       "      <td>0.178404</td>\n",
       "      <td>0.160813</td>\n",
       "      <td>0.380198</td>\n",
       "      <td>0.219815</td>\n",
       "      <td>0.508950</td>\n",
       "      <td>0.155591</td>\n",
       "      <td>0.657693</td>\n",
       "      <td>...</td>\n",
       "      <td>0.338272</td>\n",
       "      <td>0.766638</td>\n",
       "      <td>0.161643</td>\n",
       "      <td>0.199972</td>\n",
       "      <td>0.279232</td>\n",
       "      <td>0.269324</td>\n",
       "      <td>0.654554</td>\n",
       "      <td>0.261339</td>\n",
       "      <td>0.211313</td>\n",
       "      <td>0.530757</td>\n",
       "    </tr>\n",
       "  </tbody>\n",
       "</table>\n",
       "<p>5 rows × 2048 columns</p>\n",
       "</div>"
      ],
      "text/plain": [
       "       0         1         2         3         4         5         6     \\\n",
       "0  0.379524  0.070647  0.076638  0.275681  1.226613  0.193970  0.242775   \n",
       "1  0.111587  0.388851  0.031677  0.075973  0.207334  0.229689  0.283281   \n",
       "2  0.068803  0.548732  0.030362  0.189058  0.365160  0.085679  0.107933   \n",
       "3  0.349143  0.224708  0.168317  0.588925  0.458902  0.235370  0.038113   \n",
       "4  0.542761  0.140384  0.082603  0.178404  0.160813  0.380198  0.219815   \n",
       "\n",
       "       7         8         9       ...         2038      2039      2040  \\\n",
       "0  0.405643  0.053296  0.230462    ...     0.409435  0.018522  0.055796   \n",
       "1  0.188244  0.223518  0.043784    ...     0.096185  0.032350  0.226936   \n",
       "2  0.909248  0.043536  0.201542    ...     0.174621  0.435897  0.000000   \n",
       "3  0.693623  0.008700  0.167651    ...     0.291763  1.085078  0.026809   \n",
       "4  0.508950  0.155591  0.657693    ...     0.338272  0.766638  0.161643   \n",
       "\n",
       "       2041      2042      2043      2044      2045      2046      2047  \n",
       "0  0.040563  0.234662  0.482360  1.178618  0.049136  0.065847  0.248399  \n",
       "1  0.090192  0.485411  0.202011  0.789261  0.100794  0.000000  0.281388  \n",
       "2  0.116856  0.236042  0.722318  0.196697  0.205278  0.316059  0.382032  \n",
       "3  0.381866  0.343808  0.886710  0.594916  0.586105  0.090885  0.778998  \n",
       "4  0.199972  0.279232  0.269324  0.654554  0.261339  0.211313  0.530757  \n",
       "\n",
       "[5 rows x 2048 columns]"
      ]
     },
     "execution_count": 4,
     "metadata": {},
     "output_type": "execute_result"
    }
   ],
   "source": [
    "df_train_visual = pd.read_table(\n",
    "    '../data1/train_visual_000_002.txt',\n",
    "    header = None\n",
    ")\n",
    "df_train_visual.head()"
   ]
  },
  {
   "cell_type": "code",
   "execution_count": 18,
   "metadata": {},
   "outputs": [
    {
     "data": {
      "text/html": [
       "<div>\n",
       "<style scoped>\n",
       "    .dataframe tbody tr th:only-of-type {\n",
       "        vertical-align: middle;\n",
       "    }\n",
       "\n",
       "    .dataframe tbody tr th {\n",
       "        vertical-align: top;\n",
       "    }\n",
       "\n",
       "    .dataframe thead th {\n",
       "        text-align: right;\n",
       "    }\n",
       "</style>\n",
       "<table border=\"1\" class=\"dataframe\">\n",
       "  <thead>\n",
       "    <tr style=\"text-align: right;\">\n",
       "      <th></th>\n",
       "      <th>click</th>\n",
       "      <th>activity</th>\n",
       "      <th>mean</th>\n",
       "      <th>0</th>\n",
       "      <th>1</th>\n",
       "      <th>2</th>\n",
       "      <th>3</th>\n",
       "      <th>4</th>\n",
       "      <th>5</th>\n",
       "      <th>6</th>\n",
       "      <th>...</th>\n",
       "      <th>2038</th>\n",
       "      <th>2039</th>\n",
       "      <th>2040</th>\n",
       "      <th>2041</th>\n",
       "      <th>2042</th>\n",
       "      <th>2043</th>\n",
       "      <th>2044</th>\n",
       "      <th>2045</th>\n",
       "      <th>2046</th>\n",
       "      <th>2047</th>\n",
       "    </tr>\n",
       "  </thead>\n",
       "  <tbody>\n",
       "    <tr>\n",
       "      <th>0</th>\n",
       "      <td>1</td>\n",
       "      <td>0.018257</td>\n",
       "      <td>0.360563</td>\n",
       "      <td>0.379524</td>\n",
       "      <td>0.070647</td>\n",
       "      <td>0.076638</td>\n",
       "      <td>0.275681</td>\n",
       "      <td>1.226613</td>\n",
       "      <td>0.193970</td>\n",
       "      <td>0.242775</td>\n",
       "      <td>...</td>\n",
       "      <td>0.409435</td>\n",
       "      <td>0.018522</td>\n",
       "      <td>0.055796</td>\n",
       "      <td>0.040563</td>\n",
       "      <td>0.234662</td>\n",
       "      <td>0.482360</td>\n",
       "      <td>1.178618</td>\n",
       "      <td>0.049136</td>\n",
       "      <td>0.065847</td>\n",
       "      <td>0.248399</td>\n",
       "    </tr>\n",
       "    <tr>\n",
       "      <th>1</th>\n",
       "      <td>1</td>\n",
       "      <td>0.018257</td>\n",
       "      <td>0.360563</td>\n",
       "      <td>0.111587</td>\n",
       "      <td>0.388851</td>\n",
       "      <td>0.031677</td>\n",
       "      <td>0.075973</td>\n",
       "      <td>0.207334</td>\n",
       "      <td>0.229689</td>\n",
       "      <td>0.283281</td>\n",
       "      <td>...</td>\n",
       "      <td>0.096185</td>\n",
       "      <td>0.032350</td>\n",
       "      <td>0.226936</td>\n",
       "      <td>0.090192</td>\n",
       "      <td>0.485411</td>\n",
       "      <td>0.202011</td>\n",
       "      <td>0.789261</td>\n",
       "      <td>0.100794</td>\n",
       "      <td>0.000000</td>\n",
       "      <td>0.281388</td>\n",
       "    </tr>\n",
       "    <tr>\n",
       "      <th>2</th>\n",
       "      <td>0</td>\n",
       "      <td>0.018257</td>\n",
       "      <td>0.360563</td>\n",
       "      <td>0.068803</td>\n",
       "      <td>0.548732</td>\n",
       "      <td>0.030362</td>\n",
       "      <td>0.189058</td>\n",
       "      <td>0.365160</td>\n",
       "      <td>0.085679</td>\n",
       "      <td>0.107933</td>\n",
       "      <td>...</td>\n",
       "      <td>0.174621</td>\n",
       "      <td>0.435897</td>\n",
       "      <td>0.000000</td>\n",
       "      <td>0.116856</td>\n",
       "      <td>0.236042</td>\n",
       "      <td>0.722318</td>\n",
       "      <td>0.196697</td>\n",
       "      <td>0.205278</td>\n",
       "      <td>0.316059</td>\n",
       "      <td>0.382032</td>\n",
       "    </tr>\n",
       "    <tr>\n",
       "      <th>3</th>\n",
       "      <td>1</td>\n",
       "      <td>0.018257</td>\n",
       "      <td>0.360563</td>\n",
       "      <td>0.349143</td>\n",
       "      <td>0.224708</td>\n",
       "      <td>0.168317</td>\n",
       "      <td>0.588925</td>\n",
       "      <td>0.458902</td>\n",
       "      <td>0.235370</td>\n",
       "      <td>0.038113</td>\n",
       "      <td>...</td>\n",
       "      <td>0.291763</td>\n",
       "      <td>1.085078</td>\n",
       "      <td>0.026809</td>\n",
       "      <td>0.381866</td>\n",
       "      <td>0.343808</td>\n",
       "      <td>0.886710</td>\n",
       "      <td>0.594916</td>\n",
       "      <td>0.586105</td>\n",
       "      <td>0.090885</td>\n",
       "      <td>0.778998</td>\n",
       "    </tr>\n",
       "    <tr>\n",
       "      <th>4</th>\n",
       "      <td>1</td>\n",
       "      <td>0.018257</td>\n",
       "      <td>0.360563</td>\n",
       "      <td>0.542761</td>\n",
       "      <td>0.140384</td>\n",
       "      <td>0.082603</td>\n",
       "      <td>0.178404</td>\n",
       "      <td>0.160813</td>\n",
       "      <td>0.380198</td>\n",
       "      <td>0.219815</td>\n",
       "      <td>...</td>\n",
       "      <td>0.338272</td>\n",
       "      <td>0.766638</td>\n",
       "      <td>0.161643</td>\n",
       "      <td>0.199972</td>\n",
       "      <td>0.279232</td>\n",
       "      <td>0.269324</td>\n",
       "      <td>0.654554</td>\n",
       "      <td>0.261339</td>\n",
       "      <td>0.211313</td>\n",
       "      <td>0.530757</td>\n",
       "    </tr>\n",
       "  </tbody>\n",
       "</table>\n",
       "<p>5 rows × 2051 columns</p>\n",
       "</div>"
      ],
      "text/plain": [
       "   click  activity      mean         0         1         2         3  \\\n",
       "0      1  0.018257  0.360563  0.379524  0.070647  0.076638  0.275681   \n",
       "1      1  0.018257  0.360563  0.111587  0.388851  0.031677  0.075973   \n",
       "2      0  0.018257  0.360563  0.068803  0.548732  0.030362  0.189058   \n",
       "3      1  0.018257  0.360563  0.349143  0.224708  0.168317  0.588925   \n",
       "4      1  0.018257  0.360563  0.542761  0.140384  0.082603  0.178404   \n",
       "\n",
       "          4         5         6    ...         2038      2039      2040  \\\n",
       "0  1.226613  0.193970  0.242775    ...     0.409435  0.018522  0.055796   \n",
       "1  0.207334  0.229689  0.283281    ...     0.096185  0.032350  0.226936   \n",
       "2  0.365160  0.085679  0.107933    ...     0.174621  0.435897  0.000000   \n",
       "3  0.458902  0.235370  0.038113    ...     0.291763  1.085078  0.026809   \n",
       "4  0.160813  0.380198  0.219815    ...     0.338272  0.766638  0.161643   \n",
       "\n",
       "       2041      2042      2043      2044      2045      2046      2047  \n",
       "0  0.040563  0.234662  0.482360  1.178618  0.049136  0.065847  0.248399  \n",
       "1  0.090192  0.485411  0.202011  0.789261  0.100794  0.000000  0.281388  \n",
       "2  0.116856  0.236042  0.722318  0.196697  0.205278  0.316059  0.382032  \n",
       "3  0.381866  0.343808  0.886710  0.594916  0.586105  0.090885  0.778998  \n",
       "4  0.199972  0.279232  0.269324  0.654554  0.261339  0.211313  0.530757  \n",
       "\n",
       "[5 rows x 2051 columns]"
      ]
     },
     "execution_count": 18,
     "metadata": {},
     "output_type": "execute_result"
    }
   ],
   "source": [
    "df_train = pd.concat([df_train_interaction[['click', 'activity', 'mean']], df_train_visual], axis=1)\n",
    "df_train.head()"
   ]
  },
  {
   "cell_type": "code",
   "execution_count": null,
   "metadata": {},
   "outputs": [],
   "source": [
    "df_train.to_csv('../data1/train_000_002.txt', index=False, header=False, sep='\\t')"
   ]
  },
  {
   "cell_type": "code",
   "execution_count": 7,
   "metadata": {},
   "outputs": [],
   "source": [
    "# # 生成二进制训练集：\n",
    "# X_train = df_train.drop(columns=['click']).values\n",
    "# y_train = df_train['click'].values"
   ]
  },
  {
   "cell_type": "code",
   "execution_count": 15,
   "metadata": {},
   "outputs": [],
   "source": [
    "# lgb.Dataset(X_train, y_train).save_binary('../data1/train_000_002.bin')"
   ]
  },
  {
   "cell_type": "code",
   "execution_count": null,
   "metadata": {},
   "outputs": [],
   "source": [
    "# del df_train_interaction\n",
    "# del df_train_visual\n",
    "# del df_train\n",
    "# del X_train\n",
    "# del y_train\n",
    "# gc.collect()"
   ]
  },
  {
   "cell_type": "code",
   "execution_count": null,
   "metadata": {
    "scrolled": true
   },
   "outputs": [
    {
     "name": "stdout",
     "output_type": "stream",
     "text": [
      "[LightGBM] [Info] Finished loading parameters\n",
      "[LightGBM] [Info] Using column number 2 as label\n",
      "[LightGBM] [Warning] File ../data1/train_000_002.txt.bin exists, cannot save binary to it\n",
      "[LightGBM] [Info] Finished loading data in 2.803268 seconds\n",
      "[LightGBM] [Info] Number of positive: 201842, number of negative: 298485\n",
      "[LightGBM] [Info] Total Bins 522704\n",
      "[LightGBM] [Info] Number of data: 500327, number of used features: 2050\n",
      "[LightGBM] [Info] Finished initializing training\n",
      "[LightGBM] [Info] Started training...\n",
      "[LightGBM] [Info] [binary:BoostFromScore]: pavg=0.403420 -> initscore=-0.391234\n",
      "[LightGBM] [Info] Start training from score -0.391234\n",
      "[LightGBM] [Info] Iteration:1, training auc : 0.598448\n",
      "[LightGBM] [Info] 8.985364 seconds elapsed, finished iteration 1\n",
      "[LightGBM] [Info] Iteration:2, training auc : 0.658062\n",
      "[LightGBM] [Info] 15.373565 seconds elapsed, finished iteration 2\n",
      "[LightGBM] [Info] Iteration:3, training auc : 0.664221\n",
      "[LightGBM] [Info] 21.163842 seconds elapsed, finished iteration 3\n",
      "[LightGBM] [Info] Iteration:4, training auc : 0.664631\n",
      "[LightGBM] [Info] 27.877656 seconds elapsed, finished iteration 4\n",
      "[LightGBM] [Info] Iteration:5, training auc : 0.667433\n",
      "[LightGBM] [Info] 33.530533 seconds elapsed, finished iteration 5\n",
      "[LightGBM] [Info] Iteration:6, training auc : 0.669205\n",
      "[LightGBM] [Info] 41.129864 seconds elapsed, finished iteration 6\n",
      "[LightGBM] [Info] Iteration:7, training auc : 0.669989\n",
      "[LightGBM] [Info] 48.266885 seconds elapsed, finished iteration 7\n",
      "[LightGBM] [Info] Iteration:8, training auc : 0.670803\n",
      "[LightGBM] [Info] 55.161064 seconds elapsed, finished iteration 8\n",
      "[LightGBM] [Info] Iteration:9, training auc : 0.671342\n",
      "[LightGBM] [Info] 61.648207 seconds elapsed, finished iteration 9\n",
      "[LightGBM] [Info] Iteration:10, training auc : 0.671774\n",
      "[LightGBM] [Info] 68.015196 seconds elapsed, finished iteration 10\n",
      "[LightGBM] [Info] Iteration:11, training auc : 0.67231\n",
      "[LightGBM] [Info] 75.135615 seconds elapsed, finished iteration 11\n",
      "[LightGBM] [Info] Iteration:12, training auc : 0.673712\n",
      "[LightGBM] [Info] 81.525997 seconds elapsed, finished iteration 12\n",
      "[LightGBM] [Info] Iteration:13, training auc : 0.675648\n",
      "[LightGBM] [Info] 88.173646 seconds elapsed, finished iteration 13\n",
      "[LightGBM] [Info] Iteration:14, training auc : 0.675918\n",
      "[LightGBM] [Info] 94.943191 seconds elapsed, finished iteration 14\n",
      "[LightGBM] [Info] Iteration:15, training auc : 0.676239\n",
      "[LightGBM] [Info] 101.517408 seconds elapsed, finished iteration 15\n",
      "[LightGBM] [Info] Iteration:16, training auc : 0.676566\n",
      "[LightGBM] [Info] 108.035137 seconds elapsed, finished iteration 16\n",
      "[LightGBM] [Info] Iteration:17, training auc : 0.676831\n",
      "[LightGBM] [Info] 114.556459 seconds elapsed, finished iteration 17\n",
      "[LightGBM] [Info] Iteration:18, training auc : 0.677807\n",
      "[LightGBM] [Info] 121.214241 seconds elapsed, finished iteration 18\n",
      "[LightGBM] [Info] Iteration:19, training auc : 0.678144\n",
      "[LightGBM] [Info] 128.040471 seconds elapsed, finished iteration 19\n",
      "[LightGBM] [Info] Iteration:20, training auc : 0.678492\n",
      "[LightGBM] [Info] 134.192507 seconds elapsed, finished iteration 20\n",
      "[LightGBM] [Info] Iteration:21, training auc : 0.678844\n",
      "[LightGBM] [Info] 141.061401 seconds elapsed, finished iteration 21\n",
      "[LightGBM] [Info] Iteration:22, training auc : 0.679184\n",
      "[LightGBM] [Info] 148.135849 seconds elapsed, finished iteration 22\n",
      "[LightGBM] [Info] Iteration:23, training auc : 0.679492\n",
      "[LightGBM] [Info] 154.078551 seconds elapsed, finished iteration 23\n",
      "[LightGBM] [Info] Iteration:24, training auc : 0.679766\n",
      "[LightGBM] [Info] 160.699438 seconds elapsed, finished iteration 24\n",
      "[LightGBM] [Info] Iteration:25, training auc : 0.680128\n",
      "[LightGBM] [Info] 168.114899 seconds elapsed, finished iteration 25\n",
      "[LightGBM] [Info] Iteration:26, training auc : 0.680476\n",
      "[LightGBM] [Info] 175.450547 seconds elapsed, finished iteration 26\n",
      "[LightGBM] [Info] Iteration:27, training auc : 0.681332\n",
      "[LightGBM] [Info] 183.499861 seconds elapsed, finished iteration 27\n",
      "[LightGBM] [Info] Iteration:28, training auc : 0.682202\n",
      "[LightGBM] [Info] 191.714703 seconds elapsed, finished iteration 28\n",
      "[LightGBM] [Info] Iteration:29, training auc : 0.68256\n",
      "[LightGBM] [Info] 198.506524 seconds elapsed, finished iteration 29\n",
      "[LightGBM] [Info] Iteration:30, training auc : 0.683388\n",
      "[LightGBM] [Info] 204.888052 seconds elapsed, finished iteration 30\n",
      "[LightGBM] [Info] Iteration:31, training auc : 0.683717\n",
      "[LightGBM] [Info] 211.642947 seconds elapsed, finished iteration 31\n",
      "[LightGBM] [Info] Iteration:32, training auc : 0.684077\n",
      "[LightGBM] [Info] 217.654226 seconds elapsed, finished iteration 32\n",
      "[LightGBM] [Info] Iteration:33, training auc : 0.684905\n",
      "[LightGBM] [Info] 224.588251 seconds elapsed, finished iteration 33\n",
      "[LightGBM] [Info] Iteration:34, training auc : 0.685244\n",
      "[LightGBM] [Info] 231.314855 seconds elapsed, finished iteration 34\n",
      "[LightGBM] [Info] Iteration:35, training auc : 0.685565\n",
      "[LightGBM] [Info] 238.364870 seconds elapsed, finished iteration 35\n",
      "[LightGBM] [Info] Iteration:36, training auc : 0.685931\n",
      "[LightGBM] [Info] 244.953720 seconds elapsed, finished iteration 36\n",
      "[LightGBM] [Info] Iteration:37, training auc : 0.686335\n",
      "[LightGBM] [Info] 251.414895 seconds elapsed, finished iteration 37\n"
     ]
    }
   ],
   "source": [
    "# 训练\n",
    "!../bin/lightgbm \\\n",
    "    config=../conf/train.conf data=../data1/train_000_002.txt \\\n",
    "    output_model=../out/model_000_002.txt \\"
   ]
  },
  {
   "cell_type": "code",
   "execution_count": null,
   "metadata": {
    "scrolled": true
   },
   "outputs": [],
   "source": [
    "# # 继续训练：\n",
    "# !../bin/lightgbm \\\n",
    "#     config=../conf/train.conf data=../data1/train_000_002.bin \\\n",
    "#     output_model=../out/model_000_002_2.txt \\\n",
    "#     input_model=../out/model_000_002.txt"
   ]
  },
  {
   "cell_type": "code",
   "execution_count": null,
   "metadata": {},
   "outputs": [],
   "source": [
    "# X_train = df_train.drop(\n",
    "#     labels=['user_id', 'photo_id', 'click', 'like', 'follow', 'time', 'playing_time', 'duration_time'],\n",
    "#     axis=1\n",
    "# ).values\n",
    "\n",
    "# y_train = df_train['click'].values"
   ]
  },
  {
   "cell_type": "code",
   "execution_count": null,
   "metadata": {},
   "outputs": [],
   "source": [
    "# # 训练\n",
    "# clf = ensemble.GradientBoostingClassifier()\n",
    "# clf.fit(X_train, y_train)\n",
    "# joblib.dump(clf, '../out/model_visual_random.gb')"
   ]
  },
  {
   "cell_type": "code",
   "execution_count": null,
   "metadata": {},
   "outputs": [],
   "source": [
    "# # LightGBM\n",
    "# lgb_train = lgb.Dataset(X_train, y_train)"
   ]
  },
  {
   "cell_type": "code",
   "execution_count": null,
   "metadata": {},
   "outputs": [],
   "source": [
    "# params = {\n",
    "#     'task': 'train',\n",
    "#     'application': 'binary',\n",
    "#     'boosting_type': 'gbdt',\n",
    "#     'learning_rate': 0.05,\n",
    "#     'num_leaves': 128,\n",
    "#     'tree_learner': 'serial',\n",
    "#     'num_threads': 2,\n",
    "#     'device': 'cpu',\n",
    "#     'feature_fraction': 0.8,\n",
    "# #     'bagging_fraction': 0.8,\n",
    "# #     'bagging_freq': 10,\n",
    "#     'save_binary': True,\n",
    "    \n",
    "#     'is_unbalance': True,\n",
    "    \n",
    "#     'metric': {'auc'},\n",
    "#     'verbose': 0,\n",
    "    \n",
    "#     'data': '../data1/train_random.txt'\n",
    "# }\n",
    "# gbm = lgb.train(params, lgb_train, num_boost_round=100)"
   ]
  },
  {
   "cell_type": "code",
   "execution_count": 138,
   "metadata": {},
   "outputs": [],
   "source": [
    "# gbm.save_model('../out/model_visual_random.lgb')"
   ]
  },
  {
   "cell_type": "markdown",
   "metadata": {},
   "source": [
    "# 预测"
   ]
  },
  {
   "cell_type": "code",
   "execution_count": 4,
   "metadata": {},
   "outputs": [
    {
     "data": {
      "text/html": [
       "<div>\n",
       "<style scoped>\n",
       "    .dataframe tbody tr th:only-of-type {\n",
       "        vertical-align: middle;\n",
       "    }\n",
       "\n",
       "    .dataframe tbody tr th {\n",
       "        vertical-align: top;\n",
       "    }\n",
       "\n",
       "    .dataframe thead th {\n",
       "        text-align: right;\n",
       "    }\n",
       "</style>\n",
       "<table border=\"1\" class=\"dataframe\">\n",
       "  <thead>\n",
       "    <tr style=\"text-align: right;\">\n",
       "      <th></th>\n",
       "      <th>0</th>\n",
       "      <th>1</th>\n",
       "      <th>2</th>\n",
       "      <th>3</th>\n",
       "      <th>4</th>\n",
       "      <th>5</th>\n",
       "      <th>6</th>\n",
       "      <th>7</th>\n",
       "      <th>8</th>\n",
       "      <th>9</th>\n",
       "      <th>...</th>\n",
       "      <th>2048</th>\n",
       "      <th>2049</th>\n",
       "      <th>2050</th>\n",
       "      <th>2051</th>\n",
       "      <th>2052</th>\n",
       "      <th>2053</th>\n",
       "      <th>2054</th>\n",
       "      <th>2055</th>\n",
       "      <th>2056</th>\n",
       "      <th>2057</th>\n",
       "    </tr>\n",
       "  </thead>\n",
       "  <tbody>\n",
       "    <tr>\n",
       "      <th>0</th>\n",
       "      <td>37431</td>\n",
       "      <td>7310980</td>\n",
       "      <td>1</td>\n",
       "      <td>1</td>\n",
       "      <td>0</td>\n",
       "      <td>761043772978</td>\n",
       "      <td>18</td>\n",
       "      <td>17</td>\n",
       "      <td>0.018257</td>\n",
       "      <td>0.360563</td>\n",
       "      <td>...</td>\n",
       "      <td>0.307630</td>\n",
       "      <td>0.774571</td>\n",
       "      <td>0.036118</td>\n",
       "      <td>0.907106</td>\n",
       "      <td>0.357271</td>\n",
       "      <td>0.053098</td>\n",
       "      <td>0.655818</td>\n",
       "      <td>0.324319</td>\n",
       "      <td>0.142039</td>\n",
       "      <td>0.285091</td>\n",
       "    </tr>\n",
       "    <tr>\n",
       "      <th>1</th>\n",
       "      <td>37431</td>\n",
       "      <td>7402131</td>\n",
       "      <td>1</td>\n",
       "      <td>0</td>\n",
       "      <td>0</td>\n",
       "      <td>761085134188</td>\n",
       "      <td>7</td>\n",
       "      <td>11</td>\n",
       "      <td>0.018257</td>\n",
       "      <td>0.360563</td>\n",
       "      <td>...</td>\n",
       "      <td>0.531529</td>\n",
       "      <td>0.580235</td>\n",
       "      <td>0.088580</td>\n",
       "      <td>0.693396</td>\n",
       "      <td>0.005656</td>\n",
       "      <td>0.148244</td>\n",
       "      <td>0.429536</td>\n",
       "      <td>0.067499</td>\n",
       "      <td>0.000000</td>\n",
       "      <td>0.014602</td>\n",
       "    </tr>\n",
       "    <tr>\n",
       "      <th>2</th>\n",
       "      <td>37431</td>\n",
       "      <td>7344307</td>\n",
       "      <td>0</td>\n",
       "      <td>0</td>\n",
       "      <td>0</td>\n",
       "      <td>761067624245</td>\n",
       "      <td>0</td>\n",
       "      <td>17</td>\n",
       "      <td>0.018257</td>\n",
       "      <td>0.360563</td>\n",
       "      <td>...</td>\n",
       "      <td>0.074786</td>\n",
       "      <td>0.073850</td>\n",
       "      <td>0.000000</td>\n",
       "      <td>0.620435</td>\n",
       "      <td>0.728884</td>\n",
       "      <td>0.546118</td>\n",
       "      <td>0.199200</td>\n",
       "      <td>0.629555</td>\n",
       "      <td>0.153588</td>\n",
       "      <td>0.502104</td>\n",
       "    </tr>\n",
       "    <tr>\n",
       "      <th>3</th>\n",
       "      <td>37431</td>\n",
       "      <td>7063032</td>\n",
       "      <td>1</td>\n",
       "      <td>0</td>\n",
       "      <td>0</td>\n",
       "      <td>761085134188</td>\n",
       "      <td>8</td>\n",
       "      <td>11</td>\n",
       "      <td>0.018257</td>\n",
       "      <td>0.360563</td>\n",
       "      <td>...</td>\n",
       "      <td>0.922180</td>\n",
       "      <td>0.533644</td>\n",
       "      <td>0.000966</td>\n",
       "      <td>0.000000</td>\n",
       "      <td>0.285188</td>\n",
       "      <td>0.132471</td>\n",
       "      <td>0.453870</td>\n",
       "      <td>0.589791</td>\n",
       "      <td>0.363919</td>\n",
       "      <td>0.477856</td>\n",
       "    </tr>\n",
       "    <tr>\n",
       "      <th>4</th>\n",
       "      <td>37431</td>\n",
       "      <td>6880850</td>\n",
       "      <td>0</td>\n",
       "      <td>0</td>\n",
       "      <td>0</td>\n",
       "      <td>761043451450</td>\n",
       "      <td>0</td>\n",
       "      <td>375</td>\n",
       "      <td>0.018257</td>\n",
       "      <td>0.360563</td>\n",
       "      <td>...</td>\n",
       "      <td>0.891953</td>\n",
       "      <td>1.081137</td>\n",
       "      <td>0.037570</td>\n",
       "      <td>0.250987</td>\n",
       "      <td>1.460434</td>\n",
       "      <td>0.234496</td>\n",
       "      <td>0.322408</td>\n",
       "      <td>0.036280</td>\n",
       "      <td>0.022645</td>\n",
       "      <td>0.044960</td>\n",
       "    </tr>\n",
       "  </tbody>\n",
       "</table>\n",
       "<p>5 rows × 2058 columns</p>\n",
       "</div>"
      ],
      "text/plain": [
       "    0        1     2     3     4             5     6     7         8     \\\n",
       "0  37431  7310980     1     1     0  761043772978    18    17  0.018257   \n",
       "1  37431  7402131     1     0     0  761085134188     7    11  0.018257   \n",
       "2  37431  7344307     0     0     0  761067624245     0    17  0.018257   \n",
       "3  37431  7063032     1     0     0  761085134188     8    11  0.018257   \n",
       "4  37431  6880850     0     0     0  761043451450     0   375  0.018257   \n",
       "\n",
       "       9       ...         2048      2049      2050      2051      2052  \\\n",
       "0  0.360563    ...     0.307630  0.774571  0.036118  0.907106  0.357271   \n",
       "1  0.360563    ...     0.531529  0.580235  0.088580  0.693396  0.005656   \n",
       "2  0.360563    ...     0.074786  0.073850  0.000000  0.620435  0.728884   \n",
       "3  0.360563    ...     0.922180  0.533644  0.000966  0.000000  0.285188   \n",
       "4  0.360563    ...     0.891953  1.081137  0.037570  0.250987  1.460434   \n",
       "\n",
       "       2053      2054      2055      2056      2057  \n",
       "0  0.053098  0.655818  0.324319  0.142039  0.285091  \n",
       "1  0.148244  0.429536  0.067499  0.000000  0.014602  \n",
       "2  0.546118  0.199200  0.629555  0.153588  0.502104  \n",
       "3  0.132471  0.453870  0.589791  0.363919  0.477856  \n",
       "4  0.234496  0.322408  0.036280  0.022645  0.044960  \n",
       "\n",
       "[5 rows x 2058 columns]"
      ]
     },
     "execution_count": 4,
     "metadata": {},
     "output_type": "execute_result"
    }
   ],
   "source": [
    "# user_id photo_id click like follow time playing_time duration_time activity mean\n",
    "df_valid = pd.read_table(\n",
    "    '../data1/valid_000_002.txt',\n",
    "    header=None\n",
    ")\n",
    "df_valid.head()"
   ]
  },
  {
   "cell_type": "code",
   "execution_count": 6,
   "metadata": {},
   "outputs": [],
   "source": [
    "X_valid = df_valid.drop(columns=[0,1,2,3,4,5,6,7]).values\n",
    "y_valid = df_valid[2].values"
   ]
  },
  {
   "cell_type": "code",
   "execution_count": 4,
   "metadata": {},
   "outputs": [],
   "source": [
    "gbm = lgb.Booster(model_file='../out/model_000_002.txt')"
   ]
  },
  {
   "cell_type": "code",
   "execution_count": 24,
   "metadata": {},
   "outputs": [],
   "source": [
    "features = gbm.feature_importance()"
   ]
  },
  {
   "cell_type": "code",
   "execution_count": 31,
   "metadata": {},
   "outputs": [
    {
     "data": {
      "text/plain": [
       "array([ 62, 374,  22,  71,  24,  99,  90,  95,  28,  21,  21,  31,  25,\n",
       "        46,  53,  39,  26,  40,  23,  72,  23,  48,  22,  32,  25,  39,\n",
       "        46,  23,  20,  21,  67,  46,  28,  26,  91,  33,  40,  37,  24,\n",
       "        49,  35,  52,  27,  26,  34,  20,  36,  22,  20,  21,  24,  21,\n",
       "        31,  26,  26,  25,  30,  22,  36,  22,  27,  23])"
      ]
     },
     "execution_count": 31,
     "metadata": {},
     "output_type": "execute_result"
    }
   ],
   "source": [
    "features[features >= 20]"
   ]
  },
  {
   "cell_type": "code",
   "execution_count": null,
   "metadata": {},
   "outputs": [],
   "source": [
    "y_pred = gbm.predict(X_valid, num_iteration=gbm.best_iteration)\n",
    "print(y_pred)\n",
    "metrics.roc_auc_score(y_valid, y_pred)"
   ]
  },
  {
   "cell_type": "code",
   "execution_count": 17,
   "metadata": {},
   "outputs": [
    {
     "data": {
      "text/plain": [
       "<matplotlib.axes._subplots.AxesSubplot at 0x1106eada0>"
      ]
     },
     "execution_count": 17,
     "metadata": {},
     "output_type": "execute_result"
    },
    {
     "data": {
      "image/png": "[encoded data removed]",
      "text/plain": [
       "<Figure size 432x288 with 1 Axes>"
      ]
     },
     "metadata": {},
     "output_type": "display_data"
    }
   ],
   "source": [
    "lgb.plot_importance(gbm)"
   ]
  },
  {
   "cell_type": "code",
   "execution_count": 20,
   "metadata": {},
   "outputs": [
    {
     "ename": "ExecutableNotFound",
     "evalue": "failed to execute ['dot', '-Tpng'], make sure the Graphviz executables are on your systems' PATH",
     "output_type": "error",
     "traceback": [
      "\u001b[0;31m---------------------------------------------------------------------------\u001b[0m",
      "\u001b[0;31mFileNotFoundError\u001b[0m                         Traceback (most recent call last)",
      "\u001b[0;32m/Users/sun/PycharmProjects/kuaishou/venv/lib/python3.6/site-packages/graphviz/backend.py\u001b[0m in \u001b[0;36mpipe\u001b[0;34m(engine, format, data, quiet)\u001b[0m\n\u001b[1;32m    153\u001b[0m             \u001b[0mstdout\u001b[0m\u001b[0;34m=\u001b[0m\u001b[0msubprocess\u001b[0m\u001b[0;34m.\u001b[0m\u001b[0mPIPE\u001b[0m\u001b[0;34m,\u001b[0m \u001b[0mstderr\u001b[0m\u001b[0;34m=\u001b[0m\u001b[0msubprocess\u001b[0m\u001b[0;34m.\u001b[0m\u001b[0mPIPE\u001b[0m\u001b[0;34m,\u001b[0m\u001b[0;34m\u001b[0m\u001b[0m\n\u001b[0;32m--> 154\u001b[0;31m             startupinfo=STARTUPINFO)\n\u001b[0m\u001b[1;32m    155\u001b[0m     \u001b[0;32mexcept\u001b[0m \u001b[0mOSError\u001b[0m \u001b[0;32mas\u001b[0m \u001b[0me\u001b[0m\u001b[0;34m:\u001b[0m\u001b[0;34m\u001b[0m\u001b[0m\n",
      "\u001b[0;32m/usr/local/Cellar/python3/3.6.4/Frameworks/Python.framework/Versions/3.6/lib/python3.6/subprocess.py\u001b[0m in \u001b[0;36m__init__\u001b[0;34m(self, args, bufsize, executable, stdin, stdout, stderr, preexec_fn, close_fds, shell, cwd, env, universal_newlines, startupinfo, creationflags, restore_signals, start_new_session, pass_fds, encoding, errors)\u001b[0m\n\u001b[1;32m    708\u001b[0m                                 \u001b[0merrread\u001b[0m\u001b[0;34m,\u001b[0m \u001b[0merrwrite\u001b[0m\u001b[0;34m,\u001b[0m\u001b[0;34m\u001b[0m\u001b[0m\n\u001b[0;32m--> 709\u001b[0;31m                                 restore_signals, start_new_session)\n\u001b[0m\u001b[1;32m    710\u001b[0m         \u001b[0;32mexcept\u001b[0m\u001b[0;34m:\u001b[0m\u001b[0;34m\u001b[0m\u001b[0m\n",
      "\u001b[0;32m/usr/local/Cellar/python3/3.6.4/Frameworks/Python.framework/Versions/3.6/lib/python3.6/subprocess.py\u001b[0m in \u001b[0;36m_execute_child\u001b[0;34m(self, args, executable, preexec_fn, close_fds, pass_fds, cwd, env, startupinfo, creationflags, shell, p2cread, p2cwrite, c2pread, c2pwrite, errread, errwrite, restore_signals, start_new_session)\u001b[0m\n\u001b[1;32m   1343\u001b[0m                             \u001b[0merr_msg\u001b[0m \u001b[0;34m+=\u001b[0m \u001b[0;34m': '\u001b[0m \u001b[0;34m+\u001b[0m \u001b[0mrepr\u001b[0m\u001b[0;34m(\u001b[0m\u001b[0merr_filename\u001b[0m\u001b[0;34m)\u001b[0m\u001b[0;34m\u001b[0m\u001b[0m\n\u001b[0;32m-> 1344\u001b[0;31m                     \u001b[0;32mraise\u001b[0m \u001b[0mchild_exception_type\u001b[0m\u001b[0;34m(\u001b[0m\u001b[0merrno_num\u001b[0m\u001b[0;34m,\u001b[0m \u001b[0merr_msg\u001b[0m\u001b[0;34m,\u001b[0m \u001b[0merr_filename\u001b[0m\u001b[0;34m)\u001b[0m\u001b[0;34m\u001b[0m\u001b[0m\n\u001b[0m\u001b[1;32m   1345\u001b[0m                 \u001b[0;32mraise\u001b[0m \u001b[0mchild_exception_type\u001b[0m\u001b[0;34m(\u001b[0m\u001b[0merr_msg\u001b[0m\u001b[0;34m)\u001b[0m\u001b[0;34m\u001b[0m\u001b[0m\n",
      "\u001b[0;31mFileNotFoundError\u001b[0m: [Errno 2] No such file or directory: 'dot': 'dot'",
      "\nDuring handling of the above exception, another exception occurred:\n",
      "\u001b[0;31mExecutableNotFound\u001b[0m                        Traceback (most recent call last)",
      "\u001b[0;32m<ipython-input-20-d5e368533085>\u001b[0m in \u001b[0;36m<module>\u001b[0;34m()\u001b[0m\n\u001b[0;32m----> 1\u001b[0;31m \u001b[0mlgb\u001b[0m\u001b[0;34m.\u001b[0m\u001b[0mplot_tree\u001b[0m\u001b[0;34m(\u001b[0m\u001b[0mgbm\u001b[0m\u001b[0;34m)\u001b[0m\u001b[0;34m\u001b[0m\u001b[0m\n\u001b[0m",
      "\u001b[0;32m/Users/sun/PycharmProjects/kuaishou/venv/lib/python3.6/site-packages/lightgbm/plotting.py\u001b[0m in \u001b[0;36mplot_tree\u001b[0;34m(booster, ax, tree_index, figsize, graph_attr, node_attr, edge_attr, show_info)\u001b[0m\n\u001b[1;32m    437\u001b[0m \u001b[0;34m\u001b[0m\u001b[0m\n\u001b[1;32m    438\u001b[0m     \u001b[0ms\u001b[0m \u001b[0;34m=\u001b[0m \u001b[0mBytesIO\u001b[0m\u001b[0;34m(\u001b[0m\u001b[0;34m)\u001b[0m\u001b[0;34m\u001b[0m\u001b[0m\n\u001b[0;32m--> 439\u001b[0;31m     \u001b[0ms\u001b[0m\u001b[0;34m.\u001b[0m\u001b[0mwrite\u001b[0m\u001b[0;34m(\u001b[0m\u001b[0mgraph\u001b[0m\u001b[0;34m.\u001b[0m\u001b[0mpipe\u001b[0m\u001b[0;34m(\u001b[0m\u001b[0mformat\u001b[0m\u001b[0;34m=\u001b[0m\u001b[0;34m'png'\u001b[0m\u001b[0;34m)\u001b[0m\u001b[0;34m)\u001b[0m\u001b[0;34m\u001b[0m\u001b[0m\n\u001b[0m\u001b[1;32m    440\u001b[0m     \u001b[0ms\u001b[0m\u001b[0;34m.\u001b[0m\u001b[0mseek\u001b[0m\u001b[0;34m(\u001b[0m\u001b[0;36m0\u001b[0m\u001b[0;34m)\u001b[0m\u001b[0;34m\u001b[0m\u001b[0m\n\u001b[1;32m    441\u001b[0m     \u001b[0mimg\u001b[0m \u001b[0;34m=\u001b[0m \u001b[0mimage\u001b[0m\u001b[0;34m.\u001b[0m\u001b[0mimread\u001b[0m\u001b[0;34m(\u001b[0m\u001b[0ms\u001b[0m\u001b[0;34m)\u001b[0m\u001b[0;34m\u001b[0m\u001b[0m\n",
      "\u001b[0;32m/Users/sun/PycharmProjects/kuaishou/venv/lib/python3.6/site-packages/graphviz/files.py\u001b[0m in \u001b[0;36mpipe\u001b[0;34m(self, format)\u001b[0m\n\u001b[1;32m    123\u001b[0m         \u001b[0mdata\u001b[0m \u001b[0;34m=\u001b[0m \u001b[0mtext_type\u001b[0m\u001b[0;34m(\u001b[0m\u001b[0mself\u001b[0m\u001b[0;34m.\u001b[0m\u001b[0msource\u001b[0m\u001b[0;34m)\u001b[0m\u001b[0;34m.\u001b[0m\u001b[0mencode\u001b[0m\u001b[0;34m(\u001b[0m\u001b[0mself\u001b[0m\u001b[0;34m.\u001b[0m\u001b[0m_encoding\u001b[0m\u001b[0;34m)\u001b[0m\u001b[0;34m\u001b[0m\u001b[0m\n\u001b[1;32m    124\u001b[0m \u001b[0;34m\u001b[0m\u001b[0m\n\u001b[0;32m--> 125\u001b[0;31m         \u001b[0mouts\u001b[0m \u001b[0;34m=\u001b[0m \u001b[0mbackend\u001b[0m\u001b[0;34m.\u001b[0m\u001b[0mpipe\u001b[0m\u001b[0;34m(\u001b[0m\u001b[0mself\u001b[0m\u001b[0;34m.\u001b[0m\u001b[0m_engine\u001b[0m\u001b[0;34m,\u001b[0m \u001b[0mformat\u001b[0m\u001b[0;34m,\u001b[0m \u001b[0mdata\u001b[0m\u001b[0;34m)\u001b[0m\u001b[0;34m\u001b[0m\u001b[0m\n\u001b[0m\u001b[1;32m    126\u001b[0m \u001b[0;34m\u001b[0m\u001b[0m\n\u001b[1;32m    127\u001b[0m         \u001b[0;32mreturn\u001b[0m \u001b[0mouts\u001b[0m\u001b[0;34m\u001b[0m\u001b[0m\n",
      "\u001b[0;32m/Users/sun/PycharmProjects/kuaishou/venv/lib/python3.6/site-packages/graphviz/backend.py\u001b[0m in \u001b[0;36mpipe\u001b[0;34m(engine, format, data, quiet)\u001b[0m\n\u001b[1;32m    155\u001b[0m     \u001b[0;32mexcept\u001b[0m \u001b[0mOSError\u001b[0m \u001b[0;32mas\u001b[0m \u001b[0me\u001b[0m\u001b[0;34m:\u001b[0m\u001b[0;34m\u001b[0m\u001b[0m\n\u001b[1;32m    156\u001b[0m         \u001b[0;32mif\u001b[0m \u001b[0me\u001b[0m\u001b[0;34m.\u001b[0m\u001b[0merrno\u001b[0m \u001b[0;34m==\u001b[0m \u001b[0merrno\u001b[0m\u001b[0;34m.\u001b[0m\u001b[0mENOENT\u001b[0m\u001b[0;34m:\u001b[0m\u001b[0;34m\u001b[0m\u001b[0m\n\u001b[0;32m--> 157\u001b[0;31m             \u001b[0;32mraise\u001b[0m \u001b[0mExecutableNotFound\u001b[0m\u001b[0;34m(\u001b[0m\u001b[0margs\u001b[0m\u001b[0;34m)\u001b[0m\u001b[0;34m\u001b[0m\u001b[0m\n\u001b[0m\u001b[1;32m    158\u001b[0m         \u001b[0;32melse\u001b[0m\u001b[0;34m:\u001b[0m  \u001b[0;31m# pragma: no cover\u001b[0m\u001b[0;34m\u001b[0m\u001b[0m\n\u001b[1;32m    159\u001b[0m             \u001b[0;32mraise\u001b[0m\u001b[0;34m\u001b[0m\u001b[0m\n",
      "\u001b[0;31mExecutableNotFound\u001b[0m: failed to execute ['dot', '-Tpng'], make sure the Graphviz executables are on your systems' PATH"
     ]
    },
    {
     "data": {
      "image/png": "[encoded data removed]",
      "text/plain": [
       "<Figure size 432x288 with 1 Axes>"
      ]
     },
     "metadata": {},
     "output_type": "display_data"
    }
   ],
   "source": [
    "lgb.plot_tree(gbm)"
   ]
  },
  {
   "cell_type": "markdown",
   "metadata": {},
   "source": [
    "# 评分"
   ]
  },
  {
   "cell_type": "code",
   "execution_count": 66,
   "metadata": {},
   "outputs": [
    {
     "data": {
      "text/plain": [
       "0.524237711814649"
      ]
     },
     "execution_count": 66,
     "metadata": {},
     "output_type": "execute_result"
    }
   ],
   "source": [
    "metrics.roc_auc_score(y_valid, y_pred)"
   ]
  },
  {
   "cell_type": "code",
   "execution_count": 67,
   "metadata": {},
   "outputs": [
    {
     "data": {
      "text/plain": [
       "0.7499488756498498"
      ]
     },
     "execution_count": 67,
     "metadata": {},
     "output_type": "execute_result"
    }
   ],
   "source": [
    "metrics.roc_auc_score(y_valid, y_pred_proba[:, 1])"
   ]
  },
  {
   "cell_type": "code",
   "execution_count": 18,
   "metadata": {},
   "outputs": [
    {
     "data": {
      "text/plain": [
       "0.7573279281716649"
      ]
     },
     "execution_count": 18,
     "metadata": {},
     "output_type": "execute_result"
    }
   ],
   "source": [
    "metrics.roc_auc_score(y_valid, y_pred_gbm)"
   ]
  },
  {
   "cell_type": "markdown",
   "metadata": {},
   "source": [
    "0.760398115592365 - 128\n",
    "0.7616071056788016 - 128 unbalance \n",
    "0.7613787315212628 - 128 unbalance 120"
   ]
  },
  {
   "cell_type": "code",
   "execution_count": null,
   "metadata": {},
   "outputs": [],
   "source": [
    "valid_df1 = pd.read_table(\n",
    "    '../data1/valid_interaction.txt',\n",
    "    names=['user_id', 'photo_id', 'click', 'like', 'follow', 'time', 'playing_time', 'duration_time']\n",
    ")[['user_id', 'photo_id', 'click']]"
   ]
  },
  {
   "cell_type": "code",
   "execution_count": null,
   "metadata": {
    "scrolled": true
   },
   "outputs": [],
   "source": [
    "train_df.groupby('user_id').count().sort_values('photo_id')"
   ]
  },
  {
   "cell_type": "code",
   "execution_count": 8,
   "metadata": {},
   "outputs": [
    {
     "name": "stdout",
     "output_type": "stream",
     "text": [
      "(17461, 2)\n",
      "(17461, 2048)\n"
     ]
    }
   ],
   "source": [
    "\n",
    "user_id=26380\n",
    "\n",
    "user_train_df = train_df[train_df['user_id'] == user_id][['photo_id', 'click']]\n",
    "print(user_train_df.shape)\n",
    "# 特征：\n",
    "user_train_X = get_train_visual_datas(user_train_df['photo_id'].values)\n",
    "# 降维：\n",
    "# user_train_X = visual_reduce(user_train_X)\n",
    "print(user_train_X.shape)\n"
   ]
  },
  {
   "cell_type": "code",
   "execution_count": null,
   "metadata": {},
   "outputs": [],
   "source": [
    "# # 样本聚类：\n",
    "# cls = cluster.KMeans(128, n_jobs=-1)\n",
    "# cls.fit(user_train_X)"
   ]
  },
  {
   "cell_type": "code",
   "execution_count": null,
   "metadata": {},
   "outputs": [],
   "source": [
    "# cls.predict(user_train_X)"
   ]
  },
  {
   "cell_type": "code",
   "execution_count": 9,
   "metadata": {},
   "outputs": [],
   "source": [
    "# X = cls.predict(user_train_X).reshape(-1, 1)\n",
    "X = user_train_X\n",
    "y = user_train_df['click'].values\n",
    "\n",
    "click_mean = user_train_df['click'].mean()"
   ]
  },
  {
   "cell_type": "code",
   "execution_count": null,
   "metadata": {},
   "outputs": [],
   "source": [
    "# clf = linear_model.LogisticRegressionCV(random_state=0, penalty='l1', solver='liblinear') # 低效\n",
    "clf = linear_model.LogisticRegressionCV(random_state=0, n_jobs=-1) \n",
    "# clf = linear_model.LogisticRegression(random_state=0, penalty='l2', solver='saga', C=10.0, n_jobs=-1, class_weight='balanced')\n",
    "# clf = linear_model.BayesianRidge()\n",
    "# clf = svm.SVC(probability=True)\n",
    "# clf = naive_bayes.GaussianNB(priors=[1-click_mean, click_mean])\n",
    "# clf = naive_bayes.MultinomialNB(alpha=0.01)\n",
    "# clf = neural_network.MLPClassifier(solver='adam', activation='logistic', hidden_layer_sizes=(100, 100), random_state=1)\n",
    "clf.fit(X, y)"
   ]
  },
  {
   "cell_type": "code",
   "execution_count": 11,
   "metadata": {},
   "outputs": [
    {
     "name": "stdout",
     "output_type": "stream",
     "text": [
      "(1984, 2048)\n"
     ]
    }
   ],
   "source": [
    "user_valid_df = valid_df[valid_df['user_id'] == user_id][['photo_id']]\n",
    "user_valid_X = get_train_visual_datas(user_valid_df['photo_id'].values)\n",
    "# user_valid_X = visual_reduce(user_valid_X)\n",
    "print(user_valid_X.shape)"
   ]
  },
  {
   "cell_type": "code",
   "execution_count": 12,
   "metadata": {},
   "outputs": [
    {
     "name": "stdout",
     "output_type": "stream",
     "text": [
      "[4.01345369e-15 4.08279539e-01 5.18498572e-12 ... 4.83755654e-11\n",
      " 1.08576868e-13 5.05841043e-07]\n",
      "[0 0 0 ... 0 0 0]\n"
     ]
    },
    {
     "data": {
      "text/plain": [
       "0.5375859634041508"
      ]
     },
     "execution_count": 12,
     "metadata": {},
     "output_type": "execute_result"
    }
   ],
   "source": [
    "# X1 = cls.predict(user_valid_X).reshape(-1, 1)\n",
    "X1 = user_valid_X\n",
    "y1 = clf.predict_proba(X1)[:, 1]\n",
    "# y1 = clf.predict_log_proba(X1)[:, 1]\n",
    "# y1 = clf.predict(X1)\n",
    "# pred = clf.predict(user_valid_X)\n",
    "print(y1)\n",
    "valid = valid_df[valid_df['user_id'] == user_id]['click'].values\n",
    "print(valid)\n",
    "metrics.roc_auc_score(valid, y1)"
   ]
  },
  {
   "cell_type": "code",
   "execution_count": 20,
   "metadata": {},
   "outputs": [
    {
     "name": "stdout",
     "output_type": "stream",
     "text": [
      "{'code': 0, 'message': 'validation success'}\n",
      "{'code': 0, 'score': 0.7290092330885755, 'message': 'success'}\n"
     ]
    }
   ],
   "source": [
    "%run evaluation_script.py ../out/pred_user_visual.txt ../out/valid.txt"
   ]
  }
 ],
 "metadata": {
  "kernelspec": {
   "display_name": "Python 3",
   "language": "python",
   "name": "python3"
  },
  "language_info": {
   "codemirror_mode": {
    "name": "ipython",
    "version": 3
   },
   "file_extension": ".py",
   "mimetype": "text/x-python",
   "name": "python",
   "nbconvert_exporter": "python",
   "pygments_lexer": "ipython3",
   "version": "3.6.4"
  }
 },
 "nbformat": 4,
 "nbformat_minor": 1
}
