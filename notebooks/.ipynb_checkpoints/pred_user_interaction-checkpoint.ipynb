{
 "cells": [
  {
   "cell_type": "code",
   "execution_count": 1,
   "metadata": {},
   "outputs": [],
   "source": [
    "from IPython.core.interactiveshell import InteractiveShell\n",
    "InteractiveShell.ast_node_interactivity = \"all\"\n",
    "\n",
    "%matplotlib inline"
   ]
  },
  {
   "cell_type": "markdown",
   "metadata": {},
   "source": [
    "# 训练"
   ]
  },
  {
   "cell_type": "code",
   "execution_count": 34,
   "metadata": {},
   "outputs": [],
   "source": [
    "# xlearn \n",
    "import xlearn as xl\n",
    "\n",
    "ffm_model = xl.create_ffm()\n",
    "ffm_model.setTrain(\"../data1/train_interaction_ffm.txt\")\n",
    "# ffm_model.setValidate(\"../data1/valid_interaction_ffm.txt\")\n",
    "\n",
    "#  0. binary classification task\n",
    "#  1. learning rate: 0.2\n",
    "#  2. lambda: 0.002\n",
    "#  3. metric: auc\n",
    "ffm_model.fit(\n",
    "    {'task':'binary', 'lr':0.02, 'lambda':0.002, 'metric': 'auc'}, \n",
    "    \"../out/model_interaction_ffm\"\n",
    ")"
   ]
  },
  {
   "cell_type": "markdown",
   "metadata": {},
   "source": [
    "# 预测"
   ]
  },
  {
   "cell_type": "code",
   "execution_count": 35,
   "metadata": {},
   "outputs": [],
   "source": [
    "# xlearn\n",
    "ffm_model.setTest(\"../data1/valid_interaction_ffm.txt\")\n",
    "ffm_model.setSigmoid()\n",
    "ffm_model.predict(\"../out/model_interaction_ffm\", \"../out/pred_interaction_ffm.txt\")"
   ]
  },
  {
   "cell_type": "markdown",
   "metadata": {},
   "source": [
    "# 评分"
   ]
  },
  {
   "cell_type": "code",
   "execution_count": 36,
   "metadata": {},
   "outputs": [],
   "source": [
    "import pandas as pd\n",
    "\n",
    "pred = pd.read_table(\n",
    "    '../out/pred_interaction_ffm.txt', \n",
    "    names = ['click']\n",
    ")\n",
    "valid = pd.read_table(\n",
    "    '../out/valid.txt',\n",
    "    names = ['user_id', 'photo_id', 'click']\n",
    ")"
   ]
  },
  {
   "cell_type": "code",
   "execution_count": 37,
   "metadata": {},
   "outputs": [],
   "source": [
    "valid['click'] = pred['click']"
   ]
  },
  {
   "cell_type": "code",
   "execution_count": 38,
   "metadata": {},
   "outputs": [],
   "source": [
    "valid.to_csv('../out/pred.txt', index=False, header=False, sep='\\t', float_format='%.6f')"
   ]
  },
  {
   "cell_type": "code",
   "execution_count": 39,
   "metadata": {},
   "outputs": [
    {
     "name": "stdout",
     "output_type": "stream",
     "text": [
      "{'code': 0, 'message': 'validation success'}\n",
      "{'code': 0, 'score': 0.49939241467257306, 'message': 'success'}\n"
     ]
    }
   ],
   "source": [
    "%run evaluation_script.py ../out/pred.txt ../out/valid.txt"
   ]
  },
  {
   "cell_type": "code",
   "execution_count": null,
   "metadata": {},
   "outputs": [],
   "source": []
  },
  {
   "cell_type": "code",
   "execution_count": null,
   "metadata": {},
   "outputs": [],
   "source": []
  },
  {
   "cell_type": "code",
   "execution_count": null,
   "metadata": {},
   "outputs": [],
   "source": []
  },
  {
   "cell_type": "code",
   "execution_count": null,
   "metadata": {},
   "outputs": [],
   "source": []
  },
  {
   "cell_type": "code",
   "execution_count": null,
   "metadata": {},
   "outputs": [],
   "source": []
  },
  {
   "cell_type": "code",
   "execution_count": null,
   "metadata": {},
   "outputs": [],
   "source": []
  },
  {
   "cell_type": "code",
   "execution_count": null,
   "metadata": {},
   "outputs": [],
   "source": []
  },
  {
   "cell_type": "code",
   "execution_count": null,
   "metadata": {},
   "outputs": [],
   "source": []
  },
  {
   "cell_type": "code",
   "execution_count": null,
   "metadata": {},
   "outputs": [],
   "source": []
  },
  {
   "cell_type": "code",
   "execution_count": null,
   "metadata": {},
   "outputs": [],
   "source": []
  },
  {
   "cell_type": "code",
   "execution_count": null,
   "metadata": {},
   "outputs": [],
   "source": []
  },
  {
   "cell_type": "markdown",
   "metadata": {},
   "source": [
    "## 一个用户"
   ]
  },
  {
   "cell_type": "code",
   "execution_count": 8,
   "metadata": {},
   "outputs": [],
   "source": [
    "# time戳转为0~23小时\n",
    "def to_hour(time):\n",
    "    return int(time/3600000)%24"
   ]
  },
  {
   "cell_type": "code",
   "execution_count": 9,
   "metadata": {},
   "outputs": [
    {
     "data": {
      "text/plain": [
       "1"
      ]
     },
     "execution_count": 9,
     "metadata": {},
     "output_type": "execute_result"
    }
   ],
   "source": [
    "# duration_time转为 0, 1~10, 11~20, 21~30, 31~40, 41~50, 51~60, >61\n",
    "\n",
    "import math\n",
    "\n",
    "def to_category(duration_time):\n",
    "    r = math.ceil(duration_time / 10)\n",
    "    if r > 7:\n",
    "        r = 7\n",
    "    return r\n",
    "    \n",
    "to_category(1)"
   ]
  },
  {
   "cell_type": "code",
   "execution_count": 10,
   "metadata": {},
   "outputs": [],
   "source": [
    "user_id = 29999\n",
    "\n",
    "train_X = train_interaction_df[train_interaction_df.user_id == user_id][['time', 'duration_time']]\n",
    "train_X['time'] = train_X['time'].apply(to_hour)\n",
    "train_X['duration_time'] = train_X['duration_time'].apply(to_category)\n",
    "train_X = train_X.values\n",
    "\n",
    "train_y = train_interaction_df[train_interaction_df.user_id == user_id]['click'].values"
   ]
  },
  {
   "cell_type": "code",
   "execution_count": 11,
   "metadata": {},
   "outputs": [],
   "source": [
    "# print(train_X)\n",
    "# print(train_y)"
   ]
  },
  {
   "cell_type": "code",
   "execution_count": 12,
   "metadata": {
    "scrolled": true
   },
   "outputs": [
    {
     "data": {
      "text/plain": [
       "(array([  0.,  67., 118.,   7.,   9.,   8.,  21.]),\n",
       " array([0, 1, 2, 3, 4, 5, 6, 7]),\n",
       " <a list of 7 Patch objects>)"
      ]
     },
     "execution_count": 12,
     "metadata": {},
     "output_type": "execute_result"
    },
    {
     "data": {
      "image/png": "[encoded data removed]",
      "text/plain": [
       "<Figure size 432x288 with 1 Axes>"
      ]
     },
     "metadata": {},
     "output_type": "display_data"
    }
   ],
   "source": [
    "import matplotlib.pyplot as plt\n",
    "\n",
    "plt.hist(train_X[:,1], bins=range(0, 8))"
   ]
  },
  {
   "cell_type": "code",
   "execution_count": 13,
   "metadata": {},
   "outputs": [],
   "source": [
    "from sklearn import preprocessing\n",
    "\n",
    "enc = preprocessing.OneHotEncoder(n_values=[24, 8])\n",
    "enc.fit([[0, 0]])\n",
    "train_X = enc.transform(train_X).toarray()"
   ]
  },
  {
   "cell_type": "code",
   "execution_count": 14,
   "metadata": {},
   "outputs": [
    {
     "data": {
      "text/plain": [
       "array([[0., 0., 0., ..., 0., 0., 0.],\n",
       "       [0., 0., 0., ..., 0., 1., 0.],\n",
       "       [0., 0., 0., ..., 0., 0., 0.],\n",
       "       ...,\n",
       "       [0., 0., 0., ..., 0., 0., 0.],\n",
       "       [0., 0., 0., ..., 0., 0., 0.],\n",
       "       [0., 0., 0., ..., 1., 0., 0.]])"
      ]
     },
     "execution_count": 14,
     "metadata": {},
     "output_type": "execute_result"
    }
   ],
   "source": [
    "train_X"
   ]
  },
  {
   "cell_type": "code",
   "execution_count": 15,
   "metadata": {},
   "outputs": [
    {
     "data": {
      "text/plain": [
       "FactorizationMachineClassifier(alpha=1, beta=1, degree=3, fit_linear=True,\n",
       "                fit_lower='explicit', init_lambdas='ones', loss='logistic',\n",
       "                max_iter=10000, n_components=2, random_state=None,\n",
       "                tol=1e-06, verbose=False, warm_start=False)"
      ]
     },
     "execution_count": 15,
     "metadata": {},
     "output_type": "execute_result"
    }
   ],
   "source": [
    "# sklearn\n",
    "# from sklearn import linear_model\n",
    "# from sklearn import svm\n",
    "\n",
    "# FM http://contrib.scikit-learn.org/polylearn/index.html\n",
    "# import polylearn\n",
    "\n",
    "\n",
    "# clf = linear_model.LogisticRegression(C=100.0, random_state=0)\n",
    "# clf = linear_model.LogisticRegressionCV()\n",
    "# clf = svm.SVC(C=100, random_state=0, probability=True, gamma=0.01, decision_function_shape='ovo')\n",
    "# clf = polylearn.FactorizationMachineClassifier(degree=3, loss='logistic')\n",
    "# clf.fit(train_X, train_y)"
   ]
  },
  {
   "cell_type": "code",
   "execution_count": 23,
   "metadata": {},
   "outputs": [],
   "source": [
    "# xlearn\n",
    "import xlearn as xl\n"
   ]
  },
  {
   "cell_type": "code",
   "execution_count": 16,
   "metadata": {
    "scrolled": true
   },
   "outputs": [],
   "source": [
    "# print(clf.coef_)\n",
    "# print(clf.intercept_)"
   ]
  },
  {
   "cell_type": "code",
   "execution_count": 17,
   "metadata": {},
   "outputs": [],
   "source": [
    "from mlxtend.plotting import plot_decision_regions\n",
    "\n",
    "# plt.xlim(1, 2)\n",
    "# plt.ylim(0, 1)\n",
    "# plot_decision_regions(X=train_X, y=train_y, clf=clf, legend=2)"
   ]
  },
  {
   "cell_type": "code",
   "execution_count": 18,
   "metadata": {},
   "outputs": [],
   "source": [
    "# 验证集\n",
    "valid_X = valid_interaction_df[valid_interaction_df.user_id == user_id][['time', 'duration_time']]\n",
    "valid_X['time'] = valid_X['time'].apply(to_hour)\n",
    "valid_X['duration_time'] = valid_X['duration_time'].apply(to_category)\n",
    "valid_X = valid_X.values\n",
    "valid_X = enc.transform(valid_X).toarray()\n",
    "\n",
    "valid_y = valid_interaction_df[valid_interaction_df.user_id == user_id]['click'].values"
   ]
  },
  {
   "cell_type": "code",
   "execution_count": 20,
   "metadata": {},
   "outputs": [],
   "source": [
    "# 预测click为1的概率\n",
    "# pred_y = clf.predict_proba(valid_X)[:,1]\n",
    "pred_y = clf.predict_proba(valid_X)\n",
    "# pred_y = clf.predict(valid_X)"
   ]
  },
  {
   "cell_type": "code",
   "execution_count": 21,
   "metadata": {
    "scrolled": true
   },
   "outputs": [
    {
     "data": {
      "text/plain": [
       "array([0.29754927, 0.39733182, 0.39733182, 0.43418239, 0.43418239,\n",
       "       0.23865954, 0.43418239, 0.29754927, 0.53409388, 0.43418239,\n",
       "       0.43418239, 0.43418239, 0.46600478, 0.53409388, 0.43418239,\n",
       "       0.39733182, 0.24507764, 0.43418239, 0.43418239, 0.43418239,\n",
       "       0.44977016, 0.43418239, 0.25110698, 0.12819986, 0.28917463,\n",
       "       0.29754927, 0.43418239, 0.46600478, 0.27696688, 0.42474405,\n",
       "       0.43418239, 0.24507764, 0.25110698, 0.39733182, 0.29754927,\n",
       "       0.43418239, 0.46600478])"
      ]
     },
     "execution_count": 21,
     "metadata": {},
     "output_type": "execute_result"
    }
   ],
   "source": [
    "pred_y"
   ]
  },
  {
   "cell_type": "code",
   "execution_count": 22,
   "metadata": {},
   "outputs": [
    {
     "data": {
      "text/plain": [
       "0.5176282051282051"
      ]
     },
     "execution_count": 22,
     "metadata": {},
     "output_type": "execute_result"
    }
   ],
   "source": [
    "# auc评分\n",
    "from sklearn import metrics\n",
    "metrics.roc_auc_score(valid_y, pred_y)"
   ]
  },
  {
   "cell_type": "markdown",
   "metadata": {},
   "source": [
    "## 所有用户\n",
    "\n",
    "使用上述方法为每个用户训练一个模型"
   ]
  },
  {
   "cell_type": "code",
   "execution_count": 99,
   "metadata": {},
   "outputs": [],
   "source": [
    "# 每个用户训练一个逻辑回归模型，并导出\n",
    "\n",
    "from sklearn.externals import joblib\n",
    "import os\n",
    "\n",
    "for user_id in train_interaction_df.user_id.unique():\n",
    "    if os.path.exists('../out/pred_user_interaction_model/' + str(user_id)):\n",
    "        continue\n",
    "    train_X = train_interaction_df[train_interaction_df.user_id == user_id][['duration_time']]\n",
    "#     train_X.time = train_X.time.apply(to_hour)\n",
    "    train_X.duration_time = train_X.duration_time.apply(to_category)\n",
    "    train_X = train_X.values\n",
    "    train_X = enc.transform(train_X).toarray()\n",
    "    train_y = train_interaction_df[train_interaction_df.user_id == user_id]['click'].values\n",
    "#     clf = linear_model.LogisticRegression(C=100.0, random_state=0)\n",
    "#     clf = linear_model.LogisticRegressionCV()\n",
    "#     clf = svm.SVC(C=100.0, random_state=0, probability=True, decision_function_shape='ovo')\n",
    "    clf = polylearn.FactorizationMachineClassifier(degree=3, loss='logistic')\n",
    "    clf.fit(train_X, train_y)\n",
    "    # 持久化为磁盘文件\n",
    "    joblib.dump(clf, '../out/pred_user_interaction_model/' + str(user_id))\n",
    "    "
   ]
  },
  {
   "cell_type": "markdown",
   "metadata": {},
   "source": [
    "## 预测"
   ]
  },
  {
   "cell_type": "code",
   "execution_count": 100,
   "metadata": {},
   "outputs": [],
   "source": [
    "pred_df = valid_interaction_df[['user_id', 'photo_id', 'duration_time']]\n",
    "pred_df = pred_df.reindex(columns=['user_id', 'photo_id', 'duration_time', 'click_probability'])"
   ]
  },
  {
   "cell_type": "code",
   "execution_count": 101,
   "metadata": {
    "scrolled": false
   },
   "outputs": [
    {
     "data": {
      "text/html": [
       "<div>\n",
       "<style scoped>\n",
       "    .dataframe tbody tr th:only-of-type {\n",
       "        vertical-align: middle;\n",
       "    }\n",
       "\n",
       "    .dataframe tbody tr th {\n",
       "        vertical-align: top;\n",
       "    }\n",
       "\n",
       "    .dataframe thead th {\n",
       "        text-align: right;\n",
       "    }\n",
       "</style>\n",
       "<table border=\"1\" class=\"dataframe\">\n",
       "  <thead>\n",
       "    <tr style=\"text-align: right;\">\n",
       "      <th></th>\n",
       "      <th>user_id</th>\n",
       "      <th>photo_id</th>\n",
       "      <th>duration_time</th>\n",
       "      <th>click_probability</th>\n",
       "    </tr>\n",
       "  </thead>\n",
       "  <tbody>\n",
       "    <tr>\n",
       "      <th>21</th>\n",
       "      <td>1637</td>\n",
       "      <td>7300221</td>\n",
       "      <td>7</td>\n",
       "      <td>NaN</td>\n",
       "    </tr>\n",
       "    <tr>\n",
       "      <th>30</th>\n",
       "      <td>1637</td>\n",
       "      <td>7090577</td>\n",
       "      <td>15</td>\n",
       "      <td>NaN</td>\n",
       "    </tr>\n",
       "    <tr>\n",
       "      <th>47</th>\n",
       "      <td>1637</td>\n",
       "      <td>7427964</td>\n",
       "      <td>17</td>\n",
       "      <td>NaN</td>\n",
       "    </tr>\n",
       "    <tr>\n",
       "      <th>52</th>\n",
       "      <td>1637</td>\n",
       "      <td>7115682</td>\n",
       "      <td>140</td>\n",
       "      <td>NaN</td>\n",
       "    </tr>\n",
       "    <tr>\n",
       "      <th>56</th>\n",
       "      <td>1637</td>\n",
       "      <td>7089041</td>\n",
       "      <td>15</td>\n",
       "      <td>NaN</td>\n",
       "    </tr>\n",
       "  </tbody>\n",
       "</table>\n",
       "</div>"
      ],
      "text/plain": [
       "    user_id  photo_id  duration_time  click_probability\n",
       "21     1637   7300221              7                NaN\n",
       "30     1637   7090577             15                NaN\n",
       "47     1637   7427964             17                NaN\n",
       "52     1637   7115682            140                NaN\n",
       "56     1637   7089041             15                NaN"
      ]
     },
     "execution_count": 101,
     "metadata": {},
     "output_type": "execute_result"
    }
   ],
   "source": [
    "pred_df.head()"
   ]
  },
  {
   "cell_type": "code",
   "execution_count": 102,
   "metadata": {},
   "outputs": [],
   "source": [
    "# 装载预测模型\n",
    "\n",
    "pred_models = {}\n",
    "\n",
    "for user_id in pred_df.user_id.unique():\n",
    "    pred_models[user_id] = joblib.load('../out/pred_user_interaction_model/' + str(user_id))\n",
    "    "
   ]
  },
  {
   "cell_type": "code",
   "execution_count": 103,
   "metadata": {},
   "outputs": [],
   "source": [
    "# 预测函数\n",
    "\n",
    "def predict(row):\n",
    "    user_id = row.user_id\n",
    "    clf = pred_models[user_id]\n",
    "    pred_X = enc.transform([[to_category(row.duration_time)]]).toarray()\n",
    "    pred_y = clf.predict_proba(pred_X)\n",
    "#     index = np.where(clf.classes_ == 1)[0][0]\n",
    "#     pred_y = pred_y[0, index]\n",
    "    pred_y = pred_y[0]\n",
    "#     print(pred_y)\n",
    "    pred_y = round(pred_y, 6)\n",
    "    return pred_y\n"
   ]
  },
  {
   "cell_type": "code",
   "execution_count": 104,
   "metadata": {},
   "outputs": [],
   "source": [
    "# 填充click_probability列\n",
    "\n",
    "import numpy as np\n",
    "\n",
    "pred_df.click_probability = pred_df.apply(predict, axis = 1)\n"
   ]
  },
  {
   "cell_type": "code",
   "execution_count": 105,
   "metadata": {},
   "outputs": [
    {
     "data": {
      "text/html": [
       "<div>\n",
       "<style scoped>\n",
       "    .dataframe tbody tr th:only-of-type {\n",
       "        vertical-align: middle;\n",
       "    }\n",
       "\n",
       "    .dataframe tbody tr th {\n",
       "        vertical-align: top;\n",
       "    }\n",
       "\n",
       "    .dataframe thead th {\n",
       "        text-align: right;\n",
       "    }\n",
       "</style>\n",
       "<table border=\"1\" class=\"dataframe\">\n",
       "  <thead>\n",
       "    <tr style=\"text-align: right;\">\n",
       "      <th></th>\n",
       "      <th>user_id</th>\n",
       "      <th>photo_id</th>\n",
       "      <th>click_probability</th>\n",
       "    </tr>\n",
       "  </thead>\n",
       "  <tbody>\n",
       "    <tr>\n",
       "      <th>21</th>\n",
       "      <td>1637</td>\n",
       "      <td>7300221</td>\n",
       "      <td>0.230233</td>\n",
       "    </tr>\n",
       "    <tr>\n",
       "      <th>30</th>\n",
       "      <td>1637</td>\n",
       "      <td>7090577</td>\n",
       "      <td>0.224465</td>\n",
       "    </tr>\n",
       "    <tr>\n",
       "      <th>47</th>\n",
       "      <td>1637</td>\n",
       "      <td>7427964</td>\n",
       "      <td>0.224465</td>\n",
       "    </tr>\n",
       "    <tr>\n",
       "      <th>52</th>\n",
       "      <td>1637</td>\n",
       "      <td>7115682</td>\n",
       "      <td>0.151340</td>\n",
       "    </tr>\n",
       "    <tr>\n",
       "      <th>56</th>\n",
       "      <td>1637</td>\n",
       "      <td>7089041</td>\n",
       "      <td>0.224465</td>\n",
       "    </tr>\n",
       "  </tbody>\n",
       "</table>\n",
       "</div>"
      ],
      "text/plain": [
       "    user_id  photo_id  click_probability\n",
       "21     1637   7300221           0.230233\n",
       "30     1637   7090577           0.224465\n",
       "47     1637   7427964           0.224465\n",
       "52     1637   7115682           0.151340\n",
       "56     1637   7089041           0.224465"
      ]
     },
     "execution_count": 105,
     "metadata": {},
     "output_type": "execute_result"
    }
   ],
   "source": [
    "pred_df = pred_df[['user_id', 'photo_id', 'click_probability']]\n",
    "pred_df.head()\n",
    "# pred_df[pred_df.user_id == 14584]"
   ]
  },
  {
   "cell_type": "markdown",
   "metadata": {},
   "source": [
    "## 导出"
   ]
  },
  {
   "cell_type": "code",
   "execution_count": 106,
   "metadata": {},
   "outputs": [],
   "source": [
    "# 导出预测结果\n",
    "pred_df.to_csv('../out/pred_user_interaction.txt', index=False, header=False, sep='\\t', float_format='%.6f')"
   ]
  },
  {
   "cell_type": "code",
   "execution_count": 107,
   "metadata": {},
   "outputs": [],
   "source": [
    "valid_interaction_df[['user_id', 'photo_id', 'click']].to_csv('../out/valid.txt', index=False, header=False, sep='\\t')"
   ]
  },
  {
   "cell_type": "markdown",
   "metadata": {},
   "source": [
    "## 评分\n",
    "\n",
    "0.7069625893799051 - 平均值法\n",
    "\n",
    "0.7139489062279162 - time(0~23)、duration_time（0~7），lr\n",
    "\n",
    "0.706982582265217 - duration_time（0~7），lr\n",
    "\n",
    "0.708038438407235 - time(0~23)、duration_time（0~7），svm\n",
    "\n",
    "0.7277412553636792 - time(0~23)、duration_time（0~7)，fm\n",
    "\n",
    "0.7079793848125076 - duration_time（0~7)，fm"
   ]
  },
  {
   "cell_type": "code",
   "execution_count": 108,
   "metadata": {},
   "outputs": [
    {
     "name": "stdout",
     "output_type": "stream",
     "text": [
      "{'code': 0, 'message': 'validation success'}\n",
      "{'code': 0, 'score': 0.7079793848125076, 'message': 'success'}\n"
     ]
    }
   ],
   "source": [
    "%run evaluation_script.py ../out/pred_user_interaction.txt ../out/valid.txt"
   ]
  }
 ],
 "metadata": {
  "kernelspec": {
   "display_name": "Python 3",
   "language": "python",
   "name": "python3"
  },
  "language_info": {
   "codemirror_mode": {
    "name": "ipython",
    "version": 3
   },
   "file_extension": ".py",
   "mimetype": "text/x-python",
   "name": "python",
   "nbconvert_exporter": "python",
   "pygments_lexer": "ipython3",
   "version": "3.6.4"
  }
 },
 "nbformat": 4,
 "nbformat_minor": 1
}
