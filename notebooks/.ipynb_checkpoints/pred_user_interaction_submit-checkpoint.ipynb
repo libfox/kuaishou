{
 "cells": [
  {
   "cell_type": "code",
   "execution_count": 1,
   "metadata": {},
   "outputs": [],
   "source": [
    "# from IPython.core.interactiveshell import InteractiveShell\n",
    "# InteractiveShell.ast_node_interactivity = \"all\"\n",
    "\n",
    "%matplotlib inline"
   ]
  },
  {
   "cell_type": "markdown",
   "metadata": {},
   "source": [
    "## 交互数据"
   ]
  },
  {
   "cell_type": "code",
   "execution_count": 2,
   "metadata": {},
   "outputs": [],
   "source": [
    "import pandas as pd\n",
    "\n",
    "train_interaction_df = pd.read_table(\n",
    "    '../data/train_interaction.txt', \n",
    "    names=['user_id', 'photo_id', 'click', 'like', 'follow', 'time', 'playing_time', 'duration_time']\n",
    ")"
   ]
  },
  {
   "cell_type": "code",
   "execution_count": 3,
   "metadata": {},
   "outputs": [
    {
     "data": {
      "text/html": [
       "<div>\n",
       "<style scoped>\n",
       "    .dataframe tbody tr th:only-of-type {\n",
       "        vertical-align: middle;\n",
       "    }\n",
       "\n",
       "    .dataframe tbody tr th {\n",
       "        vertical-align: top;\n",
       "    }\n",
       "\n",
       "    .dataframe thead th {\n",
       "        text-align: right;\n",
       "    }\n",
       "</style>\n",
       "<table border=\"1\" class=\"dataframe\">\n",
       "  <thead>\n",
       "    <tr style=\"text-align: right;\">\n",
       "      <th></th>\n",
       "      <th>user_id</th>\n",
       "      <th>photo_id</th>\n",
       "      <th>click</th>\n",
       "      <th>like</th>\n",
       "      <th>follow</th>\n",
       "      <th>time</th>\n",
       "      <th>playing_time</th>\n",
       "      <th>duration_time</th>\n",
       "    </tr>\n",
       "  </thead>\n",
       "  <tbody>\n",
       "    <tr>\n",
       "      <th>0</th>\n",
       "      <td>1637</td>\n",
       "      <td>6484142</td>\n",
       "      <td>0</td>\n",
       "      <td>0</td>\n",
       "      <td>0</td>\n",
       "      <td>761036604603</td>\n",
       "      <td>0</td>\n",
       "      <td>11</td>\n",
       "    </tr>\n",
       "    <tr>\n",
       "      <th>1</th>\n",
       "      <td>1637</td>\n",
       "      <td>4647664</td>\n",
       "      <td>0</td>\n",
       "      <td>0</td>\n",
       "      <td>0</td>\n",
       "      <td>761035501863</td>\n",
       "      <td>0</td>\n",
       "      <td>11</td>\n",
       "    </tr>\n",
       "    <tr>\n",
       "      <th>2</th>\n",
       "      <td>1637</td>\n",
       "      <td>4994626</td>\n",
       "      <td>1</td>\n",
       "      <td>0</td>\n",
       "      <td>0</td>\n",
       "      <td>761036933553</td>\n",
       "      <td>11</td>\n",
       "      <td>10</td>\n",
       "    </tr>\n",
       "    <tr>\n",
       "      <th>3</th>\n",
       "      <td>1637</td>\n",
       "      <td>4416881</td>\n",
       "      <td>0</td>\n",
       "      <td>0</td>\n",
       "      <td>0</td>\n",
       "      <td>761119247892</td>\n",
       "      <td>0</td>\n",
       "      <td>9</td>\n",
       "    </tr>\n",
       "    <tr>\n",
       "      <th>4</th>\n",
       "      <td>1637</td>\n",
       "      <td>2597756</td>\n",
       "      <td>0</td>\n",
       "      <td>0</td>\n",
       "      <td>0</td>\n",
       "      <td>761119421332</td>\n",
       "      <td>0</td>\n",
       "      <td>11</td>\n",
       "    </tr>\n",
       "  </tbody>\n",
       "</table>\n",
       "</div>"
      ],
      "text/plain": [
       "   user_id  photo_id  click  like  follow          time  playing_time  \\\n",
       "0     1637   6484142      0     0       0  761036604603             0   \n",
       "1     1637   4647664      0     0       0  761035501863             0   \n",
       "2     1637   4994626      1     0       0  761036933553            11   \n",
       "3     1637   4416881      0     0       0  761119247892             0   \n",
       "4     1637   2597756      0     0       0  761119421332             0   \n",
       "\n",
       "   duration_time  \n",
       "0             11  \n",
       "1             11  \n",
       "2             10  \n",
       "3              9  \n",
       "4             11  "
      ]
     },
     "execution_count": 3,
     "metadata": {},
     "output_type": "execute_result"
    }
   ],
   "source": [
    "train_interaction_df.head()"
   ]
  },
  {
   "cell_type": "code",
   "execution_count": 4,
   "metadata": {},
   "outputs": [],
   "source": [
    "test_interaction_df = pd.read_table(\n",
    "    '../data/test_interaction.txt',\n",
    "    names=['user_id', 'photo_id', 'time', 'duration_time']\n",
    ")"
   ]
  },
  {
   "cell_type": "code",
   "execution_count": 5,
   "metadata": {},
   "outputs": [
    {
     "data": {
      "text/html": [
       "<div>\n",
       "<style scoped>\n",
       "    .dataframe tbody tr th:only-of-type {\n",
       "        vertical-align: middle;\n",
       "    }\n",
       "\n",
       "    .dataframe tbody tr th {\n",
       "        vertical-align: top;\n",
       "    }\n",
       "\n",
       "    .dataframe thead th {\n",
       "        text-align: right;\n",
       "    }\n",
       "</style>\n",
       "<table border=\"1\" class=\"dataframe\">\n",
       "  <thead>\n",
       "    <tr style=\"text-align: right;\">\n",
       "      <th></th>\n",
       "      <th>user_id</th>\n",
       "      <th>photo_id</th>\n",
       "      <th>time</th>\n",
       "      <th>duration_time</th>\n",
       "    </tr>\n",
       "  </thead>\n",
       "  <tbody>\n",
       "    <tr>\n",
       "      <th>0</th>\n",
       "      <td>29999</td>\n",
       "      <td>8154819</td>\n",
       "      <td>761158905921</td>\n",
       "      <td>17</td>\n",
       "    </tr>\n",
       "    <tr>\n",
       "      <th>1</th>\n",
       "      <td>29999</td>\n",
       "      <td>8374672</td>\n",
       "      <td>761163438550</td>\n",
       "      <td>9</td>\n",
       "    </tr>\n",
       "    <tr>\n",
       "      <th>2</th>\n",
       "      <td>29999</td>\n",
       "      <td>7987126</td>\n",
       "      <td>761143659968</td>\n",
       "      <td>11</td>\n",
       "    </tr>\n",
       "    <tr>\n",
       "      <th>3</th>\n",
       "      <td>29999</td>\n",
       "      <td>7912672</td>\n",
       "      <td>761159000400</td>\n",
       "      <td>17</td>\n",
       "    </tr>\n",
       "    <tr>\n",
       "      <th>4</th>\n",
       "      <td>29999</td>\n",
       "      <td>9062638</td>\n",
       "      <td>761163738888</td>\n",
       "      <td>11</td>\n",
       "    </tr>\n",
       "  </tbody>\n",
       "</table>\n",
       "</div>"
      ],
      "text/plain": [
       "   user_id  photo_id          time  duration_time\n",
       "0    29999   8154819  761158905921             17\n",
       "1    29999   8374672  761163438550              9\n",
       "2    29999   7987126  761143659968             11\n",
       "3    29999   7912672  761159000400             17\n",
       "4    29999   9062638  761163738888             11"
      ]
     },
     "execution_count": 5,
     "metadata": {},
     "output_type": "execute_result"
    }
   ],
   "source": [
    "test_interaction_df.head()"
   ]
  },
  {
   "cell_type": "markdown",
   "metadata": {},
   "source": [
    "## 训练集"
   ]
  },
  {
   "cell_type": "code",
   "execution_count": 6,
   "metadata": {},
   "outputs": [
    {
     "data": {
      "text/html": [
       "<div>\n",
       "<style scoped>\n",
       "    .dataframe tbody tr th:only-of-type {\n",
       "        vertical-align: middle;\n",
       "    }\n",
       "\n",
       "    .dataframe tbody tr th {\n",
       "        vertical-align: top;\n",
       "    }\n",
       "\n",
       "    .dataframe thead th {\n",
       "        text-align: right;\n",
       "    }\n",
       "</style>\n",
       "<table border=\"1\" class=\"dataframe\">\n",
       "  <thead>\n",
       "    <tr style=\"text-align: right;\">\n",
       "      <th></th>\n",
       "      <th>user_id</th>\n",
       "      <th>photo_id</th>\n",
       "      <th>time</th>\n",
       "      <th>duration_time</th>\n",
       "      <th>click</th>\n",
       "    </tr>\n",
       "  </thead>\n",
       "  <tbody>\n",
       "    <tr>\n",
       "      <th>0</th>\n",
       "      <td>1637</td>\n",
       "      <td>6484142</td>\n",
       "      <td>761036604603</td>\n",
       "      <td>11</td>\n",
       "      <td>0</td>\n",
       "    </tr>\n",
       "    <tr>\n",
       "      <th>1</th>\n",
       "      <td>1637</td>\n",
       "      <td>4647664</td>\n",
       "      <td>761035501863</td>\n",
       "      <td>11</td>\n",
       "      <td>0</td>\n",
       "    </tr>\n",
       "    <tr>\n",
       "      <th>2</th>\n",
       "      <td>1637</td>\n",
       "      <td>4994626</td>\n",
       "      <td>761036933553</td>\n",
       "      <td>10</td>\n",
       "      <td>1</td>\n",
       "    </tr>\n",
       "    <tr>\n",
       "      <th>3</th>\n",
       "      <td>1637</td>\n",
       "      <td>4416881</td>\n",
       "      <td>761119247892</td>\n",
       "      <td>9</td>\n",
       "      <td>0</td>\n",
       "    </tr>\n",
       "    <tr>\n",
       "      <th>4</th>\n",
       "      <td>1637</td>\n",
       "      <td>2597756</td>\n",
       "      <td>761119421332</td>\n",
       "      <td>11</td>\n",
       "      <td>0</td>\n",
       "    </tr>\n",
       "  </tbody>\n",
       "</table>\n",
       "</div>"
      ],
      "text/plain": [
       "   user_id  photo_id          time  duration_time  click\n",
       "0     1637   6484142  761036604603             11      0\n",
       "1     1637   4647664  761035501863             11      0\n",
       "2     1637   4994626  761036933553             10      1\n",
       "3     1637   4416881  761119247892              9      0\n",
       "4     1637   2597756  761119421332             11      0"
      ]
     },
     "execution_count": 6,
     "metadata": {},
     "output_type": "execute_result"
    }
   ],
   "source": [
    "train_df = train_interaction_df[['user_id', 'photo_id', 'time', 'duration_time', 'click']]\n",
    "train_df.head()"
   ]
  },
  {
   "cell_type": "markdown",
   "metadata": {},
   "source": [
    "## 测试集"
   ]
  },
  {
   "cell_type": "code",
   "execution_count": 7,
   "metadata": {},
   "outputs": [
    {
     "data": {
      "text/html": [
       "<div>\n",
       "<style scoped>\n",
       "    .dataframe tbody tr th:only-of-type {\n",
       "        vertical-align: middle;\n",
       "    }\n",
       "\n",
       "    .dataframe tbody tr th {\n",
       "        vertical-align: top;\n",
       "    }\n",
       "\n",
       "    .dataframe thead th {\n",
       "        text-align: right;\n",
       "    }\n",
       "</style>\n",
       "<table border=\"1\" class=\"dataframe\">\n",
       "  <thead>\n",
       "    <tr style=\"text-align: right;\">\n",
       "      <th></th>\n",
       "      <th>user_id</th>\n",
       "      <th>photo_id</th>\n",
       "      <th>time</th>\n",
       "      <th>duration_time</th>\n",
       "      <th>click</th>\n",
       "    </tr>\n",
       "  </thead>\n",
       "  <tbody>\n",
       "    <tr>\n",
       "      <th>0</th>\n",
       "      <td>29999</td>\n",
       "      <td>8154819</td>\n",
       "      <td>761158905921</td>\n",
       "      <td>17</td>\n",
       "      <td>NaN</td>\n",
       "    </tr>\n",
       "    <tr>\n",
       "      <th>1</th>\n",
       "      <td>29999</td>\n",
       "      <td>8374672</td>\n",
       "      <td>761163438550</td>\n",
       "      <td>9</td>\n",
       "      <td>NaN</td>\n",
       "    </tr>\n",
       "    <tr>\n",
       "      <th>2</th>\n",
       "      <td>29999</td>\n",
       "      <td>7987126</td>\n",
       "      <td>761143659968</td>\n",
       "      <td>11</td>\n",
       "      <td>NaN</td>\n",
       "    </tr>\n",
       "    <tr>\n",
       "      <th>3</th>\n",
       "      <td>29999</td>\n",
       "      <td>7912672</td>\n",
       "      <td>761159000400</td>\n",
       "      <td>17</td>\n",
       "      <td>NaN</td>\n",
       "    </tr>\n",
       "    <tr>\n",
       "      <th>4</th>\n",
       "      <td>29999</td>\n",
       "      <td>9062638</td>\n",
       "      <td>761163738888</td>\n",
       "      <td>11</td>\n",
       "      <td>NaN</td>\n",
       "    </tr>\n",
       "  </tbody>\n",
       "</table>\n",
       "</div>"
      ],
      "text/plain": [
       "   user_id  photo_id          time  duration_time  click\n",
       "0    29999   8154819  761158905921             17    NaN\n",
       "1    29999   8374672  761163438550              9    NaN\n",
       "2    29999   7987126  761143659968             11    NaN\n",
       "3    29999   7912672  761159000400             17    NaN\n",
       "4    29999   9062638  761163738888             11    NaN"
      ]
     },
     "execution_count": 7,
     "metadata": {},
     "output_type": "execute_result"
    }
   ],
   "source": [
    "test_df = test_interaction_df.reindex(columns=['user_id', 'photo_id', 'time', 'duration_time', 'click'])\n",
    "test_df.head()"
   ]
  },
  {
   "cell_type": "markdown",
   "metadata": {},
   "source": [
    "## 训练"
   ]
  },
  {
   "cell_type": "code",
   "execution_count": 8,
   "metadata": {},
   "outputs": [],
   "source": [
    "# time戳转为0~23小时\n",
    "def to_hour(time):\n",
    "    return int(time/3600000)%24"
   ]
  },
  {
   "cell_type": "code",
   "execution_count": 9,
   "metadata": {},
   "outputs": [],
   "source": [
    "# duration_time转为 0, 1~10, 11~20, 21~30, 31~40, 41~50, 51~60, >61\n",
    "import math\n",
    "\n",
    "def to_category(duration_time):\n",
    "    r = math.ceil(duration_time / 10)\n",
    "    if r > 7:\n",
    "        r = 7\n",
    "    return r"
   ]
  },
  {
   "cell_type": "code",
   "execution_count": 10,
   "metadata": {},
   "outputs": [],
   "source": [
    "from sklearn import preprocessing\n",
    "from sklearn import linear_model\n",
    "from sklearn import svm\n",
    "from sklearn.externals import joblib\n",
    "\n",
    "# 热值编码器（0~23小时，0~7时长等级）\n",
    "enc = preprocessing.OneHotEncoder(n_values=[24, 8])\n",
    "enc.fit([[0, 0]])\n",
    "\n",
    "for user_id in train_df.user_id.unique():\n",
    "    train_X = train_df[train_df.user_id == user_id][['time', 'duration_time']]\n",
    "    train_X.time = train_X.time.apply(to_hour)\n",
    "    train_X.duration_time = train_X.duration_time.apply(to_category)\n",
    "    train_X = train_X.values\n",
    "    train_X = enc.transform(train_X).toarray()\n",
    "    train_y = train_df[train_df.user_id == user_id]['click'].values\n",
    "#     clf = linear_model.LogisticRegression(C=100.0, random_state=0)\n",
    "    clf = linear_model.LogisticRegressionCV()\n",
    "#     clf = svm.SVC(C=100, random_state=0, probability=True, kernel='linear', decision_function_shape='ovo')\n",
    "    clf.fit(train_X, train_y)\n",
    "    joblib.dump(clf, '../submit/pred_user_interaction_model_lr/' + str(user_id))\n",
    "#     joblib.dump(clf, '../submit/pred_user_interaction_model_svm/' + str(user_id))\n",
    "    "
   ]
  },
  {
   "cell_type": "markdown",
   "metadata": {},
   "source": [
    "## 预测"
   ]
  },
  {
   "cell_type": "code",
   "execution_count": 11,
   "metadata": {},
   "outputs": [],
   "source": [
    "# 装载模型\n",
    "models = {}\n",
    "for user_id in test_df.user_id.unique():\n",
    "    models[user_id] = joblib.load('../submit/pred_user_interaction_model_lr/' + str(user_id))\n",
    "#     models[user_id] = joblib.load('../submit/pred_user_interaction_model_svm/' + str(user_id))"
   ]
  },
  {
   "cell_type": "code",
   "execution_count": 12,
   "metadata": {},
   "outputs": [],
   "source": [
    "# 预测函数\n",
    "\n",
    "def predict(row):\n",
    "    user_id = row.user_id\n",
    "    clf = models[user_id]\n",
    "    pred_X = enc.transform([[to_hour(row.time), to_category(row.duration_time)]]).toarray()\n",
    "    pred_y = clf.predict_proba(pred_X)\n",
    "    index = np.where(clf.classes_ == 1)[0][0]\n",
    "    pred_y = pred_y[0, index]\n",
    "    pred_y = round(pred_y, 6)\n",
    "    return pred_y\n"
   ]
  },
  {
   "cell_type": "code",
   "execution_count": 13,
   "metadata": {},
   "outputs": [],
   "source": [
    "# 填充click_probability列\n",
    "import numpy as np\n",
    "\n",
    "test_df.click = test_df.apply(predict, axis = 1)"
   ]
  },
  {
   "cell_type": "code",
   "execution_count": 14,
   "metadata": {},
   "outputs": [
    {
     "data": {
      "text/html": [
       "<div>\n",
       "<style scoped>\n",
       "    .dataframe tbody tr th:only-of-type {\n",
       "        vertical-align: middle;\n",
       "    }\n",
       "\n",
       "    .dataframe tbody tr th {\n",
       "        vertical-align: top;\n",
       "    }\n",
       "\n",
       "    .dataframe thead th {\n",
       "        text-align: right;\n",
       "    }\n",
       "</style>\n",
       "<table border=\"1\" class=\"dataframe\">\n",
       "  <thead>\n",
       "    <tr style=\"text-align: right;\">\n",
       "      <th></th>\n",
       "      <th>user_id</th>\n",
       "      <th>photo_id</th>\n",
       "      <th>click</th>\n",
       "    </tr>\n",
       "  </thead>\n",
       "  <tbody>\n",
       "    <tr>\n",
       "      <th>0</th>\n",
       "      <td>29999</td>\n",
       "      <td>8154819</td>\n",
       "      <td>0.337003</td>\n",
       "    </tr>\n",
       "    <tr>\n",
       "      <th>1</th>\n",
       "      <td>29999</td>\n",
       "      <td>8374672</td>\n",
       "      <td>0.336918</td>\n",
       "    </tr>\n",
       "    <tr>\n",
       "      <th>2</th>\n",
       "      <td>29999</td>\n",
       "      <td>7987126</td>\n",
       "      <td>0.337003</td>\n",
       "    </tr>\n",
       "    <tr>\n",
       "      <th>3</th>\n",
       "      <td>29999</td>\n",
       "      <td>7912672</td>\n",
       "      <td>0.337003</td>\n",
       "    </tr>\n",
       "    <tr>\n",
       "      <th>4</th>\n",
       "      <td>29999</td>\n",
       "      <td>9062638</td>\n",
       "      <td>0.336913</td>\n",
       "    </tr>\n",
       "  </tbody>\n",
       "</table>\n",
       "</div>"
      ],
      "text/plain": [
       "   user_id  photo_id     click\n",
       "0    29999   8154819  0.337003\n",
       "1    29999   8374672  0.336918\n",
       "2    29999   7987126  0.337003\n",
       "3    29999   7912672  0.337003\n",
       "4    29999   9062638  0.336913"
      ]
     },
     "execution_count": 14,
     "metadata": {},
     "output_type": "execute_result"
    }
   ],
   "source": [
    "test_df = test_df[['user_id', 'photo_id', 'click']]\n",
    "test_df.head()"
   ]
  },
  {
   "cell_type": "markdown",
   "metadata": {},
   "source": [
    "## 导出"
   ]
  },
  {
   "cell_type": "code",
   "execution_count": 15,
   "metadata": {},
   "outputs": [],
   "source": [
    "# 导出预测结果\n",
    "test_df.to_csv('../submit/pred_user_interaction_lr.txt', index=False, header=False, sep='\\t', float_format='%.6f')\n",
    "# test_df.to_csv('../submit/pred_user_interaction_svm.txt', index=False, header=False, sep='\\t', float_format='%.6f')"
   ]
  },
  {
   "cell_type": "markdown",
   "metadata": {},
   "source": [
    "## 评分\n",
    "\n",
    "0.639526"
   ]
  }
 ],
 "metadata": {
  "kernelspec": {
   "display_name": "Python 3",
   "language": "python",
   "name": "python3"
  },
  "language_info": {
   "codemirror_mode": {
    "name": "ipython",
    "version": 3
   },
   "file_extension": ".py",
   "mimetype": "text/x-python",
   "name": "python",
   "nbconvert_exporter": "python",
   "pygments_lexer": "ipython3",
   "version": "3.6.4"
  }
 },
 "nbformat": 4,
 "nbformat_minor": 1
}
