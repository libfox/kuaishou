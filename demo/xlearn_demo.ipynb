{
 "cells": [
  {
   "cell_type": "code",
   "execution_count": 1,
   "metadata": {},
   "outputs": [],
   "source": [
    "from IPython.core.interactiveshell import InteractiveShell\n",
    "InteractiveShell.ast_node_interactivity = \"all\"\n",
    "\n",
    "%matplotlib inline"
   ]
  },
  {
   "cell_type": "code",
   "execution_count": 2,
   "metadata": {},
   "outputs": [
    {
     "name": "stdout",
     "output_type": "stream",
     "text": [
      "1 0:0:0.3651 2:1163:0.3651 3:8672:0.3651 4:2183:0.3651 5:2332:0.3651 6:185:0.3651 7:2569:0.3651 8:8131:0.3651 9:5483:0.3651 10:215:0.3651 11:1520:0.3651 12:1232:0.3651 13:2738:0.3651 14:2935:0.3651 15:5428:0.3651 17:2434:0.50000 16:7755:0.50000\r\n",
      "0 1:1988:0.3651 2:400:0.3651 3:1243:0.3651 4:2183:0.3651 5:2847:0.3651 6:185:0.3651 7:7196:0.3651 8:1343:0.3651 9:3899:0.3651 10:9493:0.3651 11:1520:0.3651 12:9714:0.3651 13:2738:0.3651 14:2935:0.3651 15:5428:0.3651 17:7148:0.50000 16:1828:0.50000\r\n",
      "0 1:7633:0.3651 2:8195:0.3651 3:9952:0.3651 4:9619:0.3651 5:9882:0.3651 6:185:0.3651 7:3479:0.3651 8:3373:0.3651 9:7873:0.3651 10:5989:0.3651 11:1520:0.3651 12:4520:0.3651 13:2738:0.3651 14:2935:0.3651 15:5428:0.3651 17:3723:0.50000 16:928:0.50000\r\n",
      "1 1:7593:0.3651 2:9126:0.3651 3:9952:0.3651 4:2183:0.3651 5:5525:0.3651 6:5918:0.3651 7:1969:0.3651 8:3240:0.3651 9:3899:0.3651 10:3387:0.3651 11:1520:0.3651 12:9714:0.3651 13:2738:0.3651 14:2935:0.3651 15:5428:0.3651 17:8692:0.50000 16:1861:0.50000\r\n",
      "0 1:4222:0.3651 2:1163:0.3651 3:8672:0.3651 4:2183:0.3651 5:3780:0.3651 6:185:0.3651 7:2569:0.3651 8:8131:0.3651 9:3899:0.3651 10:215:0.3651 11:1520:0.3651 12:2565:0.3651 13:2738:0.3651 14:8813:0.3651 15:6145:0.3651 17:2434:0.50000 16:7755:0.50000\r\n"
     ]
    }
   ],
   "source": [
    "!head -n 5 ./small_train.txt"
   ]
  },
  {
   "cell_type": "code",
   "execution_count": 3,
   "metadata": {},
   "outputs": [
    {
     "name": "stdout",
     "output_type": "stream",
     "text": [
      "0 1:7759:0.3651 2:7921:0.3651 3:8661:0.3651 4:9619:0.3651 5:2757:0.3651 6:185:0.3651 7:9637:0.3651 8:8131:0.3651 9:3899:0.3651 10:215:0.3651 11:1520:0.3651 12:4961:0.3651 13:2738:0.3651 14:2935:0.3651 15:1929:0.3651 17:8323:0.22361 17:2434:0.44721 16:7755:0.44721 16:2974:0.22361\r\n",
      "0 1:7633:0.3651 2:8195:0.3651 3:9952:0.3651 4:9619:0.3651 5:3780:0.3651 6:185:0.3651 7:6283:0.3651 8:9436:0.3651 9:381:0.3651 10:4465:0.3651 11:1520:0.3651 12:9714:0.3651 13:2738:0.3651 14:2935:0.3651 15:5428:0.3651 17:3723:0.50000 16:928:0.50000\r\n",
      "0 1:319:0.3651 2:5726:0.3651 3:9952:0.3651 4:9619:0.3651 5:2646:0.3651 6:185:0.3651 7:5998:0.3651 8:5716:0.3651 9:4861:0.3651 10:7408:0.3651 11:1520:0.3651 12:9714:0.3651 13:2738:0.3651 14:2935:0.3651 15:5428:0.3651 17:4342:0.50000 16:3352:0.50000\r\n",
      "1 1:7633:0.3651 2:8195:0.3651 3:9952:0.3651 4:9619:0.3651 5:5947:0.3651 6:185:0.3651 7:8937:0.3651 8:7183:0.3651 9:5616:0.3651 10:5620:0.3651 11:1520:0.3651 12:9714:0.3651 13:2738:0.3651 14:2935:0.3651 15:5428:0.3651 17:3723:0.50000 16:928:0.50000\r\n",
      "1 1:4222:0.3651 2:1163:0.3651 3:8672:0.3651 4:2183:0.3651 5:114:0.3651 6:185:0.3651 7:1424:0.3651 8:8131:0.3651 9:5483:0.3651 10:215:0.3651 11:1520:0.3651 12:143:0.3651 13:2738:0.3651 14:2935:0.3651 15:5428:0.3651 17:2434:0.50000 16:7755:0.50000\r\n"
     ]
    }
   ],
   "source": [
    "!head -n 5 ./small_test.txt"
   ]
  },
  {
   "cell_type": "code",
   "execution_count": 7,
   "metadata": {},
   "outputs": [],
   "source": [
    "import xlearn as xl\n",
    "\n",
    "# Training task\n",
    "ffm_model = xl.create_ffm()  # Use field-aware factorization machine\n",
    "ffm_model.setTrain(\"./small_train.txt\")   # Training data\n",
    "ffm_model.setValidate(\"./small_test.txt\")  # Validation data\n",
    "\n",
    "# param:\n",
    "#  0. binary classification\n",
    "#  1. learning rate : 0.2\n",
    "#  2. regular lambda : 0.002\n",
    "param = {'task':'binary', 'lr':0.2, 'lambda':0.002, 'metric': 'auc'}\n",
    "\n",
    "# Train model\n",
    "ffm_model.fit(param, \"./model.out\")"
   ]
  },
  {
   "cell_type": "code",
   "execution_count": 8,
   "metadata": {},
   "outputs": [],
   "source": [
    "ffm_model.setTest(\"./small_test.txt\")\n",
    "ffm_model.setSigmoid()\n",
    "ffm_model.predict(\"./model.out\", \"./output.txt\")"
   ]
  },
  {
   "cell_type": "code",
   "execution_count": 9,
   "metadata": {},
   "outputs": [
    {
     "name": "stdout",
     "output_type": "stream",
     "text": [
      "0.187317\r\n",
      "0.316837\r\n",
      "0.2864\r\n",
      "0.322068\r\n",
      "0.221576\r\n"
     ]
    }
   ],
   "source": [
    "!head -n 5 ./output.txt"
   ]
  },
  {
   "cell_type": "markdown",
   "metadata": {},
   "source": [
    "## Scikit-learn api for xLearn"
   ]
  },
  {
   "cell_type": "code",
   "execution_count": 137,
   "metadata": {},
   "outputs": [],
   "source": [
    "import numpy as np\n",
    "import xlearn as xl\n",
    "\n",
    "# param:\n",
    "#  0. binary classification\n",
    "#  1. learning rate: 0.2\n",
    "#  2. epoch number: 10 (auto early-stop)\n",
    "#  3. evaluation metric: accuarcy\n",
    "#  4. use sgd optimization method\n",
    "ffm_model = xl.FFMModel(task='binary', \n",
    "                        epoch = 10,\n",
    "                        lr=0.02, \n",
    "                        reg_lambda=0.002,\n",
    "                        fold = 5,\n",
    "                        metric='auc')\n",
    "# Start to train\n",
    "# Directly use string to specify data source\n",
    "ffm_model.fit('./small_train.txt', eval_set='./small_test.txt')\n",
    "\n",
    "# print model weights\n",
    "# print(ffm_model.weights)\n",
    "\n",
    "# Generate predictions\n",
    "y_pred = ffm_model.predict('./small_test.txt')"
   ]
  },
  {
   "cell_type": "code",
   "execution_count": 138,
   "metadata": {},
   "outputs": [],
   "source": [
    "# y_pred"
   ]
  },
  {
   "cell_type": "code",
   "execution_count": 139,
   "metadata": {},
   "outputs": [],
   "source": [
    "import pandas as pd\n",
    "df = pd.read_table(\n",
    "    './small_test.txt', \n",
    "    names=['y']\n",
    ")\n",
    "df2 = df['y'].str.split(' ', expand=True)\n",
    "y = df2[0].astype('int').values"
   ]
  },
  {
   "cell_type": "code",
   "execution_count": 140,
   "metadata": {},
   "outputs": [
    {
     "data": {
      "text/plain": [
       "0.6057312252964427"
      ]
     },
     "execution_count": 140,
     "metadata": {},
     "output_type": "execute_result"
    }
   ],
   "source": [
    "from sklearn import metrics\n",
    "metrics.roc_auc_score(y, y_pred)"
   ]
  },
  {
   "cell_type": "code",
   "execution_count": null,
   "metadata": {},
   "outputs": [],
   "source": []
  }
 ],
 "metadata": {
  "kernelspec": {
   "display_name": "Python 3",
   "language": "python",
   "name": "python3"
  },
  "language_info": {
   "codemirror_mode": {
    "name": "ipython",
    "version": 3
   },
   "file_extension": ".py",
   "mimetype": "text/x-python",
   "name": "python",
   "nbconvert_exporter": "python",
   "pygments_lexer": "ipython3",
   "version": "3.6.4"
  }
 },
 "nbformat": 4,
 "nbformat_minor": 1
}
